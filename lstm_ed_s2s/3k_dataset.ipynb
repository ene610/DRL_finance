{
  "nbformat": 4,
  "nbformat_minor": 0,
  "metadata": {
    "accelerator": "TPU",
    "colab": {
      "name": "FINAL_PROJECT_ML.ipynb",
      "provenance": []
    },
    "kernelspec": {
      "display_name": "Python 3",
      "name": "python3"
    },
    "language_info": {
      "name": "python"
    }
  },
  "cells": [
    {
      "cell_type": "code",
      "metadata": {
        "id": "Ds3fWpi5pYWK"
      },
      "source": [
        "#https://www.analyticsvidhya.com/blog/2020/10/multivariate-multi-step-time-series-forecasting-using-stacked-lstm-sequence-to-sequence-autoencoder-in-tensorflow-2-0-keras/"
      ],
      "execution_count": 1,
      "outputs": []
    },
    {
      "cell_type": "code",
      "metadata": {
        "id": "rGcmXKD9-U94"
      },
      "source": [
        "# Per avere UNA SOLA PREDIZIONE:\n",
        "#   numero sequence di dataset_test = n_past + n_future\n",
        "#   esempio: dataset_train, dataset_test = dataset[1:4980], dataset[4979:] && n_past = 16 && n_future = 5"
      ],
      "execution_count": 2,
      "outputs": []
    },
    {
      "cell_type": "code",
      "metadata": {
        "id": "jzZ6ONi9Lqf0"
      },
      "source": [
        "import pandas as pd\n",
        "import numpy as np\n",
        "from sklearn.preprocessing import MinMaxScaler\n",
        "import matplotlib.pyplot as plt\n",
        "import tensorflow as tf\n",
        "import os"
      ],
      "execution_count": 3,
      "outputs": []
    },
    {
      "cell_type": "code",
      "metadata": {
        "colab": {
          "base_uri": "https://localhost:8080/",
          "height": 434
        },
        "id": "fqvhUKWILtpe",
        "outputId": "af4db987-4d05-4677-cfb6-c8b92b6568a9"
      },
      "source": [
        "#--------------------- Data Preprocessing --------------------#\n",
        "# Importing and scaling the data\n",
        "#dataset_train = pd.read_csv(\"Bitcoin_Stock_Price_Trainset.csv\")\n",
        "#dataset_train = pd.read_csv('https://github.com/danber93/bitcoin_price_prediction/blob/main/data/Google_Stock_Price_Trainset.csv', skiprows=1)\n",
        "dataset = pd.read_csv('https://github.com/ene610/DRL_finance/blob/main/data/Binance_BTCUSDT_minute.csv?raw=true', skiprows=1)\n",
        "dataset = dataset.tail(3000)\n",
        "print(dataset.shape)\n",
        "dataset"
      ],
      "execution_count": 4,
      "outputs": [
        {
          "output_type": "stream",
          "name": "stdout",
          "text": [
            "(3000, 10)\n"
          ]
        },
        {
          "output_type": "execute_result",
          "data": {
            "text/html": [
              "<div>\n",
              "<style scoped>\n",
              "    .dataframe tbody tr th:only-of-type {\n",
              "        vertical-align: middle;\n",
              "    }\n",
              "\n",
              "    .dataframe tbody tr th {\n",
              "        vertical-align: top;\n",
              "    }\n",
              "\n",
              "    .dataframe thead th {\n",
              "        text-align: right;\n",
              "    }\n",
              "</style>\n",
              "<table border=\"1\" class=\"dataframe\">\n",
              "  <thead>\n",
              "    <tr style=\"text-align: right;\">\n",
              "      <th></th>\n",
              "      <th>unix</th>\n",
              "      <th>date</th>\n",
              "      <th>symbol</th>\n",
              "      <th>open</th>\n",
              "      <th>high</th>\n",
              "      <th>low</th>\n",
              "      <th>close</th>\n",
              "      <th>Volume BTC</th>\n",
              "      <th>Volume USDT</th>\n",
              "      <th>tradecount</th>\n",
              "    </tr>\n",
              "  </thead>\n",
              "  <tbody>\n",
              "    <tr>\n",
              "      <th>327483</th>\n",
              "      <td>1600036740000</td>\n",
              "      <td>2020-09-13 22:39:00</td>\n",
              "      <td>BTC/USDT</td>\n",
              "      <td>10298.88</td>\n",
              "      <td>10298.89</td>\n",
              "      <td>10292.51</td>\n",
              "      <td>10296.52</td>\n",
              "      <td>17.244495</td>\n",
              "      <td>177534.550916</td>\n",
              "      <td>289</td>\n",
              "    </tr>\n",
              "    <tr>\n",
              "      <th>327484</th>\n",
              "      <td>1600036680000</td>\n",
              "      <td>2020-09-13 22:38:00</td>\n",
              "      <td>BTC/USDT</td>\n",
              "      <td>10300.89</td>\n",
              "      <td>10300.89</td>\n",
              "      <td>10296.10</td>\n",
              "      <td>10298.89</td>\n",
              "      <td>15.013661</td>\n",
              "      <td>154609.680902</td>\n",
              "      <td>445</td>\n",
              "    </tr>\n",
              "    <tr>\n",
              "      <th>327485</th>\n",
              "      <td>1600036620000</td>\n",
              "      <td>2020-09-13 22:37:00</td>\n",
              "      <td>BTC/USDT</td>\n",
              "      <td>10298.23</td>\n",
              "      <td>10303.27</td>\n",
              "      <td>10297.67</td>\n",
              "      <td>10300.89</td>\n",
              "      <td>13.120003</td>\n",
              "      <td>135124.459010</td>\n",
              "      <td>339</td>\n",
              "    </tr>\n",
              "    <tr>\n",
              "      <th>327486</th>\n",
              "      <td>1600036560000</td>\n",
              "      <td>2020-09-13 22:36:00</td>\n",
              "      <td>BTC/USDT</td>\n",
              "      <td>10300.04</td>\n",
              "      <td>10300.41</td>\n",
              "      <td>10298.15</td>\n",
              "      <td>10298.23</td>\n",
              "      <td>8.386772</td>\n",
              "      <td>86376.185663</td>\n",
              "      <td>265</td>\n",
              "    </tr>\n",
              "    <tr>\n",
              "      <th>327487</th>\n",
              "      <td>1600036500000</td>\n",
              "      <td>2020-09-13 22:35:00</td>\n",
              "      <td>BTC/USDT</td>\n",
              "      <td>10297.91</td>\n",
              "      <td>10303.38</td>\n",
              "      <td>10297.91</td>\n",
              "      <td>10300.06</td>\n",
              "      <td>23.545223</td>\n",
              "      <td>242527.273000</td>\n",
              "      <td>414</td>\n",
              "    </tr>\n",
              "    <tr>\n",
              "      <th>...</th>\n",
              "      <td>...</td>\n",
              "      <td>...</td>\n",
              "      <td>...</td>\n",
              "      <td>...</td>\n",
              "      <td>...</td>\n",
              "      <td>...</td>\n",
              "      <td>...</td>\n",
              "      <td>...</td>\n",
              "      <td>...</td>\n",
              "      <td>...</td>\n",
              "    </tr>\n",
              "    <tr>\n",
              "      <th>330478</th>\n",
              "      <td>1599857040000</td>\n",
              "      <td>2020-09-11 20:44:00</td>\n",
              "      <td>BTC/USDT</td>\n",
              "      <td>10318.99</td>\n",
              "      <td>10319.72</td>\n",
              "      <td>10316.58</td>\n",
              "      <td>10319.47</td>\n",
              "      <td>14.466964</td>\n",
              "      <td>149266.708094</td>\n",
              "      <td>284</td>\n",
              "    </tr>\n",
              "    <tr>\n",
              "      <th>330479</th>\n",
              "      <td>1599856980000</td>\n",
              "      <td>2020-09-11 20:43:00</td>\n",
              "      <td>BTC/USDT</td>\n",
              "      <td>10319.34</td>\n",
              "      <td>10320.14</td>\n",
              "      <td>10318.89</td>\n",
              "      <td>10319.00</td>\n",
              "      <td>13.548103</td>\n",
              "      <td>139806.963489</td>\n",
              "      <td>187</td>\n",
              "    </tr>\n",
              "    <tr>\n",
              "      <th>330480</th>\n",
              "      <td>1599856920000</td>\n",
              "      <td>2020-09-11 20:42:00</td>\n",
              "      <td>BTC/USDT</td>\n",
              "      <td>10319.50</td>\n",
              "      <td>10320.31</td>\n",
              "      <td>10318.49</td>\n",
              "      <td>10319.34</td>\n",
              "      <td>12.123487</td>\n",
              "      <td>125108.931436</td>\n",
              "      <td>193</td>\n",
              "    </tr>\n",
              "    <tr>\n",
              "      <th>330481</th>\n",
              "      <td>1599856860000</td>\n",
              "      <td>2020-09-11 20:41:00</td>\n",
              "      <td>BTC/USDT</td>\n",
              "      <td>10316.00</td>\n",
              "      <td>10321.09</td>\n",
              "      <td>10316.00</td>\n",
              "      <td>10319.50</td>\n",
              "      <td>16.328427</td>\n",
              "      <td>168497.705251</td>\n",
              "      <td>256</td>\n",
              "    </tr>\n",
              "    <tr>\n",
              "      <th>330482</th>\n",
              "      <td>1599856800000</td>\n",
              "      <td>2020-09-11 20:40:00</td>\n",
              "      <td>BTC/USDT</td>\n",
              "      <td>10317.00</td>\n",
              "      <td>10317.01</td>\n",
              "      <td>10314.36</td>\n",
              "      <td>10316.00</td>\n",
              "      <td>32.997684</td>\n",
              "      <td>340398.477553</td>\n",
              "      <td>342</td>\n",
              "    </tr>\n",
              "  </tbody>\n",
              "</table>\n",
              "<p>3000 rows × 10 columns</p>\n",
              "</div>"
            ],
            "text/plain": [
              "                 unix                 date  ...    Volume USDT  tradecount\n",
              "327483  1600036740000  2020-09-13 22:39:00  ...  177534.550916         289\n",
              "327484  1600036680000  2020-09-13 22:38:00  ...  154609.680902         445\n",
              "327485  1600036620000  2020-09-13 22:37:00  ...  135124.459010         339\n",
              "327486  1600036560000  2020-09-13 22:36:00  ...   86376.185663         265\n",
              "327487  1600036500000  2020-09-13 22:35:00  ...  242527.273000         414\n",
              "...               ...                  ...  ...            ...         ...\n",
              "330478  1599857040000  2020-09-11 20:44:00  ...  149266.708094         284\n",
              "330479  1599856980000  2020-09-11 20:43:00  ...  139806.963489         187\n",
              "330480  1599856920000  2020-09-11 20:42:00  ...  125108.931436         193\n",
              "330481  1599856860000  2020-09-11 20:41:00  ...  168497.705251         256\n",
              "330482  1599856800000  2020-09-11 20:40:00  ...  340398.477553         342\n",
              "\n",
              "[3000 rows x 10 columns]"
            ]
          },
          "metadata": {},
          "execution_count": 4
        }
      ]
    },
    {
      "cell_type": "code",
      "metadata": {
        "colab": {
          "base_uri": "https://localhost:8080/"
        },
        "id": "acGpcXyBrxYx",
        "outputId": "1b31829c-9082-4690-e0b5-0d38f95f6831"
      },
      "source": [
        "# Building features\n",
        "dataset['diff_pct_1'] = ((dataset['close'] / np.roll(dataset['close'], shift=(int(1)))) * 100) - 100\n",
        "dataset['diff_pct_5'] = ((dataset['close'] / np.roll(dataset['close'], shift=(int(5)))) * 100) - 100\n",
        "dataset['diff_pct_15'] = ((dataset['close'] / np.roll(dataset['close'], shift=(int(15)))) * 100) - 100\n",
        "dataset['diff_pct_22'] = ((dataset['close'] / np.roll(dataset['close'], shift=(int(22)))) * 100) - 100\n",
        "\n",
        "print(dataset)"
      ],
      "execution_count": 5,
      "outputs": [
        {
          "output_type": "stream",
          "name": "stdout",
          "text": [
            "                 unix                 date  ... diff_pct_15  diff_pct_22\n",
            "327483  1600036740000  2020-09-13 22:39:00  ...   -0.190961    -0.299493\n",
            "327484  1600036680000  2020-09-13 22:38:00  ...   -0.185984    -0.275386\n",
            "327485  1600036620000  2020-09-13 22:37:00  ...   -0.145310    -0.209832\n",
            "327486  1600036560000  2020-09-13 22:36:00  ...   -0.134018    -0.225162\n",
            "327487  1600036500000  2020-09-13 22:35:00  ...   -0.144257    -0.199019\n",
            "...               ...                  ...  ...         ...          ...\n",
            "330478  1599857040000  2020-09-11 20:44:00  ...   -0.029838    -0.118374\n",
            "330479  1599856980000  2020-09-11 20:43:00  ...   -0.023931    -0.111321\n",
            "330480  1599856920000  2020-09-11 20:42:00  ...   -0.012209    -0.083850\n",
            "330481  1599856860000  2020-09-11 20:41:00  ...   -0.002616    -0.080075\n",
            "330482  1599856800000  2020-09-11 20:40:00  ...   -0.019481    -0.112224\n",
            "\n",
            "[3000 rows x 14 columns]\n"
          ]
        }
      ]
    },
    {
      "cell_type": "code",
      "metadata": {
        "id": "3pFPzw3TcfAy",
        "colab": {
          "base_uri": "https://localhost:8080/"
        },
        "outputId": "7596ac46-0b60-4db2-de8a-34394f9eaa51"
      },
      "source": [
        "# Drop useless columns REFACTOR perché devo aggiungere le colonne per le features\n",
        "#dataset = dataset.iloc[:,6:8].values\n",
        "print(dataset.columns)\n",
        "dataset = dataset.iloc[:, [6, 10, 11, 12, 13]]\n",
        "print(dataset)"
      ],
      "execution_count": 6,
      "outputs": [
        {
          "output_type": "stream",
          "name": "stdout",
          "text": [
            "Index(['unix', 'date', 'symbol', 'open', 'high', 'low', 'close', 'Volume BTC',\n",
            "       'Volume USDT', 'tradecount', 'diff_pct_1', 'diff_pct_5', 'diff_pct_15',\n",
            "       'diff_pct_22'],\n",
            "      dtype='object')\n",
            "           close  diff_pct_1  diff_pct_5  diff_pct_15  diff_pct_22\n",
            "327483  10296.52   -0.188833   -0.222395    -0.190961    -0.299493\n",
            "327484  10298.89    0.023017   -0.194883    -0.185984    -0.275386\n",
            "327485  10300.89    0.019420   -0.178791    -0.145310    -0.209832\n",
            "327486  10298.23   -0.025823   -0.206115    -0.134018    -0.225162\n",
            "327487  10300.06    0.017770   -0.154517    -0.144257    -0.199019\n",
            "...          ...         ...         ...          ...          ...\n",
            "330478  10319.47   -0.029353    0.026171    -0.029838    -0.118374\n",
            "330479  10319.00   -0.004554   -0.023156    -0.023931    -0.111321\n",
            "330480  10319.34    0.003295   -0.013856    -0.012209    -0.083850\n",
            "330481  10319.50    0.001550   -0.016083    -0.002616    -0.080075\n",
            "330482  10316.00   -0.033916   -0.062969    -0.019481    -0.112224\n",
            "\n",
            "[3000 rows x 5 columns]\n"
          ]
        }
      ]
    },
    {
      "cell_type": "code",
      "metadata": {
        "colab": {
          "base_uri": "https://localhost:8080/"
        },
        "id": "BL07_m50bJTS",
        "outputId": "fb165a78-849c-4e6a-d9d9-2733eac414ef"
      },
      "source": [
        "# Split into train and test dataset\n",
        "dataset_train, dataset_test = dataset[1:2936], dataset[2935:]\n",
        "print(dataset_train.shape)\n",
        "print(dataset_test.shape)\n",
        "dataset_train = pd.DataFrame(dataset_train)\n",
        "dataset_test = pd.DataFrame(dataset_test)"
      ],
      "execution_count": 7,
      "outputs": [
        {
          "output_type": "stream",
          "name": "stdout",
          "text": [
            "(2935, 5)\n",
            "(65, 5)\n"
          ]
        }
      ]
    },
    {
      "cell_type": "code",
      "metadata": {
        "colab": {
          "base_uri": "https://localhost:8080/"
        },
        "id": "av49aKbBcBtr",
        "outputId": "65a36567-1a8a-494a-a549-3c7b105095f1"
      },
      "source": [
        "train = dataset_train\n",
        "scalers={}\n",
        "for i in dataset_train.columns:\n",
        "    scaler = MinMaxScaler(feature_range=(-1,1))\n",
        "    s_s = scaler.fit_transform(train[i].values.reshape(-1,1))\n",
        "    s_s=np.reshape(s_s,len(s_s))\n",
        "    scalers['scaler_'+ str(i)] = scaler\n",
        "    train[i]=s_s\n",
        "test = dataset_test\n",
        "for i in dataset_test.columns:\n",
        "    scaler = scalers['scaler_'+ str(i)]\n",
        "    s_s = scaler.transform(test[i].values.reshape(-1,1))\n",
        "    s_s=np.reshape(s_s,len(s_s))\n",
        "    scalers['scaler_'+ str(i)] = scaler\n",
        "    test[i]=s_s\n",
        "print(test.shape)"
      ],
      "execution_count": 8,
      "outputs": [
        {
          "output_type": "stream",
          "name": "stdout",
          "text": [
            "(65, 5)\n"
          ]
        }
      ]
    },
    {
      "cell_type": "code",
      "metadata": {
        "id": "YYkDFNa7cHH2"
      },
      "source": [
        "def split_series(series, n_past, n_future):\n",
        "  #\n",
        "  # n_past ==> no of past observations\n",
        "  #\n",
        "  # n_future ==> no of future observations \n",
        "  #\n",
        "  X, y = list(), list()\n",
        "  print(range(len(series)))\n",
        "  for window_start in range(len(series)):\n",
        "    past_end = window_start + n_past\n",
        "    future_end = past_end + n_future\n",
        "    if future_end > len(series):\n",
        "      break\n",
        "    # slicing the past and future parts of the window\n",
        "    past, future = series[window_start:past_end, :], series[past_end:future_end, :]\n",
        "    X.append(past)\n",
        "    y.append(future)\n",
        "  return np.array(X), np.array(y)"
      ],
      "execution_count": 9,
      "outputs": []
    },
    {
      "cell_type": "code",
      "metadata": {
        "id": "1L-1A-ztcI0X"
      },
      "source": [
        "n_past = 50\n",
        "n_future = 15\n",
        "n_features = 5"
      ],
      "execution_count": 10,
      "outputs": []
    },
    {
      "cell_type": "code",
      "metadata": {
        "id": "W1x8H-UDc8EL",
        "colab": {
          "base_uri": "https://localhost:8080/"
        },
        "outputId": "158b1d6b-80fd-4479-a428-1df22213ff67"
      },
      "source": [
        "X_train, y_train = split_series(train.values,n_past, n_future)\n",
        "X_train = X_train.reshape((X_train.shape[0], X_train.shape[1],n_features))\n",
        "y_train = y_train.reshape((y_train.shape[0], y_train.shape[1], n_features))\n",
        "X_test, y_test = split_series(test.values, n_past, n_future)\n",
        "X_test = X_test.reshape((X_test.shape[0], X_test.shape[1],n_features))\n",
        "y_test = y_test.reshape((y_test.shape[0], y_test.shape[1], n_features))"
      ],
      "execution_count": 11,
      "outputs": [
        {
          "output_type": "stream",
          "name": "stdout",
          "text": [
            "range(0, 2935)\n",
            "range(0, 65)\n"
          ]
        }
      ]
    },
    {
      "cell_type": "code",
      "metadata": {
        "colab": {
          "base_uri": "https://localhost:8080/"
        },
        "id": "oXJqAeNEku8w",
        "outputId": "25a7ebf6-f973-4d06-a918-f1f2eab83327"
      },
      "source": [
        "print(X_train.shape)"
      ],
      "execution_count": 12,
      "outputs": [
        {
          "output_type": "stream",
          "name": "stdout",
          "text": [
            "(2871, 50, 5)\n"
          ]
        }
      ]
    },
    {
      "cell_type": "code",
      "metadata": {
        "colab": {
          "base_uri": "https://localhost:8080/"
        },
        "id": "jEHnUMN-dA_q",
        "outputId": "ee766371-2e34-4514-aa6c-37c5536b8191"
      },
      "source": [
        "# E1D1\n",
        "# n_features ==> no of features at each timestep in the data.\n",
        "#\n",
        "encoder_inputs = tf.keras.layers.Input(shape=(n_past, n_features))\n",
        "encoder_l1 = tf.keras.layers.LSTM(100, return_state=True)\n",
        "encoder_outputs1 = encoder_l1(encoder_inputs)\n",
        "\n",
        "encoder_states1 = encoder_outputs1[1:]\n",
        "\n",
        "#\n",
        "decoder_inputs = tf.keras.layers.RepeatVector(n_future)(encoder_outputs1[0])\n",
        "\n",
        "#\n",
        "decoder_l1 = tf.keras.layers.LSTM(100, return_sequences=True)(decoder_inputs,initial_state = encoder_states1)\n",
        "decoder_outputs1 = tf.keras.layers.TimeDistributed(tf.keras.layers.Dense(n_features))(decoder_l1)\n",
        "\n",
        "#\n",
        "model_e1d1 = tf.keras.models.Model(encoder_inputs,decoder_outputs1)\n",
        "\n",
        "#\n",
        "model_e1d1.summary()"
      ],
      "execution_count": 13,
      "outputs": [
        {
          "output_type": "stream",
          "name": "stdout",
          "text": [
            "Model: \"model\"\n",
            "__________________________________________________________________________________________________\n",
            "Layer (type)                    Output Shape         Param #     Connected to                     \n",
            "==================================================================================================\n",
            "input_1 (InputLayer)            [(None, 50, 5)]      0                                            \n",
            "__________________________________________________________________________________________________\n",
            "lstm (LSTM)                     [(None, 100), (None, 42400       input_1[0][0]                    \n",
            "__________________________________________________________________________________________________\n",
            "repeat_vector (RepeatVector)    (None, 15, 100)      0           lstm[0][0]                       \n",
            "__________________________________________________________________________________________________\n",
            "lstm_1 (LSTM)                   (None, 15, 100)      80400       repeat_vector[0][0]              \n",
            "                                                                 lstm[0][1]                       \n",
            "                                                                 lstm[0][2]                       \n",
            "__________________________________________________________________________________________________\n",
            "time_distributed (TimeDistribut (None, 15, 5)        505         lstm_1[0][0]                     \n",
            "==================================================================================================\n",
            "Total params: 123,305\n",
            "Trainable params: 123,305\n",
            "Non-trainable params: 0\n",
            "__________________________________________________________________________________________________\n"
          ]
        }
      ]
    },
    {
      "cell_type": "code",
      "metadata": {
        "colab": {
          "base_uri": "https://localhost:8080/"
        },
        "id": "WtsnqOTOdGTC",
        "outputId": "2b2780cf-25d7-4e1d-bbd8-715ac279d598"
      },
      "source": [
        "# E2D2\n",
        "# n_features ==> no of features at each timestep in the data.\n",
        "#\n",
        "encoder_inputs = tf.keras.layers.Input(shape=(n_past, n_features))\n",
        "encoder_l1 = tf.keras.layers.LSTM(100,return_sequences = True, return_state=True)\n",
        "encoder_outputs1 = encoder_l1(encoder_inputs)\n",
        "encoder_states1 = encoder_outputs1[1:]\n",
        "encoder_l2 = tf.keras.layers.LSTM(100, return_state=True)\n",
        "encoder_outputs2 = encoder_l2(encoder_outputs1[0])\n",
        "encoder_states2 = encoder_outputs2[1:]\n",
        "#\n",
        "decoder_inputs = tf.keras.layers.RepeatVector(n_future)(encoder_outputs2[0])\n",
        "#\n",
        "decoder_l1 = tf.keras.layers.LSTM(100, return_sequences=True)(decoder_inputs,initial_state = encoder_states1)\n",
        "decoder_l2 = tf.keras.layers.LSTM(100, return_sequences=True)(decoder_l1,initial_state = encoder_states2)\n",
        "decoder_outputs2 = tf.keras.layers.TimeDistributed(tf.keras.layers.Dense(n_features))(decoder_l2)\n",
        "#\n",
        "model_e2d2 = tf.keras.models.Model(encoder_inputs,decoder_outputs2)\n",
        "#\n",
        "model_e2d2.summary()"
      ],
      "execution_count": 14,
      "outputs": [
        {
          "output_type": "stream",
          "name": "stdout",
          "text": [
            "Model: \"model_1\"\n",
            "__________________________________________________________________________________________________\n",
            "Layer (type)                    Output Shape         Param #     Connected to                     \n",
            "==================================================================================================\n",
            "input_2 (InputLayer)            [(None, 50, 5)]      0                                            \n",
            "__________________________________________________________________________________________________\n",
            "lstm_2 (LSTM)                   [(None, 50, 100), (N 42400       input_2[0][0]                    \n",
            "__________________________________________________________________________________________________\n",
            "lstm_3 (LSTM)                   [(None, 100), (None, 80400       lstm_2[0][0]                     \n",
            "__________________________________________________________________________________________________\n",
            "repeat_vector_1 (RepeatVector)  (None, 15, 100)      0           lstm_3[0][0]                     \n",
            "__________________________________________________________________________________________________\n",
            "lstm_4 (LSTM)                   (None, 15, 100)      80400       repeat_vector_1[0][0]            \n",
            "                                                                 lstm_2[0][1]                     \n",
            "                                                                 lstm_2[0][2]                     \n",
            "__________________________________________________________________________________________________\n",
            "lstm_5 (LSTM)                   (None, 15, 100)      80400       lstm_4[0][0]                     \n",
            "                                                                 lstm_3[0][1]                     \n",
            "                                                                 lstm_3[0][2]                     \n",
            "__________________________________________________________________________________________________\n",
            "time_distributed_1 (TimeDistrib (None, 15, 5)        505         lstm_5[0][0]                     \n",
            "==================================================================================================\n",
            "Total params: 284,105\n",
            "Trainable params: 284,105\n",
            "Non-trainable params: 0\n",
            "__________________________________________________________________________________________________\n"
          ]
        }
      ]
    },
    {
      "cell_type": "code",
      "metadata": {
        "id": "eNTzc4MfYVfB",
        "colab": {
          "base_uri": "https://localhost:8080/"
        },
        "outputId": "e7241a58-1c91-4e9e-dfef-9c66f58e8e65"
      },
      "source": [
        "#checkpoint_filepath_e1d1 = '/content/checkpoints/model{epoch:d}'\n",
        "filepath_e1d1 = '/content/e1d1_checkpoints/model{epoch:d}'\n",
        "checkpoint_e1d1 = tf.keras.callbacks.ModelCheckpoint(\n",
        "    filepath=filepath_e1d1,\n",
        "    period = 5)\n",
        "\n",
        "filepath_e2d2 = '/content/e2d2_checkpoints/model{epoch:d}'\n",
        "checkpoint_e2d2 = tf.keras.callbacks.ModelCheckpoint(\n",
        "    filepath=filepath_e2d2,\n",
        "    period = 5)"
      ],
      "execution_count": 15,
      "outputs": [
        {
          "output_type": "stream",
          "name": "stdout",
          "text": [
            "WARNING:tensorflow:`period` argument is deprecated. Please use `save_freq` to specify the frequency in number of batches seen.\n",
            "WARNING:tensorflow:`period` argument is deprecated. Please use `save_freq` to specify the frequency in number of batches seen.\n"
          ]
        }
      ]
    },
    {
      "cell_type": "code",
      "metadata": {
        "colab": {
          "base_uri": "https://localhost:8080/"
        },
        "id": "MqQKknaidHzT",
        "outputId": "cda9f5ae-f3b4-4771-f195-70fdb223b640"
      },
      "source": [
        "reduce_lr = tf.keras.callbacks.LearningRateScheduler(lambda x: 1e-3 * 0.90 ** x)\n",
        "model_e1d1.compile(optimizer=tf.keras.optimizers.Adam(), loss=tf.keras.losses.Huber())\n",
        "history_e1d1=model_e1d1.fit(X_train,y_train,epochs=125,validation_data=(X_test,y_test),batch_size=32,verbose=1,callbacks=[checkpoint_e1d1, reduce_lr])\n",
        "print()\n",
        "model_e2d2.compile(optimizer=tf.keras.optimizers.Adam(), loss=tf.keras.losses.Huber())\n",
        "history_e2d2=model_e2d2.fit(X_train,y_train,epochs=125,validation_data=(X_test,y_test),batch_size=16,verbose=1,callbacks=[checkpoint_e2d2, reduce_lr])"
      ],
      "execution_count": 16,
      "outputs": [
        {
          "output_type": "stream",
          "name": "stdout",
          "text": [
            "Epoch 1/125\n",
            "90/90 [==============================] - 10s 64ms/step - loss: 0.0071 - val_loss: 9.5682e-04\n",
            "Epoch 2/125\n",
            "90/90 [==============================] - 5s 54ms/step - loss: 0.0053 - val_loss: 7.7846e-04\n",
            "Epoch 3/125\n",
            "90/90 [==============================] - 5s 54ms/step - loss: 0.0053 - val_loss: 7.3725e-04\n",
            "Epoch 4/125\n",
            "90/90 [==============================] - 5s 53ms/step - loss: 0.0051 - val_loss: 5.9435e-04\n",
            "Epoch 5/125\n",
            "90/90 [==============================] - 5s 53ms/step - loss: 0.0051 - val_loss: 5.3205e-04\n"
          ]
        },
        {
          "output_type": "stream",
          "name": "stderr",
          "text": [
            "WARNING:absl:Found untraced functions such as lstm_cell_layer_call_and_return_conditional_losses, lstm_cell_layer_call_fn, lstm_cell_1_layer_call_and_return_conditional_losses, lstm_cell_1_layer_call_fn, lstm_cell_layer_call_fn while saving (showing 5 of 10). These functions will not be directly callable after loading.\n"
          ]
        },
        {
          "output_type": "stream",
          "name": "stdout",
          "text": [
            "INFO:tensorflow:Assets written to: /content/e1d1_checkpoints/model5/assets\n"
          ]
        },
        {
          "output_type": "stream",
          "name": "stderr",
          "text": [
            "INFO:tensorflow:Assets written to: /content/e1d1_checkpoints/model5/assets\n"
          ]
        },
        {
          "output_type": "stream",
          "name": "stdout",
          "text": [
            "Epoch 6/125\n",
            "90/90 [==============================] - 5s 55ms/step - loss: 0.0050 - val_loss: 5.7149e-04\n",
            "Epoch 7/125\n",
            "90/90 [==============================] - 5s 55ms/step - loss: 0.0050 - val_loss: 5.4497e-04\n",
            "Epoch 8/125\n",
            "90/90 [==============================] - 5s 55ms/step - loss: 0.0050 - val_loss: 6.0053e-04\n",
            "Epoch 9/125\n",
            "90/90 [==============================] - 5s 54ms/step - loss: 0.0049 - val_loss: 5.0343e-04\n",
            "Epoch 10/125\n",
            "90/90 [==============================] - 5s 53ms/step - loss: 0.0049 - val_loss: 5.4054e-04\n"
          ]
        },
        {
          "output_type": "stream",
          "name": "stderr",
          "text": [
            "WARNING:absl:Found untraced functions such as lstm_cell_layer_call_and_return_conditional_losses, lstm_cell_layer_call_fn, lstm_cell_1_layer_call_and_return_conditional_losses, lstm_cell_1_layer_call_fn, lstm_cell_layer_call_fn while saving (showing 5 of 10). These functions will not be directly callable after loading.\n"
          ]
        },
        {
          "output_type": "stream",
          "name": "stdout",
          "text": [
            "INFO:tensorflow:Assets written to: /content/e1d1_checkpoints/model10/assets\n"
          ]
        },
        {
          "output_type": "stream",
          "name": "stderr",
          "text": [
            "INFO:tensorflow:Assets written to: /content/e1d1_checkpoints/model10/assets\n"
          ]
        },
        {
          "output_type": "stream",
          "name": "stdout",
          "text": [
            "Epoch 11/125\n",
            "90/90 [==============================] - 5s 54ms/step - loss: 0.0049 - val_loss: 7.1626e-04\n",
            "Epoch 12/125\n",
            "90/90 [==============================] - 5s 54ms/step - loss: 0.0049 - val_loss: 5.0493e-04\n",
            "Epoch 13/125\n",
            "90/90 [==============================] - 5s 54ms/step - loss: 0.0048 - val_loss: 5.3546e-04\n",
            "Epoch 14/125\n",
            "90/90 [==============================] - 5s 53ms/step - loss: 0.0048 - val_loss: 5.5574e-04\n",
            "Epoch 15/125\n",
            "90/90 [==============================] - 5s 54ms/step - loss: 0.0048 - val_loss: 6.1828e-04\n"
          ]
        },
        {
          "output_type": "stream",
          "name": "stderr",
          "text": [
            "WARNING:absl:Found untraced functions such as lstm_cell_layer_call_and_return_conditional_losses, lstm_cell_layer_call_fn, lstm_cell_1_layer_call_and_return_conditional_losses, lstm_cell_1_layer_call_fn, lstm_cell_layer_call_fn while saving (showing 5 of 10). These functions will not be directly callable after loading.\n"
          ]
        },
        {
          "output_type": "stream",
          "name": "stdout",
          "text": [
            "INFO:tensorflow:Assets written to: /content/e1d1_checkpoints/model15/assets\n"
          ]
        },
        {
          "output_type": "stream",
          "name": "stderr",
          "text": [
            "INFO:tensorflow:Assets written to: /content/e1d1_checkpoints/model15/assets\n"
          ]
        },
        {
          "output_type": "stream",
          "name": "stdout",
          "text": [
            "Epoch 16/125\n",
            "90/90 [==============================] - 5s 54ms/step - loss: 0.0048 - val_loss: 5.2787e-04\n",
            "Epoch 17/125\n",
            "90/90 [==============================] - 5s 55ms/step - loss: 0.0047 - val_loss: 4.9855e-04\n",
            "Epoch 18/125\n",
            "90/90 [==============================] - 5s 54ms/step - loss: 0.0047 - val_loss: 5.4192e-04\n",
            "Epoch 19/125\n",
            "90/90 [==============================] - 5s 54ms/step - loss: 0.0047 - val_loss: 5.1052e-04\n",
            "Epoch 20/125\n",
            "90/90 [==============================] - 5s 54ms/step - loss: 0.0047 - val_loss: 5.0640e-04\n"
          ]
        },
        {
          "output_type": "stream",
          "name": "stderr",
          "text": [
            "WARNING:absl:Found untraced functions such as lstm_cell_layer_call_and_return_conditional_losses, lstm_cell_layer_call_fn, lstm_cell_1_layer_call_and_return_conditional_losses, lstm_cell_1_layer_call_fn, lstm_cell_layer_call_fn while saving (showing 5 of 10). These functions will not be directly callable after loading.\n"
          ]
        },
        {
          "output_type": "stream",
          "name": "stdout",
          "text": [
            "INFO:tensorflow:Assets written to: /content/e1d1_checkpoints/model20/assets\n"
          ]
        },
        {
          "output_type": "stream",
          "name": "stderr",
          "text": [
            "INFO:tensorflow:Assets written to: /content/e1d1_checkpoints/model20/assets\n"
          ]
        },
        {
          "output_type": "stream",
          "name": "stdout",
          "text": [
            "Epoch 21/125\n",
            "90/90 [==============================] - 5s 55ms/step - loss: 0.0047 - val_loss: 5.1419e-04\n",
            "Epoch 22/125\n",
            "90/90 [==============================] - 5s 55ms/step - loss: 0.0046 - val_loss: 5.2838e-04\n",
            "Epoch 23/125\n",
            "90/90 [==============================] - 5s 56ms/step - loss: 0.0046 - val_loss: 5.1994e-04\n",
            "Epoch 24/125\n",
            "90/90 [==============================] - 5s 54ms/step - loss: 0.0046 - val_loss: 5.5294e-04\n",
            "Epoch 25/125\n",
            "90/90 [==============================] - 5s 55ms/step - loss: 0.0046 - val_loss: 5.1917e-04\n"
          ]
        },
        {
          "output_type": "stream",
          "name": "stderr",
          "text": [
            "WARNING:absl:Found untraced functions such as lstm_cell_layer_call_and_return_conditional_losses, lstm_cell_layer_call_fn, lstm_cell_1_layer_call_and_return_conditional_losses, lstm_cell_1_layer_call_fn, lstm_cell_layer_call_fn while saving (showing 5 of 10). These functions will not be directly callable after loading.\n"
          ]
        },
        {
          "output_type": "stream",
          "name": "stdout",
          "text": [
            "INFO:tensorflow:Assets written to: /content/e1d1_checkpoints/model25/assets\n"
          ]
        },
        {
          "output_type": "stream",
          "name": "stderr",
          "text": [
            "INFO:tensorflow:Assets written to: /content/e1d1_checkpoints/model25/assets\n"
          ]
        },
        {
          "output_type": "stream",
          "name": "stdout",
          "text": [
            "Epoch 26/125\n",
            "90/90 [==============================] - 5s 56ms/step - loss: 0.0046 - val_loss: 5.5577e-04\n",
            "Epoch 27/125\n",
            "90/90 [==============================] - 5s 57ms/step - loss: 0.0046 - val_loss: 5.1879e-04\n",
            "Epoch 28/125\n",
            "90/90 [==============================] - 5s 55ms/step - loss: 0.0046 - val_loss: 5.2947e-04\n",
            "Epoch 29/125\n",
            "90/90 [==============================] - 5s 55ms/step - loss: 0.0045 - val_loss: 5.5321e-04\n",
            "Epoch 30/125\n",
            "90/90 [==============================] - 5s 55ms/step - loss: 0.0045 - val_loss: 5.4580e-04\n"
          ]
        },
        {
          "output_type": "stream",
          "name": "stderr",
          "text": [
            "WARNING:absl:Found untraced functions such as lstm_cell_layer_call_and_return_conditional_losses, lstm_cell_layer_call_fn, lstm_cell_1_layer_call_and_return_conditional_losses, lstm_cell_1_layer_call_fn, lstm_cell_layer_call_fn while saving (showing 5 of 10). These functions will not be directly callable after loading.\n"
          ]
        },
        {
          "output_type": "stream",
          "name": "stdout",
          "text": [
            "INFO:tensorflow:Assets written to: /content/e1d1_checkpoints/model30/assets\n"
          ]
        },
        {
          "output_type": "stream",
          "name": "stderr",
          "text": [
            "INFO:tensorflow:Assets written to: /content/e1d1_checkpoints/model30/assets\n"
          ]
        },
        {
          "output_type": "stream",
          "name": "stdout",
          "text": [
            "Epoch 31/125\n",
            "90/90 [==============================] - 5s 55ms/step - loss: 0.0045 - val_loss: 5.2971e-04\n",
            "Epoch 32/125\n",
            "90/90 [==============================] - 5s 55ms/step - loss: 0.0045 - val_loss: 5.3547e-04\n",
            "Epoch 33/125\n",
            "90/90 [==============================] - 5s 54ms/step - loss: 0.0045 - val_loss: 5.6174e-04\n",
            "Epoch 34/125\n",
            "90/90 [==============================] - 5s 56ms/step - loss: 0.0045 - val_loss: 5.2932e-04\n",
            "Epoch 35/125\n",
            "90/90 [==============================] - 5s 56ms/step - loss: 0.0045 - val_loss: 5.4531e-04\n"
          ]
        },
        {
          "output_type": "stream",
          "name": "stderr",
          "text": [
            "WARNING:absl:Found untraced functions such as lstm_cell_layer_call_and_return_conditional_losses, lstm_cell_layer_call_fn, lstm_cell_1_layer_call_and_return_conditional_losses, lstm_cell_1_layer_call_fn, lstm_cell_layer_call_fn while saving (showing 5 of 10). These functions will not be directly callable after loading.\n"
          ]
        },
        {
          "output_type": "stream",
          "name": "stdout",
          "text": [
            "INFO:tensorflow:Assets written to: /content/e1d1_checkpoints/model35/assets\n"
          ]
        },
        {
          "output_type": "stream",
          "name": "stderr",
          "text": [
            "INFO:tensorflow:Assets written to: /content/e1d1_checkpoints/model35/assets\n"
          ]
        },
        {
          "output_type": "stream",
          "name": "stdout",
          "text": [
            "Epoch 36/125\n",
            "90/90 [==============================] - 5s 56ms/step - loss: 0.0045 - val_loss: 5.4729e-04\n",
            "Epoch 37/125\n",
            "90/90 [==============================] - 5s 55ms/step - loss: 0.0045 - val_loss: 5.4308e-04\n",
            "Epoch 38/125\n",
            "90/90 [==============================] - 5s 55ms/step - loss: 0.0045 - val_loss: 5.4486e-04\n",
            "Epoch 39/125\n",
            "90/90 [==============================] - 5s 55ms/step - loss: 0.0045 - val_loss: 5.3280e-04\n",
            "Epoch 40/125\n",
            "90/90 [==============================] - 5s 55ms/step - loss: 0.0045 - val_loss: 5.3475e-04\n"
          ]
        },
        {
          "output_type": "stream",
          "name": "stderr",
          "text": [
            "WARNING:absl:Found untraced functions such as lstm_cell_layer_call_and_return_conditional_losses, lstm_cell_layer_call_fn, lstm_cell_1_layer_call_and_return_conditional_losses, lstm_cell_1_layer_call_fn, lstm_cell_layer_call_fn while saving (showing 5 of 10). These functions will not be directly callable after loading.\n"
          ]
        },
        {
          "output_type": "stream",
          "name": "stdout",
          "text": [
            "INFO:tensorflow:Assets written to: /content/e1d1_checkpoints/model40/assets\n"
          ]
        },
        {
          "output_type": "stream",
          "name": "stderr",
          "text": [
            "INFO:tensorflow:Assets written to: /content/e1d1_checkpoints/model40/assets\n"
          ]
        },
        {
          "output_type": "stream",
          "name": "stdout",
          "text": [
            "Epoch 41/125\n",
            "90/90 [==============================] - 5s 55ms/step - loss: 0.0045 - val_loss: 5.3562e-04\n",
            "Epoch 42/125\n",
            "90/90 [==============================] - 5s 55ms/step - loss: 0.0045 - val_loss: 5.4394e-04\n",
            "Epoch 43/125\n",
            "90/90 [==============================] - 5s 55ms/step - loss: 0.0045 - val_loss: 5.3478e-04\n",
            "Epoch 44/125\n",
            "90/90 [==============================] - 5s 55ms/step - loss: 0.0045 - val_loss: 5.3628e-04\n",
            "Epoch 45/125\n",
            "90/90 [==============================] - 5s 55ms/step - loss: 0.0045 - val_loss: 5.3459e-04\n"
          ]
        },
        {
          "output_type": "stream",
          "name": "stderr",
          "text": [
            "WARNING:absl:Found untraced functions such as lstm_cell_layer_call_and_return_conditional_losses, lstm_cell_layer_call_fn, lstm_cell_1_layer_call_and_return_conditional_losses, lstm_cell_1_layer_call_fn, lstm_cell_layer_call_fn while saving (showing 5 of 10). These functions will not be directly callable after loading.\n"
          ]
        },
        {
          "output_type": "stream",
          "name": "stdout",
          "text": [
            "INFO:tensorflow:Assets written to: /content/e1d1_checkpoints/model45/assets\n"
          ]
        },
        {
          "output_type": "stream",
          "name": "stderr",
          "text": [
            "INFO:tensorflow:Assets written to: /content/e1d1_checkpoints/model45/assets\n"
          ]
        },
        {
          "output_type": "stream",
          "name": "stdout",
          "text": [
            "Epoch 46/125\n",
            "90/90 [==============================] - 5s 54ms/step - loss: 0.0045 - val_loss: 5.3430e-04\n",
            "Epoch 47/125\n",
            "90/90 [==============================] - 5s 56ms/step - loss: 0.0045 - val_loss: 5.3622e-04\n",
            "Epoch 48/125\n",
            "90/90 [==============================] - 5s 56ms/step - loss: 0.0045 - val_loss: 5.3425e-04\n",
            "Epoch 49/125\n",
            "90/90 [==============================] - 5s 56ms/step - loss: 0.0045 - val_loss: 5.3347e-04\n",
            "Epoch 50/125\n",
            "90/90 [==============================] - 5s 55ms/step - loss: 0.0045 - val_loss: 5.3089e-04\n"
          ]
        },
        {
          "output_type": "stream",
          "name": "stderr",
          "text": [
            "WARNING:absl:Found untraced functions such as lstm_cell_layer_call_and_return_conditional_losses, lstm_cell_layer_call_fn, lstm_cell_1_layer_call_and_return_conditional_losses, lstm_cell_1_layer_call_fn, lstm_cell_layer_call_fn while saving (showing 5 of 10). These functions will not be directly callable after loading.\n"
          ]
        },
        {
          "output_type": "stream",
          "name": "stdout",
          "text": [
            "INFO:tensorflow:Assets written to: /content/e1d1_checkpoints/model50/assets\n"
          ]
        },
        {
          "output_type": "stream",
          "name": "stderr",
          "text": [
            "INFO:tensorflow:Assets written to: /content/e1d1_checkpoints/model50/assets\n"
          ]
        },
        {
          "output_type": "stream",
          "name": "stdout",
          "text": [
            "Epoch 51/125\n",
            "90/90 [==============================] - 5s 55ms/step - loss: 0.0045 - val_loss: 5.3355e-04\n",
            "Epoch 52/125\n",
            "90/90 [==============================] - 5s 56ms/step - loss: 0.0044 - val_loss: 5.3247e-04\n",
            "Epoch 53/125\n",
            "90/90 [==============================] - 5s 55ms/step - loss: 0.0044 - val_loss: 5.3215e-04\n",
            "Epoch 54/125\n",
            "90/90 [==============================] - 5s 55ms/step - loss: 0.0044 - val_loss: 5.3218e-04\n",
            "Epoch 55/125\n",
            "90/90 [==============================] - 5s 55ms/step - loss: 0.0044 - val_loss: 5.3219e-04\n"
          ]
        },
        {
          "output_type": "stream",
          "name": "stderr",
          "text": [
            "WARNING:absl:Found untraced functions such as lstm_cell_layer_call_and_return_conditional_losses, lstm_cell_layer_call_fn, lstm_cell_1_layer_call_and_return_conditional_losses, lstm_cell_1_layer_call_fn, lstm_cell_layer_call_fn while saving (showing 5 of 10). These functions will not be directly callable after loading.\n"
          ]
        },
        {
          "output_type": "stream",
          "name": "stdout",
          "text": [
            "INFO:tensorflow:Assets written to: /content/e1d1_checkpoints/model55/assets\n"
          ]
        },
        {
          "output_type": "stream",
          "name": "stderr",
          "text": [
            "INFO:tensorflow:Assets written to: /content/e1d1_checkpoints/model55/assets\n"
          ]
        },
        {
          "output_type": "stream",
          "name": "stdout",
          "text": [
            "Epoch 56/125\n",
            "90/90 [==============================] - 5s 55ms/step - loss: 0.0044 - val_loss: 5.3127e-04\n",
            "Epoch 57/125\n",
            "90/90 [==============================] - 5s 55ms/step - loss: 0.0044 - val_loss: 5.3343e-04\n",
            "Epoch 58/125\n",
            "90/90 [==============================] - 5s 56ms/step - loss: 0.0044 - val_loss: 5.3240e-04\n",
            "Epoch 59/125\n",
            "90/90 [==============================] - 5s 55ms/step - loss: 0.0044 - val_loss: 5.3262e-04\n",
            "Epoch 60/125\n",
            "90/90 [==============================] - 5s 56ms/step - loss: 0.0044 - val_loss: 5.3216e-04\n"
          ]
        },
        {
          "output_type": "stream",
          "name": "stderr",
          "text": [
            "WARNING:absl:Found untraced functions such as lstm_cell_layer_call_and_return_conditional_losses, lstm_cell_layer_call_fn, lstm_cell_1_layer_call_and_return_conditional_losses, lstm_cell_1_layer_call_fn, lstm_cell_layer_call_fn while saving (showing 5 of 10). These functions will not be directly callable after loading.\n"
          ]
        },
        {
          "output_type": "stream",
          "name": "stdout",
          "text": [
            "INFO:tensorflow:Assets written to: /content/e1d1_checkpoints/model60/assets\n"
          ]
        },
        {
          "output_type": "stream",
          "name": "stderr",
          "text": [
            "INFO:tensorflow:Assets written to: /content/e1d1_checkpoints/model60/assets\n"
          ]
        },
        {
          "output_type": "stream",
          "name": "stdout",
          "text": [
            "Epoch 61/125\n",
            "90/90 [==============================] - 5s 56ms/step - loss: 0.0044 - val_loss: 5.3205e-04\n",
            "Epoch 62/125\n",
            "90/90 [==============================] - 5s 56ms/step - loss: 0.0044 - val_loss: 5.3259e-04\n",
            "Epoch 63/125\n",
            "90/90 [==============================] - 5s 56ms/step - loss: 0.0044 - val_loss: 5.3200e-04\n",
            "Epoch 64/125\n",
            "90/90 [==============================] - 5s 56ms/step - loss: 0.0044 - val_loss: 5.3237e-04\n",
            "Epoch 65/125\n",
            "90/90 [==============================] - 5s 55ms/step - loss: 0.0044 - val_loss: 5.3246e-04\n"
          ]
        },
        {
          "output_type": "stream",
          "name": "stderr",
          "text": [
            "WARNING:absl:Found untraced functions such as lstm_cell_layer_call_and_return_conditional_losses, lstm_cell_layer_call_fn, lstm_cell_1_layer_call_and_return_conditional_losses, lstm_cell_1_layer_call_fn, lstm_cell_layer_call_fn while saving (showing 5 of 10). These functions will not be directly callable after loading.\n"
          ]
        },
        {
          "output_type": "stream",
          "name": "stdout",
          "text": [
            "INFO:tensorflow:Assets written to: /content/e1d1_checkpoints/model65/assets\n"
          ]
        },
        {
          "output_type": "stream",
          "name": "stderr",
          "text": [
            "INFO:tensorflow:Assets written to: /content/e1d1_checkpoints/model65/assets\n"
          ]
        },
        {
          "output_type": "stream",
          "name": "stdout",
          "text": [
            "Epoch 66/125\n",
            "90/90 [==============================] - 5s 57ms/step - loss: 0.0044 - val_loss: 5.3210e-04\n",
            "Epoch 67/125\n",
            "90/90 [==============================] - 5s 56ms/step - loss: 0.0044 - val_loss: 5.3237e-04\n",
            "Epoch 68/125\n",
            "90/90 [==============================] - 5s 55ms/step - loss: 0.0044 - val_loss: 5.3241e-04\n",
            "Epoch 69/125\n",
            "90/90 [==============================] - 5s 55ms/step - loss: 0.0044 - val_loss: 5.3213e-04\n",
            "Epoch 70/125\n",
            "90/90 [==============================] - 5s 56ms/step - loss: 0.0044 - val_loss: 5.3249e-04\n"
          ]
        },
        {
          "output_type": "stream",
          "name": "stderr",
          "text": [
            "WARNING:absl:Found untraced functions such as lstm_cell_layer_call_and_return_conditional_losses, lstm_cell_layer_call_fn, lstm_cell_1_layer_call_and_return_conditional_losses, lstm_cell_1_layer_call_fn, lstm_cell_layer_call_fn while saving (showing 5 of 10). These functions will not be directly callable after loading.\n"
          ]
        },
        {
          "output_type": "stream",
          "name": "stdout",
          "text": [
            "INFO:tensorflow:Assets written to: /content/e1d1_checkpoints/model70/assets\n"
          ]
        },
        {
          "output_type": "stream",
          "name": "stderr",
          "text": [
            "INFO:tensorflow:Assets written to: /content/e1d1_checkpoints/model70/assets\n"
          ]
        },
        {
          "output_type": "stream",
          "name": "stdout",
          "text": [
            "Epoch 71/125\n",
            "90/90 [==============================] - 5s 54ms/step - loss: 0.0044 - val_loss: 5.3214e-04\n",
            "Epoch 72/125\n",
            "90/90 [==============================] - 5s 55ms/step - loss: 0.0044 - val_loss: 5.3188e-04\n",
            "Epoch 73/125\n",
            "90/90 [==============================] - 5s 56ms/step - loss: 0.0044 - val_loss: 5.3230e-04\n",
            "Epoch 74/125\n",
            "90/90 [==============================] - 5s 55ms/step - loss: 0.0044 - val_loss: 5.3198e-04\n",
            "Epoch 75/125\n",
            "90/90 [==============================] - 5s 56ms/step - loss: 0.0044 - val_loss: 5.3195e-04\n"
          ]
        },
        {
          "output_type": "stream",
          "name": "stderr",
          "text": [
            "WARNING:absl:Found untraced functions such as lstm_cell_layer_call_and_return_conditional_losses, lstm_cell_layer_call_fn, lstm_cell_1_layer_call_and_return_conditional_losses, lstm_cell_1_layer_call_fn, lstm_cell_layer_call_fn while saving (showing 5 of 10). These functions will not be directly callable after loading.\n"
          ]
        },
        {
          "output_type": "stream",
          "name": "stdout",
          "text": [
            "INFO:tensorflow:Assets written to: /content/e1d1_checkpoints/model75/assets\n"
          ]
        },
        {
          "output_type": "stream",
          "name": "stderr",
          "text": [
            "INFO:tensorflow:Assets written to: /content/e1d1_checkpoints/model75/assets\n"
          ]
        },
        {
          "output_type": "stream",
          "name": "stdout",
          "text": [
            "Epoch 76/125\n",
            "90/90 [==============================] - 5s 56ms/step - loss: 0.0044 - val_loss: 5.3206e-04\n",
            "Epoch 77/125\n",
            "90/90 [==============================] - 5s 56ms/step - loss: 0.0044 - val_loss: 5.3200e-04\n",
            "Epoch 78/125\n",
            "90/90 [==============================] - 5s 55ms/step - loss: 0.0044 - val_loss: 5.3207e-04\n",
            "Epoch 79/125\n",
            "90/90 [==============================] - 5s 56ms/step - loss: 0.0044 - val_loss: 5.3201e-04\n",
            "Epoch 80/125\n",
            "90/90 [==============================] - 5s 55ms/step - loss: 0.0044 - val_loss: 5.3199e-04\n"
          ]
        },
        {
          "output_type": "stream",
          "name": "stderr",
          "text": [
            "WARNING:absl:Found untraced functions such as lstm_cell_layer_call_and_return_conditional_losses, lstm_cell_layer_call_fn, lstm_cell_1_layer_call_and_return_conditional_losses, lstm_cell_1_layer_call_fn, lstm_cell_layer_call_fn while saving (showing 5 of 10). These functions will not be directly callable after loading.\n"
          ]
        },
        {
          "output_type": "stream",
          "name": "stdout",
          "text": [
            "INFO:tensorflow:Assets written to: /content/e1d1_checkpoints/model80/assets\n"
          ]
        },
        {
          "output_type": "stream",
          "name": "stderr",
          "text": [
            "INFO:tensorflow:Assets written to: /content/e1d1_checkpoints/model80/assets\n"
          ]
        },
        {
          "output_type": "stream",
          "name": "stdout",
          "text": [
            "Epoch 81/125\n",
            "90/90 [==============================] - 5s 55ms/step - loss: 0.0044 - val_loss: 5.3210e-04\n",
            "Epoch 82/125\n",
            "90/90 [==============================] - 5s 55ms/step - loss: 0.0044 - val_loss: 5.3198e-04\n",
            "Epoch 83/125\n",
            "90/90 [==============================] - 5s 55ms/step - loss: 0.0044 - val_loss: 5.3187e-04\n",
            "Epoch 84/125\n",
            "90/90 [==============================] - 5s 56ms/step - loss: 0.0044 - val_loss: 5.3192e-04\n",
            "Epoch 85/125\n",
            "90/90 [==============================] - 5s 56ms/step - loss: 0.0044 - val_loss: 5.3189e-04\n"
          ]
        },
        {
          "output_type": "stream",
          "name": "stderr",
          "text": [
            "WARNING:absl:Found untraced functions such as lstm_cell_layer_call_and_return_conditional_losses, lstm_cell_layer_call_fn, lstm_cell_1_layer_call_and_return_conditional_losses, lstm_cell_1_layer_call_fn, lstm_cell_layer_call_fn while saving (showing 5 of 10). These functions will not be directly callable after loading.\n"
          ]
        },
        {
          "output_type": "stream",
          "name": "stdout",
          "text": [
            "INFO:tensorflow:Assets written to: /content/e1d1_checkpoints/model85/assets\n"
          ]
        },
        {
          "output_type": "stream",
          "name": "stderr",
          "text": [
            "INFO:tensorflow:Assets written to: /content/e1d1_checkpoints/model85/assets\n"
          ]
        },
        {
          "output_type": "stream",
          "name": "stdout",
          "text": [
            "Epoch 86/125\n",
            "90/90 [==============================] - 5s 57ms/step - loss: 0.0044 - val_loss: 5.3197e-04\n",
            "Epoch 87/125\n",
            "90/90 [==============================] - 5s 58ms/step - loss: 0.0044 - val_loss: 5.3194e-04\n",
            "Epoch 88/125\n",
            "90/90 [==============================] - 5s 57ms/step - loss: 0.0044 - val_loss: 5.3191e-04\n",
            "Epoch 89/125\n",
            "90/90 [==============================] - 5s 57ms/step - loss: 0.0044 - val_loss: 5.3194e-04\n",
            "Epoch 90/125\n",
            "90/90 [==============================] - 5s 56ms/step - loss: 0.0044 - val_loss: 5.3194e-04\n"
          ]
        },
        {
          "output_type": "stream",
          "name": "stderr",
          "text": [
            "WARNING:absl:Found untraced functions such as lstm_cell_layer_call_and_return_conditional_losses, lstm_cell_layer_call_fn, lstm_cell_1_layer_call_and_return_conditional_losses, lstm_cell_1_layer_call_fn, lstm_cell_layer_call_fn while saving (showing 5 of 10). These functions will not be directly callable after loading.\n"
          ]
        },
        {
          "output_type": "stream",
          "name": "stdout",
          "text": [
            "INFO:tensorflow:Assets written to: /content/e1d1_checkpoints/model90/assets\n"
          ]
        },
        {
          "output_type": "stream",
          "name": "stderr",
          "text": [
            "INFO:tensorflow:Assets written to: /content/e1d1_checkpoints/model90/assets\n"
          ]
        },
        {
          "output_type": "stream",
          "name": "stdout",
          "text": [
            "Epoch 91/125\n",
            "90/90 [==============================] - 5s 55ms/step - loss: 0.0044 - val_loss: 5.3191e-04\n",
            "Epoch 92/125\n",
            "90/90 [==============================] - 5s 56ms/step - loss: 0.0044 - val_loss: 5.3191e-04\n",
            "Epoch 93/125\n",
            "90/90 [==============================] - 5s 57ms/step - loss: 0.0044 - val_loss: 5.3187e-04\n",
            "Epoch 94/125\n",
            "90/90 [==============================] - 5s 57ms/step - loss: 0.0044 - val_loss: 5.3188e-04\n",
            "Epoch 95/125\n",
            "90/90 [==============================] - 5s 55ms/step - loss: 0.0044 - val_loss: 5.3187e-04\n"
          ]
        },
        {
          "output_type": "stream",
          "name": "stderr",
          "text": [
            "WARNING:absl:Found untraced functions such as lstm_cell_layer_call_and_return_conditional_losses, lstm_cell_layer_call_fn, lstm_cell_1_layer_call_and_return_conditional_losses, lstm_cell_1_layer_call_fn, lstm_cell_layer_call_fn while saving (showing 5 of 10). These functions will not be directly callable after loading.\n"
          ]
        },
        {
          "output_type": "stream",
          "name": "stdout",
          "text": [
            "INFO:tensorflow:Assets written to: /content/e1d1_checkpoints/model95/assets\n"
          ]
        },
        {
          "output_type": "stream",
          "name": "stderr",
          "text": [
            "INFO:tensorflow:Assets written to: /content/e1d1_checkpoints/model95/assets\n"
          ]
        },
        {
          "output_type": "stream",
          "name": "stdout",
          "text": [
            "Epoch 96/125\n",
            "90/90 [==============================] - 5s 56ms/step - loss: 0.0044 - val_loss: 5.3188e-04\n",
            "Epoch 97/125\n",
            "90/90 [==============================] - 5s 55ms/step - loss: 0.0044 - val_loss: 5.3188e-04\n",
            "Epoch 98/125\n",
            "90/90 [==============================] - 5s 56ms/step - loss: 0.0044 - val_loss: 5.3187e-04\n",
            "Epoch 99/125\n",
            "90/90 [==============================] - 5s 56ms/step - loss: 0.0044 - val_loss: 5.3189e-04\n",
            "Epoch 100/125\n",
            "90/90 [==============================] - 5s 56ms/step - loss: 0.0044 - val_loss: 5.3187e-04\n"
          ]
        },
        {
          "output_type": "stream",
          "name": "stderr",
          "text": [
            "WARNING:absl:Found untraced functions such as lstm_cell_layer_call_and_return_conditional_losses, lstm_cell_layer_call_fn, lstm_cell_1_layer_call_and_return_conditional_losses, lstm_cell_1_layer_call_fn, lstm_cell_layer_call_fn while saving (showing 5 of 10). These functions will not be directly callable after loading.\n"
          ]
        },
        {
          "output_type": "stream",
          "name": "stdout",
          "text": [
            "INFO:tensorflow:Assets written to: /content/e1d1_checkpoints/model100/assets\n"
          ]
        },
        {
          "output_type": "stream",
          "name": "stderr",
          "text": [
            "INFO:tensorflow:Assets written to: /content/e1d1_checkpoints/model100/assets\n"
          ]
        },
        {
          "output_type": "stream",
          "name": "stdout",
          "text": [
            "Epoch 101/125\n",
            "90/90 [==============================] - 5s 56ms/step - loss: 0.0044 - val_loss: 5.3187e-04\n",
            "Epoch 102/125\n",
            "90/90 [==============================] - 5s 57ms/step - loss: 0.0044 - val_loss: 5.3187e-04\n",
            "Epoch 103/125\n",
            "90/90 [==============================] - 5s 56ms/step - loss: 0.0044 - val_loss: 5.3187e-04\n",
            "Epoch 104/125\n",
            "90/90 [==============================] - 5s 55ms/step - loss: 0.0044 - val_loss: 5.3187e-04\n",
            "Epoch 105/125\n",
            "90/90 [==============================] - 5s 55ms/step - loss: 0.0044 - val_loss: 5.3186e-04\n"
          ]
        },
        {
          "output_type": "stream",
          "name": "stderr",
          "text": [
            "WARNING:absl:Found untraced functions such as lstm_cell_layer_call_and_return_conditional_losses, lstm_cell_layer_call_fn, lstm_cell_1_layer_call_and_return_conditional_losses, lstm_cell_1_layer_call_fn, lstm_cell_layer_call_fn while saving (showing 5 of 10). These functions will not be directly callable after loading.\n"
          ]
        },
        {
          "output_type": "stream",
          "name": "stdout",
          "text": [
            "INFO:tensorflow:Assets written to: /content/e1d1_checkpoints/model105/assets\n"
          ]
        },
        {
          "output_type": "stream",
          "name": "stderr",
          "text": [
            "INFO:tensorflow:Assets written to: /content/e1d1_checkpoints/model105/assets\n"
          ]
        },
        {
          "output_type": "stream",
          "name": "stdout",
          "text": [
            "Epoch 106/125\n",
            "90/90 [==============================] - 5s 56ms/step - loss: 0.0044 - val_loss: 5.3186e-04\n",
            "Epoch 107/125\n",
            "90/90 [==============================] - 5s 57ms/step - loss: 0.0044 - val_loss: 5.3186e-04\n",
            "Epoch 108/125\n",
            "90/90 [==============================] - 5s 57ms/step - loss: 0.0044 - val_loss: 5.3186e-04\n",
            "Epoch 109/125\n",
            "90/90 [==============================] - 5s 55ms/step - loss: 0.0044 - val_loss: 5.3186e-04\n",
            "Epoch 110/125\n",
            "90/90 [==============================] - 5s 57ms/step - loss: 0.0044 - val_loss: 5.3186e-04\n"
          ]
        },
        {
          "output_type": "stream",
          "name": "stderr",
          "text": [
            "WARNING:absl:Found untraced functions such as lstm_cell_layer_call_and_return_conditional_losses, lstm_cell_layer_call_fn, lstm_cell_1_layer_call_and_return_conditional_losses, lstm_cell_1_layer_call_fn, lstm_cell_layer_call_fn while saving (showing 5 of 10). These functions will not be directly callable after loading.\n"
          ]
        },
        {
          "output_type": "stream",
          "name": "stdout",
          "text": [
            "INFO:tensorflow:Assets written to: /content/e1d1_checkpoints/model110/assets\n"
          ]
        },
        {
          "output_type": "stream",
          "name": "stderr",
          "text": [
            "INFO:tensorflow:Assets written to: /content/e1d1_checkpoints/model110/assets\n"
          ]
        },
        {
          "output_type": "stream",
          "name": "stdout",
          "text": [
            "Epoch 111/125\n",
            "90/90 [==============================] - 5s 56ms/step - loss: 0.0044 - val_loss: 5.3186e-04\n",
            "Epoch 112/125\n",
            "90/90 [==============================] - 5s 56ms/step - loss: 0.0044 - val_loss: 5.3186e-04\n",
            "Epoch 113/125\n",
            "90/90 [==============================] - 5s 56ms/step - loss: 0.0044 - val_loss: 5.3186e-04\n",
            "Epoch 114/125\n",
            "90/90 [==============================] - 5s 56ms/step - loss: 0.0044 - val_loss: 5.3186e-04\n",
            "Epoch 115/125\n",
            "90/90 [==============================] - 5s 55ms/step - loss: 0.0044 - val_loss: 5.3186e-04\n"
          ]
        },
        {
          "output_type": "stream",
          "name": "stderr",
          "text": [
            "WARNING:absl:Found untraced functions such as lstm_cell_layer_call_and_return_conditional_losses, lstm_cell_layer_call_fn, lstm_cell_1_layer_call_and_return_conditional_losses, lstm_cell_1_layer_call_fn, lstm_cell_layer_call_fn while saving (showing 5 of 10). These functions will not be directly callable after loading.\n"
          ]
        },
        {
          "output_type": "stream",
          "name": "stdout",
          "text": [
            "INFO:tensorflow:Assets written to: /content/e1d1_checkpoints/model115/assets\n"
          ]
        },
        {
          "output_type": "stream",
          "name": "stderr",
          "text": [
            "INFO:tensorflow:Assets written to: /content/e1d1_checkpoints/model115/assets\n"
          ]
        },
        {
          "output_type": "stream",
          "name": "stdout",
          "text": [
            "Epoch 116/125\n",
            "90/90 [==============================] - 5s 55ms/step - loss: 0.0044 - val_loss: 5.3186e-04\n",
            "Epoch 117/125\n",
            "90/90 [==============================] - 5s 55ms/step - loss: 0.0044 - val_loss: 5.3186e-04\n",
            "Epoch 118/125\n",
            "90/90 [==============================] - 5s 55ms/step - loss: 0.0044 - val_loss: 5.3186e-04\n",
            "Epoch 119/125\n",
            "90/90 [==============================] - 5s 55ms/step - loss: 0.0044 - val_loss: 5.3186e-04\n",
            "Epoch 120/125\n",
            "90/90 [==============================] - 5s 55ms/step - loss: 0.0044 - val_loss: 5.3186e-04\n"
          ]
        },
        {
          "output_type": "stream",
          "name": "stderr",
          "text": [
            "WARNING:absl:Found untraced functions such as lstm_cell_layer_call_and_return_conditional_losses, lstm_cell_layer_call_fn, lstm_cell_1_layer_call_and_return_conditional_losses, lstm_cell_1_layer_call_fn, lstm_cell_layer_call_fn while saving (showing 5 of 10). These functions will not be directly callable after loading.\n"
          ]
        },
        {
          "output_type": "stream",
          "name": "stdout",
          "text": [
            "INFO:tensorflow:Assets written to: /content/e1d1_checkpoints/model120/assets\n"
          ]
        },
        {
          "output_type": "stream",
          "name": "stderr",
          "text": [
            "INFO:tensorflow:Assets written to: /content/e1d1_checkpoints/model120/assets\n"
          ]
        },
        {
          "output_type": "stream",
          "name": "stdout",
          "text": [
            "Epoch 121/125\n",
            "90/90 [==============================] - 5s 56ms/step - loss: 0.0044 - val_loss: 5.3186e-04\n",
            "Epoch 122/125\n",
            "90/90 [==============================] - 5s 55ms/step - loss: 0.0044 - val_loss: 5.3186e-04\n",
            "Epoch 123/125\n",
            "90/90 [==============================] - 5s 54ms/step - loss: 0.0044 - val_loss: 5.3186e-04\n",
            "Epoch 124/125\n",
            "90/90 [==============================] - 5s 55ms/step - loss: 0.0044 - val_loss: 5.3186e-04\n",
            "Epoch 125/125\n",
            "90/90 [==============================] - 5s 55ms/step - loss: 0.0044 - val_loss: 5.3186e-04\n"
          ]
        },
        {
          "output_type": "stream",
          "name": "stderr",
          "text": [
            "WARNING:absl:Found untraced functions such as lstm_cell_layer_call_and_return_conditional_losses, lstm_cell_layer_call_fn, lstm_cell_1_layer_call_and_return_conditional_losses, lstm_cell_1_layer_call_fn, lstm_cell_layer_call_fn while saving (showing 5 of 10). These functions will not be directly callable after loading.\n"
          ]
        },
        {
          "output_type": "stream",
          "name": "stdout",
          "text": [
            "INFO:tensorflow:Assets written to: /content/e1d1_checkpoints/model125/assets\n"
          ]
        },
        {
          "output_type": "stream",
          "name": "stderr",
          "text": [
            "INFO:tensorflow:Assets written to: /content/e1d1_checkpoints/model125/assets\n"
          ]
        },
        {
          "output_type": "stream",
          "name": "stdout",
          "text": [
            "\n",
            "Epoch 1/125\n",
            "180/180 [==============================] - 25s 101ms/step - loss: 0.0066 - val_loss: 7.7443e-04\n",
            "Epoch 2/125\n",
            "180/180 [==============================] - 17s 93ms/step - loss: 0.0054 - val_loss: 7.1243e-04\n",
            "Epoch 3/125\n",
            "180/180 [==============================] - 17s 92ms/step - loss: 0.0052 - val_loss: 8.1776e-04\n",
            "Epoch 4/125\n",
            "180/180 [==============================] - 17s 92ms/step - loss: 0.0053 - val_loss: 0.0010\n",
            "Epoch 5/125\n",
            "180/180 [==============================] - 17s 92ms/step - loss: 0.0051 - val_loss: 8.9030e-04\n"
          ]
        },
        {
          "output_type": "stream",
          "name": "stderr",
          "text": [
            "WARNING:absl:Found untraced functions such as lstm_cell_2_layer_call_and_return_conditional_losses, lstm_cell_2_layer_call_fn, lstm_cell_3_layer_call_and_return_conditional_losses, lstm_cell_3_layer_call_fn, lstm_cell_4_layer_call_and_return_conditional_losses while saving (showing 5 of 20). These functions will not be directly callable after loading.\n"
          ]
        },
        {
          "output_type": "stream",
          "name": "stdout",
          "text": [
            "INFO:tensorflow:Assets written to: /content/e2d2_checkpoints/model5/assets\n"
          ]
        },
        {
          "output_type": "stream",
          "name": "stderr",
          "text": [
            "INFO:tensorflow:Assets written to: /content/e2d2_checkpoints/model5/assets\n"
          ]
        },
        {
          "output_type": "stream",
          "name": "stdout",
          "text": [
            "Epoch 6/125\n",
            "180/180 [==============================] - 17s 93ms/step - loss: 0.0050 - val_loss: 6.2363e-04\n",
            "Epoch 7/125\n",
            "180/180 [==============================] - 17s 92ms/step - loss: 0.0050 - val_loss: 5.6528e-04\n",
            "Epoch 8/125\n",
            "180/180 [==============================] - 17s 93ms/step - loss: 0.0049 - val_loss: 5.9897e-04\n",
            "Epoch 9/125\n",
            "180/180 [==============================] - 17s 92ms/step - loss: 0.0048 - val_loss: 0.0010\n",
            "Epoch 10/125\n",
            "180/180 [==============================] - 17s 92ms/step - loss: 0.0048 - val_loss: 6.2909e-04\n"
          ]
        },
        {
          "output_type": "stream",
          "name": "stderr",
          "text": [
            "WARNING:absl:Found untraced functions such as lstm_cell_2_layer_call_and_return_conditional_losses, lstm_cell_2_layer_call_fn, lstm_cell_3_layer_call_and_return_conditional_losses, lstm_cell_3_layer_call_fn, lstm_cell_4_layer_call_and_return_conditional_losses while saving (showing 5 of 20). These functions will not be directly callable after loading.\n"
          ]
        },
        {
          "output_type": "stream",
          "name": "stdout",
          "text": [
            "INFO:tensorflow:Assets written to: /content/e2d2_checkpoints/model10/assets\n"
          ]
        },
        {
          "output_type": "stream",
          "name": "stderr",
          "text": [
            "INFO:tensorflow:Assets written to: /content/e2d2_checkpoints/model10/assets\n"
          ]
        },
        {
          "output_type": "stream",
          "name": "stdout",
          "text": [
            "Epoch 11/125\n",
            "180/180 [==============================] - 17s 93ms/step - loss: 0.0048 - val_loss: 9.6575e-04\n",
            "Epoch 12/125\n",
            "180/180 [==============================] - 16s 91ms/step - loss: 0.0047 - val_loss: 5.7925e-04\n",
            "Epoch 13/125\n",
            "180/180 [==============================] - 17s 93ms/step - loss: 0.0046 - val_loss: 5.9574e-04\n",
            "Epoch 14/125\n",
            "180/180 [==============================] - 16s 91ms/step - loss: 0.0046 - val_loss: 5.3575e-04\n",
            "Epoch 15/125\n",
            "180/180 [==============================] - 17s 93ms/step - loss: 0.0045 - val_loss: 5.9233e-04\n"
          ]
        },
        {
          "output_type": "stream",
          "name": "stderr",
          "text": [
            "WARNING:absl:Found untraced functions such as lstm_cell_2_layer_call_and_return_conditional_losses, lstm_cell_2_layer_call_fn, lstm_cell_3_layer_call_and_return_conditional_losses, lstm_cell_3_layer_call_fn, lstm_cell_4_layer_call_and_return_conditional_losses while saving (showing 5 of 20). These functions will not be directly callable after loading.\n"
          ]
        },
        {
          "output_type": "stream",
          "name": "stdout",
          "text": [
            "INFO:tensorflow:Assets written to: /content/e2d2_checkpoints/model15/assets\n"
          ]
        },
        {
          "output_type": "stream",
          "name": "stderr",
          "text": [
            "INFO:tensorflow:Assets written to: /content/e2d2_checkpoints/model15/assets\n"
          ]
        },
        {
          "output_type": "stream",
          "name": "stdout",
          "text": [
            "Epoch 16/125\n",
            "180/180 [==============================] - 16s 92ms/step - loss: 0.0044 - val_loss: 5.1799e-04\n",
            "Epoch 17/125\n",
            "180/180 [==============================] - 17s 94ms/step - loss: 0.0043 - val_loss: 5.4774e-04\n",
            "Epoch 18/125\n",
            "180/180 [==============================] - 17s 92ms/step - loss: 0.0042 - val_loss: 5.4553e-04\n",
            "Epoch 19/125\n",
            "180/180 [==============================] - 17s 92ms/step - loss: 0.0043 - val_loss: 5.8037e-04\n",
            "Epoch 20/125\n",
            "180/180 [==============================] - 17s 93ms/step - loss: 0.0041 - val_loss: 5.7753e-04\n"
          ]
        },
        {
          "output_type": "stream",
          "name": "stderr",
          "text": [
            "WARNING:absl:Found untraced functions such as lstm_cell_2_layer_call_and_return_conditional_losses, lstm_cell_2_layer_call_fn, lstm_cell_3_layer_call_and_return_conditional_losses, lstm_cell_3_layer_call_fn, lstm_cell_4_layer_call_and_return_conditional_losses while saving (showing 5 of 20). These functions will not be directly callable after loading.\n"
          ]
        },
        {
          "output_type": "stream",
          "name": "stdout",
          "text": [
            "INFO:tensorflow:Assets written to: /content/e2d2_checkpoints/model20/assets\n"
          ]
        },
        {
          "output_type": "stream",
          "name": "stderr",
          "text": [
            "INFO:tensorflow:Assets written to: /content/e2d2_checkpoints/model20/assets\n"
          ]
        },
        {
          "output_type": "stream",
          "name": "stdout",
          "text": [
            "Epoch 21/125\n",
            "180/180 [==============================] - 17s 92ms/step - loss: 0.0040 - val_loss: 6.3677e-04\n",
            "Epoch 22/125\n",
            "180/180 [==============================] - 17s 92ms/step - loss: 0.0040 - val_loss: 6.0499e-04\n",
            "Epoch 23/125\n",
            "180/180 [==============================] - 17s 92ms/step - loss: 0.0039 - val_loss: 6.5121e-04\n",
            "Epoch 24/125\n",
            "180/180 [==============================] - 17s 92ms/step - loss: 0.0038 - val_loss: 7.1424e-04\n",
            "Epoch 25/125\n",
            "180/180 [==============================] - 17s 94ms/step - loss: 0.0038 - val_loss: 6.1194e-04\n"
          ]
        },
        {
          "output_type": "stream",
          "name": "stderr",
          "text": [
            "WARNING:absl:Found untraced functions such as lstm_cell_2_layer_call_and_return_conditional_losses, lstm_cell_2_layer_call_fn, lstm_cell_3_layer_call_and_return_conditional_losses, lstm_cell_3_layer_call_fn, lstm_cell_4_layer_call_and_return_conditional_losses while saving (showing 5 of 20). These functions will not be directly callable after loading.\n"
          ]
        },
        {
          "output_type": "stream",
          "name": "stdout",
          "text": [
            "INFO:tensorflow:Assets written to: /content/e2d2_checkpoints/model25/assets\n"
          ]
        },
        {
          "output_type": "stream",
          "name": "stderr",
          "text": [
            "INFO:tensorflow:Assets written to: /content/e2d2_checkpoints/model25/assets\n"
          ]
        },
        {
          "output_type": "stream",
          "name": "stdout",
          "text": [
            "Epoch 26/125\n",
            "180/180 [==============================] - 17s 93ms/step - loss: 0.0037 - val_loss: 7.4953e-04\n",
            "Epoch 27/125\n",
            "180/180 [==============================] - 17s 92ms/step - loss: 0.0037 - val_loss: 6.4949e-04\n",
            "Epoch 28/125\n",
            "180/180 [==============================] - 17s 93ms/step - loss: 0.0037 - val_loss: 7.9383e-04\n",
            "Epoch 29/125\n",
            "180/180 [==============================] - 17s 94ms/step - loss: 0.0036 - val_loss: 8.2793e-04\n",
            "Epoch 30/125\n",
            "180/180 [==============================] - 17s 93ms/step - loss: 0.0036 - val_loss: 8.5895e-04\n"
          ]
        },
        {
          "output_type": "stream",
          "name": "stderr",
          "text": [
            "WARNING:absl:Found untraced functions such as lstm_cell_2_layer_call_and_return_conditional_losses, lstm_cell_2_layer_call_fn, lstm_cell_3_layer_call_and_return_conditional_losses, lstm_cell_3_layer_call_fn, lstm_cell_4_layer_call_and_return_conditional_losses while saving (showing 5 of 20). These functions will not be directly callable after loading.\n"
          ]
        },
        {
          "output_type": "stream",
          "name": "stdout",
          "text": [
            "INFO:tensorflow:Assets written to: /content/e2d2_checkpoints/model30/assets\n"
          ]
        },
        {
          "output_type": "stream",
          "name": "stderr",
          "text": [
            "INFO:tensorflow:Assets written to: /content/e2d2_checkpoints/model30/assets\n"
          ]
        },
        {
          "output_type": "stream",
          "name": "stdout",
          "text": [
            "Epoch 31/125\n",
            "180/180 [==============================] - 17s 93ms/step - loss: 0.0036 - val_loss: 7.9691e-04\n",
            "Epoch 32/125\n",
            "180/180 [==============================] - 17s 93ms/step - loss: 0.0035 - val_loss: 7.3112e-04\n",
            "Epoch 33/125\n",
            "180/180 [==============================] - 17s 92ms/step - loss: 0.0035 - val_loss: 7.5918e-04\n",
            "Epoch 34/125\n",
            "180/180 [==============================] - 17s 93ms/step - loss: 0.0035 - val_loss: 7.8883e-04\n",
            "Epoch 35/125\n",
            "180/180 [==============================] - 17s 93ms/step - loss: 0.0035 - val_loss: 7.7915e-04\n"
          ]
        },
        {
          "output_type": "stream",
          "name": "stderr",
          "text": [
            "WARNING:absl:Found untraced functions such as lstm_cell_2_layer_call_and_return_conditional_losses, lstm_cell_2_layer_call_fn, lstm_cell_3_layer_call_and_return_conditional_losses, lstm_cell_3_layer_call_fn, lstm_cell_4_layer_call_and_return_conditional_losses while saving (showing 5 of 20). These functions will not be directly callable after loading.\n"
          ]
        },
        {
          "output_type": "stream",
          "name": "stdout",
          "text": [
            "INFO:tensorflow:Assets written to: /content/e2d2_checkpoints/model35/assets\n"
          ]
        },
        {
          "output_type": "stream",
          "name": "stderr",
          "text": [
            "INFO:tensorflow:Assets written to: /content/e2d2_checkpoints/model35/assets\n"
          ]
        },
        {
          "output_type": "stream",
          "name": "stdout",
          "text": [
            "Epoch 36/125\n",
            "180/180 [==============================] - 17s 93ms/step - loss: 0.0034 - val_loss: 7.8234e-04\n",
            "Epoch 37/125\n",
            "180/180 [==============================] - 17s 95ms/step - loss: 0.0034 - val_loss: 8.0198e-04\n",
            "Epoch 38/125\n",
            "180/180 [==============================] - 17s 92ms/step - loss: 0.0034 - val_loss: 7.5827e-04\n",
            "Epoch 39/125\n",
            "180/180 [==============================] - 17s 92ms/step - loss: 0.0034 - val_loss: 8.1604e-04\n",
            "Epoch 40/125\n",
            "180/180 [==============================] - 17s 92ms/step - loss: 0.0033 - val_loss: 8.0586e-04\n"
          ]
        },
        {
          "output_type": "stream",
          "name": "stderr",
          "text": [
            "WARNING:absl:Found untraced functions such as lstm_cell_2_layer_call_and_return_conditional_losses, lstm_cell_2_layer_call_fn, lstm_cell_3_layer_call_and_return_conditional_losses, lstm_cell_3_layer_call_fn, lstm_cell_4_layer_call_and_return_conditional_losses while saving (showing 5 of 20). These functions will not be directly callable after loading.\n"
          ]
        },
        {
          "output_type": "stream",
          "name": "stdout",
          "text": [
            "INFO:tensorflow:Assets written to: /content/e2d2_checkpoints/model40/assets\n"
          ]
        },
        {
          "output_type": "stream",
          "name": "stderr",
          "text": [
            "INFO:tensorflow:Assets written to: /content/e2d2_checkpoints/model40/assets\n"
          ]
        },
        {
          "output_type": "stream",
          "name": "stdout",
          "text": [
            "Epoch 41/125\n",
            "180/180 [==============================] - 17s 93ms/step - loss: 0.0033 - val_loss: 7.6899e-04\n",
            "Epoch 42/125\n",
            "180/180 [==============================] - 17s 92ms/step - loss: 0.0033 - val_loss: 8.2780e-04\n",
            "Epoch 43/125\n",
            "180/180 [==============================] - 17s 92ms/step - loss: 0.0033 - val_loss: 8.0808e-04\n",
            "Epoch 44/125\n",
            "180/180 [==============================] - 17s 92ms/step - loss: 0.0033 - val_loss: 8.4045e-04\n",
            "Epoch 45/125\n",
            "180/180 [==============================] - 17s 94ms/step - loss: 0.0032 - val_loss: 8.5676e-04\n"
          ]
        },
        {
          "output_type": "stream",
          "name": "stderr",
          "text": [
            "WARNING:absl:Found untraced functions such as lstm_cell_2_layer_call_and_return_conditional_losses, lstm_cell_2_layer_call_fn, lstm_cell_3_layer_call_and_return_conditional_losses, lstm_cell_3_layer_call_fn, lstm_cell_4_layer_call_and_return_conditional_losses while saving (showing 5 of 20). These functions will not be directly callable after loading.\n"
          ]
        },
        {
          "output_type": "stream",
          "name": "stdout",
          "text": [
            "INFO:tensorflow:Assets written to: /content/e2d2_checkpoints/model45/assets\n"
          ]
        },
        {
          "output_type": "stream",
          "name": "stderr",
          "text": [
            "INFO:tensorflow:Assets written to: /content/e2d2_checkpoints/model45/assets\n"
          ]
        },
        {
          "output_type": "stream",
          "name": "stdout",
          "text": [
            "Epoch 46/125\n",
            "180/180 [==============================] - 17s 95ms/step - loss: 0.0032 - val_loss: 8.3986e-04\n",
            "Epoch 47/125\n",
            "180/180 [==============================] - 17s 94ms/step - loss: 0.0032 - val_loss: 8.2918e-04\n",
            "Epoch 48/125\n",
            "180/180 [==============================] - 17s 93ms/step - loss: 0.0032 - val_loss: 8.5272e-04\n",
            "Epoch 49/125\n",
            "180/180 [==============================] - 17s 94ms/step - loss: 0.0032 - val_loss: 8.1823e-04\n",
            "Epoch 50/125\n",
            "180/180 [==============================] - 17s 93ms/step - loss: 0.0032 - val_loss: 8.3554e-04\n"
          ]
        },
        {
          "output_type": "stream",
          "name": "stderr",
          "text": [
            "WARNING:absl:Found untraced functions such as lstm_cell_2_layer_call_and_return_conditional_losses, lstm_cell_2_layer_call_fn, lstm_cell_3_layer_call_and_return_conditional_losses, lstm_cell_3_layer_call_fn, lstm_cell_4_layer_call_and_return_conditional_losses while saving (showing 5 of 20). These functions will not be directly callable after loading.\n"
          ]
        },
        {
          "output_type": "stream",
          "name": "stdout",
          "text": [
            "INFO:tensorflow:Assets written to: /content/e2d2_checkpoints/model50/assets\n"
          ]
        },
        {
          "output_type": "stream",
          "name": "stderr",
          "text": [
            "INFO:tensorflow:Assets written to: /content/e2d2_checkpoints/model50/assets\n"
          ]
        },
        {
          "output_type": "stream",
          "name": "stdout",
          "text": [
            "Epoch 51/125\n",
            "180/180 [==============================] - 17s 94ms/step - loss: 0.0032 - val_loss: 8.1703e-04\n",
            "Epoch 52/125\n",
            "180/180 [==============================] - 17s 94ms/step - loss: 0.0032 - val_loss: 8.2019e-04\n",
            "Epoch 53/125\n",
            "180/180 [==============================] - 17s 93ms/step - loss: 0.0032 - val_loss: 8.3233e-04\n",
            "Epoch 54/125\n",
            "180/180 [==============================] - 17s 93ms/step - loss: 0.0032 - val_loss: 8.1512e-04\n",
            "Epoch 55/125\n",
            "180/180 [==============================] - 17s 94ms/step - loss: 0.0032 - val_loss: 8.1823e-04\n"
          ]
        },
        {
          "output_type": "stream",
          "name": "stderr",
          "text": [
            "WARNING:absl:Found untraced functions such as lstm_cell_2_layer_call_and_return_conditional_losses, lstm_cell_2_layer_call_fn, lstm_cell_3_layer_call_and_return_conditional_losses, lstm_cell_3_layer_call_fn, lstm_cell_4_layer_call_and_return_conditional_losses while saving (showing 5 of 20). These functions will not be directly callable after loading.\n"
          ]
        },
        {
          "output_type": "stream",
          "name": "stdout",
          "text": [
            "INFO:tensorflow:Assets written to: /content/e2d2_checkpoints/model55/assets\n"
          ]
        },
        {
          "output_type": "stream",
          "name": "stderr",
          "text": [
            "INFO:tensorflow:Assets written to: /content/e2d2_checkpoints/model55/assets\n"
          ]
        },
        {
          "output_type": "stream",
          "name": "stdout",
          "text": [
            "Epoch 56/125\n",
            "180/180 [==============================] - 17s 93ms/step - loss: 0.0032 - val_loss: 8.2183e-04\n",
            "Epoch 57/125\n",
            "180/180 [==============================] - 17s 93ms/step - loss: 0.0032 - val_loss: 8.1899e-04\n",
            "Epoch 58/125\n",
            "180/180 [==============================] - 17s 93ms/step - loss: 0.0032 - val_loss: 8.1921e-04\n",
            "Epoch 59/125\n",
            "180/180 [==============================] - 17s 92ms/step - loss: 0.0031 - val_loss: 8.1583e-04\n",
            "Epoch 60/125\n",
            "180/180 [==============================] - 17s 94ms/step - loss: 0.0031 - val_loss: 8.1992e-04\n"
          ]
        },
        {
          "output_type": "stream",
          "name": "stderr",
          "text": [
            "WARNING:absl:Found untraced functions such as lstm_cell_2_layer_call_and_return_conditional_losses, lstm_cell_2_layer_call_fn, lstm_cell_3_layer_call_and_return_conditional_losses, lstm_cell_3_layer_call_fn, lstm_cell_4_layer_call_and_return_conditional_losses while saving (showing 5 of 20). These functions will not be directly callable after loading.\n"
          ]
        },
        {
          "output_type": "stream",
          "name": "stdout",
          "text": [
            "INFO:tensorflow:Assets written to: /content/e2d2_checkpoints/model60/assets\n"
          ]
        },
        {
          "output_type": "stream",
          "name": "stderr",
          "text": [
            "INFO:tensorflow:Assets written to: /content/e2d2_checkpoints/model60/assets\n"
          ]
        },
        {
          "output_type": "stream",
          "name": "stdout",
          "text": [
            "Epoch 61/125\n",
            "180/180 [==============================] - 17s 92ms/step - loss: 0.0031 - val_loss: 8.2204e-04\n",
            "Epoch 62/125\n",
            "180/180 [==============================] - 17s 92ms/step - loss: 0.0031 - val_loss: 8.1752e-04\n",
            "Epoch 63/125\n",
            "180/180 [==============================] - 17s 93ms/step - loss: 0.0031 - val_loss: 8.1159e-04\n",
            "Epoch 64/125\n",
            "180/180 [==============================] - 17s 93ms/step - loss: 0.0031 - val_loss: 8.1399e-04\n",
            "Epoch 65/125\n",
            "180/180 [==============================] - 17s 93ms/step - loss: 0.0031 - val_loss: 8.1408e-04\n"
          ]
        },
        {
          "output_type": "stream",
          "name": "stderr",
          "text": [
            "WARNING:absl:Found untraced functions such as lstm_cell_2_layer_call_and_return_conditional_losses, lstm_cell_2_layer_call_fn, lstm_cell_3_layer_call_and_return_conditional_losses, lstm_cell_3_layer_call_fn, lstm_cell_4_layer_call_and_return_conditional_losses while saving (showing 5 of 20). These functions will not be directly callable after loading.\n"
          ]
        },
        {
          "output_type": "stream",
          "name": "stdout",
          "text": [
            "INFO:tensorflow:Assets written to: /content/e2d2_checkpoints/model65/assets\n"
          ]
        },
        {
          "output_type": "stream",
          "name": "stderr",
          "text": [
            "INFO:tensorflow:Assets written to: /content/e2d2_checkpoints/model65/assets\n"
          ]
        },
        {
          "output_type": "stream",
          "name": "stdout",
          "text": [
            "Epoch 66/125\n",
            "180/180 [==============================] - 17s 94ms/step - loss: 0.0031 - val_loss: 8.1465e-04\n",
            "Epoch 67/125\n",
            "180/180 [==============================] - 17s 93ms/step - loss: 0.0031 - val_loss: 8.1205e-04\n",
            "Epoch 68/125\n",
            "180/180 [==============================] - 17s 93ms/step - loss: 0.0031 - val_loss: 8.1285e-04\n",
            "Epoch 69/125\n",
            "180/180 [==============================] - 17s 93ms/step - loss: 0.0031 - val_loss: 8.1146e-04\n",
            "Epoch 70/125\n",
            "180/180 [==============================] - 17s 93ms/step - loss: 0.0031 - val_loss: 8.1165e-04\n"
          ]
        },
        {
          "output_type": "stream",
          "name": "stderr",
          "text": [
            "WARNING:absl:Found untraced functions such as lstm_cell_2_layer_call_and_return_conditional_losses, lstm_cell_2_layer_call_fn, lstm_cell_3_layer_call_and_return_conditional_losses, lstm_cell_3_layer_call_fn, lstm_cell_4_layer_call_and_return_conditional_losses while saving (showing 5 of 20). These functions will not be directly callable after loading.\n"
          ]
        },
        {
          "output_type": "stream",
          "name": "stdout",
          "text": [
            "INFO:tensorflow:Assets written to: /content/e2d2_checkpoints/model70/assets\n"
          ]
        },
        {
          "output_type": "stream",
          "name": "stderr",
          "text": [
            "INFO:tensorflow:Assets written to: /content/e2d2_checkpoints/model70/assets\n"
          ]
        },
        {
          "output_type": "stream",
          "name": "stdout",
          "text": [
            "Epoch 71/125\n",
            "180/180 [==============================] - 17s 94ms/step - loss: 0.0031 - val_loss: 8.1030e-04\n",
            "Epoch 72/125\n",
            "180/180 [==============================] - 17s 94ms/step - loss: 0.0031 - val_loss: 8.0990e-04\n",
            "Epoch 73/125\n",
            "180/180 [==============================] - 17s 94ms/step - loss: 0.0031 - val_loss: 8.1168e-04\n",
            "Epoch 74/125\n",
            "180/180 [==============================] - 17s 93ms/step - loss: 0.0031 - val_loss: 8.1062e-04\n",
            "Epoch 75/125\n",
            "180/180 [==============================] - 17s 93ms/step - loss: 0.0031 - val_loss: 8.1101e-04\n"
          ]
        },
        {
          "output_type": "stream",
          "name": "stderr",
          "text": [
            "WARNING:absl:Found untraced functions such as lstm_cell_2_layer_call_and_return_conditional_losses, lstm_cell_2_layer_call_fn, lstm_cell_3_layer_call_and_return_conditional_losses, lstm_cell_3_layer_call_fn, lstm_cell_4_layer_call_and_return_conditional_losses while saving (showing 5 of 20). These functions will not be directly callable after loading.\n"
          ]
        },
        {
          "output_type": "stream",
          "name": "stdout",
          "text": [
            "INFO:tensorflow:Assets written to: /content/e2d2_checkpoints/model75/assets\n"
          ]
        },
        {
          "output_type": "stream",
          "name": "stderr",
          "text": [
            "INFO:tensorflow:Assets written to: /content/e2d2_checkpoints/model75/assets\n"
          ]
        },
        {
          "output_type": "stream",
          "name": "stdout",
          "text": [
            "Epoch 76/125\n",
            "180/180 [==============================] - 17s 92ms/step - loss: 0.0031 - val_loss: 8.1009e-04\n",
            "Epoch 77/125\n",
            "180/180 [==============================] - 17s 92ms/step - loss: 0.0031 - val_loss: 8.1098e-04\n",
            "Epoch 78/125\n",
            "180/180 [==============================] - 17s 94ms/step - loss: 0.0031 - val_loss: 8.1017e-04\n",
            "Epoch 79/125\n",
            "180/180 [==============================] - 17s 93ms/step - loss: 0.0031 - val_loss: 8.0967e-04\n",
            "Epoch 80/125\n",
            "180/180 [==============================] - 17s 93ms/step - loss: 0.0031 - val_loss: 8.1006e-04\n"
          ]
        },
        {
          "output_type": "stream",
          "name": "stderr",
          "text": [
            "WARNING:absl:Found untraced functions such as lstm_cell_2_layer_call_and_return_conditional_losses, lstm_cell_2_layer_call_fn, lstm_cell_3_layer_call_and_return_conditional_losses, lstm_cell_3_layer_call_fn, lstm_cell_4_layer_call_and_return_conditional_losses while saving (showing 5 of 20). These functions will not be directly callable after loading.\n"
          ]
        },
        {
          "output_type": "stream",
          "name": "stdout",
          "text": [
            "INFO:tensorflow:Assets written to: /content/e2d2_checkpoints/model80/assets\n"
          ]
        },
        {
          "output_type": "stream",
          "name": "stderr",
          "text": [
            "INFO:tensorflow:Assets written to: /content/e2d2_checkpoints/model80/assets\n"
          ]
        },
        {
          "output_type": "stream",
          "name": "stdout",
          "text": [
            "Epoch 81/125\n",
            "180/180 [==============================] - 17s 94ms/step - loss: 0.0031 - val_loss: 8.1003e-04\n",
            "Epoch 82/125\n",
            "180/180 [==============================] - 17s 94ms/step - loss: 0.0031 - val_loss: 8.0965e-04\n",
            "Epoch 83/125\n",
            "180/180 [==============================] - 17s 94ms/step - loss: 0.0031 - val_loss: 8.0954e-04\n",
            "Epoch 84/125\n",
            "180/180 [==============================] - 17s 93ms/step - loss: 0.0031 - val_loss: 8.0935e-04\n",
            "Epoch 85/125\n",
            "180/180 [==============================] - 17s 93ms/step - loss: 0.0031 - val_loss: 8.0980e-04\n"
          ]
        },
        {
          "output_type": "stream",
          "name": "stderr",
          "text": [
            "WARNING:absl:Found untraced functions such as lstm_cell_2_layer_call_and_return_conditional_losses, lstm_cell_2_layer_call_fn, lstm_cell_3_layer_call_and_return_conditional_losses, lstm_cell_3_layer_call_fn, lstm_cell_4_layer_call_and_return_conditional_losses while saving (showing 5 of 20). These functions will not be directly callable after loading.\n"
          ]
        },
        {
          "output_type": "stream",
          "name": "stdout",
          "text": [
            "INFO:tensorflow:Assets written to: /content/e2d2_checkpoints/model85/assets\n"
          ]
        },
        {
          "output_type": "stream",
          "name": "stderr",
          "text": [
            "INFO:tensorflow:Assets written to: /content/e2d2_checkpoints/model85/assets\n"
          ]
        },
        {
          "output_type": "stream",
          "name": "stdout",
          "text": [
            "Epoch 86/125\n",
            "180/180 [==============================] - 17s 95ms/step - loss: 0.0031 - val_loss: 8.0991e-04\n",
            "Epoch 87/125\n",
            "180/180 [==============================] - 17s 95ms/step - loss: 0.0031 - val_loss: 8.0977e-04\n",
            "Epoch 88/125\n",
            "180/180 [==============================] - 17s 93ms/step - loss: 0.0031 - val_loss: 8.0981e-04\n",
            "Epoch 89/125\n",
            "180/180 [==============================] - 17s 93ms/step - loss: 0.0031 - val_loss: 8.0970e-04\n",
            "Epoch 90/125\n",
            "180/180 [==============================] - 17s 94ms/step - loss: 0.0031 - val_loss: 8.0966e-04\n"
          ]
        },
        {
          "output_type": "stream",
          "name": "stderr",
          "text": [
            "WARNING:absl:Found untraced functions such as lstm_cell_2_layer_call_and_return_conditional_losses, lstm_cell_2_layer_call_fn, lstm_cell_3_layer_call_and_return_conditional_losses, lstm_cell_3_layer_call_fn, lstm_cell_4_layer_call_and_return_conditional_losses while saving (showing 5 of 20). These functions will not be directly callable after loading.\n"
          ]
        },
        {
          "output_type": "stream",
          "name": "stdout",
          "text": [
            "INFO:tensorflow:Assets written to: /content/e2d2_checkpoints/model90/assets\n"
          ]
        },
        {
          "output_type": "stream",
          "name": "stderr",
          "text": [
            "INFO:tensorflow:Assets written to: /content/e2d2_checkpoints/model90/assets\n"
          ]
        },
        {
          "output_type": "stream",
          "name": "stdout",
          "text": [
            "Epoch 91/125\n",
            "180/180 [==============================] - 17s 94ms/step - loss: 0.0031 - val_loss: 8.0976e-04\n",
            "Epoch 92/125\n",
            "180/180 [==============================] - 17s 93ms/step - loss: 0.0031 - val_loss: 8.0961e-04\n",
            "Epoch 93/125\n",
            "180/180 [==============================] - 17s 94ms/step - loss: 0.0031 - val_loss: 8.0948e-04\n",
            "Epoch 94/125\n",
            "180/180 [==============================] - 17s 93ms/step - loss: 0.0031 - val_loss: 8.0945e-04\n",
            "Epoch 95/125\n",
            "180/180 [==============================] - 17s 93ms/step - loss: 0.0031 - val_loss: 8.0952e-04\n"
          ]
        },
        {
          "output_type": "stream",
          "name": "stderr",
          "text": [
            "WARNING:absl:Found untraced functions such as lstm_cell_2_layer_call_and_return_conditional_losses, lstm_cell_2_layer_call_fn, lstm_cell_3_layer_call_and_return_conditional_losses, lstm_cell_3_layer_call_fn, lstm_cell_4_layer_call_and_return_conditional_losses while saving (showing 5 of 20). These functions will not be directly callable after loading.\n"
          ]
        },
        {
          "output_type": "stream",
          "name": "stdout",
          "text": [
            "INFO:tensorflow:Assets written to: /content/e2d2_checkpoints/model95/assets\n"
          ]
        },
        {
          "output_type": "stream",
          "name": "stderr",
          "text": [
            "INFO:tensorflow:Assets written to: /content/e2d2_checkpoints/model95/assets\n"
          ]
        },
        {
          "output_type": "stream",
          "name": "stdout",
          "text": [
            "Epoch 96/125\n",
            "180/180 [==============================] - 17s 94ms/step - loss: 0.0031 - val_loss: 8.0963e-04\n",
            "Epoch 97/125\n",
            "180/180 [==============================] - 17s 94ms/step - loss: 0.0031 - val_loss: 8.0949e-04\n",
            "Epoch 98/125\n",
            "180/180 [==============================] - 17s 93ms/step - loss: 0.0031 - val_loss: 8.0953e-04\n",
            "Epoch 99/125\n",
            "180/180 [==============================] - 17s 94ms/step - loss: 0.0031 - val_loss: 8.0950e-04\n",
            "Epoch 100/125\n",
            "180/180 [==============================] - 17s 96ms/step - loss: 0.0031 - val_loss: 8.0946e-04\n"
          ]
        },
        {
          "output_type": "stream",
          "name": "stderr",
          "text": [
            "WARNING:absl:Found untraced functions such as lstm_cell_2_layer_call_and_return_conditional_losses, lstm_cell_2_layer_call_fn, lstm_cell_3_layer_call_and_return_conditional_losses, lstm_cell_3_layer_call_fn, lstm_cell_4_layer_call_and_return_conditional_losses while saving (showing 5 of 20). These functions will not be directly callable after loading.\n"
          ]
        },
        {
          "output_type": "stream",
          "name": "stdout",
          "text": [
            "INFO:tensorflow:Assets written to: /content/e2d2_checkpoints/model100/assets\n"
          ]
        },
        {
          "output_type": "stream",
          "name": "stderr",
          "text": [
            "INFO:tensorflow:Assets written to: /content/e2d2_checkpoints/model100/assets\n"
          ]
        },
        {
          "output_type": "stream",
          "name": "stdout",
          "text": [
            "Epoch 101/125\n",
            "180/180 [==============================] - 17s 94ms/step - loss: 0.0031 - val_loss: 8.0945e-04\n",
            "Epoch 102/125\n",
            "180/180 [==============================] - 17s 95ms/step - loss: 0.0031 - val_loss: 8.0939e-04\n",
            "Epoch 103/125\n",
            "180/180 [==============================] - 17s 94ms/step - loss: 0.0031 - val_loss: 8.0938e-04\n",
            "Epoch 104/125\n",
            "180/180 [==============================] - 17s 94ms/step - loss: 0.0031 - val_loss: 8.0941e-04\n",
            "Epoch 105/125\n",
            "180/180 [==============================] - 17s 94ms/step - loss: 0.0031 - val_loss: 8.0941e-04\n"
          ]
        },
        {
          "output_type": "stream",
          "name": "stderr",
          "text": [
            "WARNING:absl:Found untraced functions such as lstm_cell_2_layer_call_and_return_conditional_losses, lstm_cell_2_layer_call_fn, lstm_cell_3_layer_call_and_return_conditional_losses, lstm_cell_3_layer_call_fn, lstm_cell_4_layer_call_and_return_conditional_losses while saving (showing 5 of 20). These functions will not be directly callable after loading.\n"
          ]
        },
        {
          "output_type": "stream",
          "name": "stdout",
          "text": [
            "INFO:tensorflow:Assets written to: /content/e2d2_checkpoints/model105/assets\n"
          ]
        },
        {
          "output_type": "stream",
          "name": "stderr",
          "text": [
            "INFO:tensorflow:Assets written to: /content/e2d2_checkpoints/model105/assets\n"
          ]
        },
        {
          "output_type": "stream",
          "name": "stdout",
          "text": [
            "Epoch 106/125\n",
            "180/180 [==============================] - 17s 94ms/step - loss: 0.0031 - val_loss: 8.0943e-04\n",
            "Epoch 107/125\n",
            "180/180 [==============================] - 17s 95ms/step - loss: 0.0031 - val_loss: 8.0946e-04\n",
            "Epoch 108/125\n",
            "180/180 [==============================] - 17s 96ms/step - loss: 0.0031 - val_loss: 8.0942e-04\n",
            "Epoch 109/125\n",
            "180/180 [==============================] - 17s 95ms/step - loss: 0.0031 - val_loss: 8.0945e-04\n",
            "Epoch 110/125\n",
            "180/180 [==============================] - 17s 95ms/step - loss: 0.0031 - val_loss: 8.0945e-04\n"
          ]
        },
        {
          "output_type": "stream",
          "name": "stderr",
          "text": [
            "WARNING:absl:Found untraced functions such as lstm_cell_2_layer_call_and_return_conditional_losses, lstm_cell_2_layer_call_fn, lstm_cell_3_layer_call_and_return_conditional_losses, lstm_cell_3_layer_call_fn, lstm_cell_4_layer_call_and_return_conditional_losses while saving (showing 5 of 20). These functions will not be directly callable after loading.\n"
          ]
        },
        {
          "output_type": "stream",
          "name": "stdout",
          "text": [
            "INFO:tensorflow:Assets written to: /content/e2d2_checkpoints/model110/assets\n"
          ]
        },
        {
          "output_type": "stream",
          "name": "stderr",
          "text": [
            "INFO:tensorflow:Assets written to: /content/e2d2_checkpoints/model110/assets\n"
          ]
        },
        {
          "output_type": "stream",
          "name": "stdout",
          "text": [
            "Epoch 111/125\n",
            "180/180 [==============================] - 17s 93ms/step - loss: 0.0031 - val_loss: 8.0945e-04\n",
            "Epoch 112/125\n",
            "180/180 [==============================] - 17s 95ms/step - loss: 0.0031 - val_loss: 8.0942e-04\n",
            "Epoch 113/125\n",
            "180/180 [==============================] - 17s 94ms/step - loss: 0.0031 - val_loss: 8.0943e-04\n",
            "Epoch 114/125\n",
            "180/180 [==============================] - 17s 94ms/step - loss: 0.0031 - val_loss: 8.0943e-04\n",
            "Epoch 115/125\n",
            "180/180 [==============================] - 17s 94ms/step - loss: 0.0031 - val_loss: 8.0943e-04\n"
          ]
        },
        {
          "output_type": "stream",
          "name": "stderr",
          "text": [
            "WARNING:absl:Found untraced functions such as lstm_cell_2_layer_call_and_return_conditional_losses, lstm_cell_2_layer_call_fn, lstm_cell_3_layer_call_and_return_conditional_losses, lstm_cell_3_layer_call_fn, lstm_cell_4_layer_call_and_return_conditional_losses while saving (showing 5 of 20). These functions will not be directly callable after loading.\n"
          ]
        },
        {
          "output_type": "stream",
          "name": "stdout",
          "text": [
            "INFO:tensorflow:Assets written to: /content/e2d2_checkpoints/model115/assets\n"
          ]
        },
        {
          "output_type": "stream",
          "name": "stderr",
          "text": [
            "INFO:tensorflow:Assets written to: /content/e2d2_checkpoints/model115/assets\n"
          ]
        },
        {
          "output_type": "stream",
          "name": "stdout",
          "text": [
            "Epoch 116/125\n",
            "180/180 [==============================] - 17s 95ms/step - loss: 0.0031 - val_loss: 8.0943e-04\n",
            "Epoch 117/125\n",
            "180/180 [==============================] - 17s 94ms/step - loss: 0.0031 - val_loss: 8.0943e-04\n",
            "Epoch 118/125\n",
            "180/180 [==============================] - 17s 94ms/step - loss: 0.0031 - val_loss: 8.0943e-04\n",
            "Epoch 119/125\n",
            "180/180 [==============================] - 17s 95ms/step - loss: 0.0031 - val_loss: 8.0943e-04\n",
            "Epoch 120/125\n",
            "180/180 [==============================] - 17s 94ms/step - loss: 0.0031 - val_loss: 8.0943e-04\n"
          ]
        },
        {
          "output_type": "stream",
          "name": "stderr",
          "text": [
            "WARNING:absl:Found untraced functions such as lstm_cell_2_layer_call_and_return_conditional_losses, lstm_cell_2_layer_call_fn, lstm_cell_3_layer_call_and_return_conditional_losses, lstm_cell_3_layer_call_fn, lstm_cell_4_layer_call_and_return_conditional_losses while saving (showing 5 of 20). These functions will not be directly callable after loading.\n"
          ]
        },
        {
          "output_type": "stream",
          "name": "stdout",
          "text": [
            "INFO:tensorflow:Assets written to: /content/e2d2_checkpoints/model120/assets\n"
          ]
        },
        {
          "output_type": "stream",
          "name": "stderr",
          "text": [
            "INFO:tensorflow:Assets written to: /content/e2d2_checkpoints/model120/assets\n"
          ]
        },
        {
          "output_type": "stream",
          "name": "stdout",
          "text": [
            "Epoch 121/125\n",
            "180/180 [==============================] - 17s 94ms/step - loss: 0.0031 - val_loss: 8.0943e-04\n",
            "Epoch 122/125\n",
            "180/180 [==============================] - 17s 95ms/step - loss: 0.0031 - val_loss: 8.0943e-04\n",
            "Epoch 123/125\n",
            "180/180 [==============================] - 17s 94ms/step - loss: 0.0031 - val_loss: 8.0943e-04\n",
            "Epoch 124/125\n",
            "180/180 [==============================] - 17s 94ms/step - loss: 0.0031 - val_loss: 8.0943e-04\n",
            "Epoch 125/125\n",
            "180/180 [==============================] - 17s 94ms/step - loss: 0.0031 - val_loss: 8.0943e-04\n"
          ]
        },
        {
          "output_type": "stream",
          "name": "stderr",
          "text": [
            "WARNING:absl:Found untraced functions such as lstm_cell_2_layer_call_and_return_conditional_losses, lstm_cell_2_layer_call_fn, lstm_cell_3_layer_call_and_return_conditional_losses, lstm_cell_3_layer_call_fn, lstm_cell_4_layer_call_and_return_conditional_losses while saving (showing 5 of 20). These functions will not be directly callable after loading.\n"
          ]
        },
        {
          "output_type": "stream",
          "name": "stdout",
          "text": [
            "INFO:tensorflow:Assets written to: /content/e2d2_checkpoints/model125/assets\n"
          ]
        },
        {
          "output_type": "stream",
          "name": "stderr",
          "text": [
            "INFO:tensorflow:Assets written to: /content/e2d2_checkpoints/model125/assets\n"
          ]
        }
      ]
    },
    {
      "cell_type": "code",
      "metadata": {
        "id": "T9V6mLi2sg1P",
        "colab": {
          "base_uri": "https://localhost:8080/",
          "height": 295
        },
        "outputId": "78f510d7-db3a-49c8-b16e-727ca109a429"
      },
      "source": [
        "plt.plot(history_e1d1.history['loss'])\n",
        "plt.plot(history_e1d1.history['val_loss'])\n",
        "plt.title(\"E1D1 Model Loss\")\n",
        "plt.xlabel('Epochs')\n",
        "plt.ylabel('Loss')\n",
        "plt.legend(['Train', 'Valid'])\n",
        "plt.show()"
      ],
      "execution_count": 17,
      "outputs": [
        {
          "output_type": "display_data",
          "data": {
            "image/png": "[encoded data removed]",
            "text/plain": [
              "<Figure size 432x288 with 1 Axes>"
            ]
          },
          "metadata": {
            "needs_background": "light"
          }
        }
      ]
    },
    {
      "cell_type": "code",
      "metadata": {
        "id": "ecNFo3lIsiXu",
        "colab": {
          "base_uri": "https://localhost:8080/",
          "height": 295
        },
        "outputId": "9fc59f23-b933-40e3-8e95-0129abba0619"
      },
      "source": [
        "plt.plot(history_e2d2.history['loss'])\n",
        "plt.plot(history_e2d2.history['val_loss'])\n",
        "plt.title(\"E2D2 Model Loss\")\n",
        "plt.xlabel('Epochs')\n",
        "plt.ylabel('Loss')\n",
        "plt.legend(['Train', 'Valid'])\n",
        "plt.show()"
      ],
      "execution_count": 18,
      "outputs": [
        {
          "output_type": "display_data",
          "data": {
            "image/png": "[encoded data removed]",
            "text/plain": [
              "<Figure size 432x288 with 1 Axes>"
            ]
          },
          "metadata": {
            "needs_background": "light"
          }
        }
      ]
    },
    {
      "cell_type": "code",
      "metadata": {
        "id": "LZSuYz-2dQaj"
      },
      "source": [
        "pred1_e1d1=model_e1d1.predict(X_test)\n",
        "pred1_e2d2=model_e2d2.predict(X_test)\n",
        "\n",
        "pred_e1d1=model_e1d1.predict(X_train)\n",
        "pred_e2d2=model_e2d2.predict(X_train)"
      ],
      "execution_count": 19,
      "outputs": []
    },
    {
      "cell_type": "code",
      "metadata": {
        "id": "xqbgFaq5W-hz",
        "colab": {
          "base_uri": "https://localhost:8080/"
        },
        "outputId": "13266f6e-5a9e-4cba-b363-41cb72a247fe"
      },
      "source": [
        "print(pred1_e1d1.shape)\n",
        "print(pred1_e2d2.shape)"
      ],
      "execution_count": 20,
      "outputs": [
        {
          "output_type": "stream",
          "name": "stdout",
          "text": [
            "(1, 15, 5)\n",
            "(1, 15, 5)\n"
          ]
        }
      ]
    },
    {
      "cell_type": "code",
      "metadata": {
        "id": "MwbNRLftdSGt"
      },
      "source": [
        "for index,i in enumerate(dataset_train.columns):\n",
        "    scaler = scalers['scaler_'+ str(i)]\n",
        "    pred1_e1d1[:,:,index]=scaler.inverse_transform(pred1_e1d1[:,:,index])\n",
        "    pred_e1d1[:,:,index]=scaler.inverse_transform(pred_e1d1[:,:,index])\n",
        "\n",
        "    pred1_e2d2[:,:,index]=scaler.inverse_transform(pred1_e2d2[:,:,index])\n",
        "    pred_e2d2[:,:,index]=scaler.inverse_transform(pred_e2d2[:,:,index])\n",
        "    \n",
        "    y_train[:,:,index]=scaler.inverse_transform(y_train[:,:,index])\n",
        "    y_test[:,:,index]=scaler.inverse_transform(y_test[:,:,index])"
      ],
      "execution_count": 21,
      "outputs": []
    },
    {
      "cell_type": "code",
      "metadata": {
        "id": "1mNY8g1j8OgK",
        "colab": {
          "base_uri": "https://localhost:8080/"
        },
        "outputId": "235a27e7-ba8e-4219-9851-2c5d953f5802"
      },
      "source": [
        "#print(y_test)\n",
        "print(y_test.shape, pred1_e1d1.shape, pred1_e2d2.shape)\n",
        "print(pred1_e2d2)\n",
        "print(y_test)\n",
        "print(pred1_e1d1)"
      ],
      "execution_count": 22,
      "outputs": [
        {
          "output_type": "stream",
          "name": "stdout",
          "text": [
            "(1, 15, 5) (1, 15, 5) (1, 15, 5)\n",
            "[[[ 1.03150244e+04  8.50929506e-03 -5.11200801e-02 -1.40827924e-01\n",
            "   -8.61060843e-02]\n",
            "  [ 1.03173262e+04  7.36394105e-03 -1.88944917e-02 -1.26156837e-01\n",
            "   -7.85890743e-02]\n",
            "  [ 1.03188242e+04  5.50549058e-03  3.85135273e-03 -1.19196452e-01\n",
            "   -7.96636418e-02]\n",
            "  [ 1.03198213e+04  3.87563696e-03  1.68094914e-02 -1.14124276e-01\n",
            "   -8.48880857e-02]\n",
            "  [ 1.03204688e+04  2.77740997e-03  2.16361657e-02 -1.07317820e-01\n",
            "   -9.14270207e-02]\n",
            "  [ 1.03208750e+04  2.26636534e-03  2.09675897e-02 -9.69504863e-02\n",
            "   -9.77242216e-02]\n",
            "  [ 1.03211162e+04  2.26812880e-03  1.75004434e-02 -8.26761872e-02\n",
            "   -1.02825031e-01]\n",
            "  [ 1.03212471e+04  2.65185232e-03  1.34866545e-02 -6.51671365e-02\n",
            "   -1.06015623e-01]\n",
            "  [ 1.03213125e+04  3.27129010e-03  1.04951197e-02 -4.56588976e-02\n",
            "   -1.06699340e-01]\n",
            "  [ 1.03213477e+04  3.98584642e-03  9.35147051e-03 -2.55845618e-02\n",
            "   -1.04412027e-01]\n",
            "  [ 1.03213848e+04  4.67160018e-03  1.02054942e-02 -6.31728256e-03\n",
            "   -9.88901183e-02]\n",
            "  [ 1.03214473e+04  5.22803096e-03  1.26897963e-02  1.09921163e-02\n",
            "   -9.01300460e-02]\n",
            "  [ 1.03215479e+04  5.58290258e-03  1.61283314e-02  2.55064406e-02\n",
            "   -7.84119144e-02]\n",
            "  [ 1.03216924e+04  5.69565361e-03  1.97512116e-02  3.67423594e-02\n",
            "   -6.42816499e-02]\n",
            "  [ 1.03218750e+04  5.55882510e-03  2.28745881e-02  4.45712283e-02\n",
            "   -4.84970212e-02]]]\n",
            "[[[ 1.03162200e+04 -1.73483065e-02 -6.13220570e-02 -1.96487603e-01\n",
            "   -1.16379945e-01]\n",
            "  [ 1.03180800e+04  1.80298598e-02 -3.28441588e-02 -1.95679952e-01\n",
            "   -9.82743413e-02]\n",
            "  [ 1.03158800e+04 -2.13217963e-02 -4.57337752e-02 -2.09141475e-01\n",
            "   -1.19865302e-01]\n",
            "  [ 1.03120500e+04 -3.71272252e-02 -7.48078688e-02 -1.90191353e-01\n",
            "   -1.57624708e-01]\n",
            "  [ 1.03149400e+04  2.80254654e-02 -2.97537994e-02 -1.50621945e-01\n",
            "   -8.59178927e-02]\n",
            "  [ 1.03167700e+04  1.77412569e-02  5.33141015e-03 -1.08733540e-01\n",
            "   -1.80737172e-01]\n",
            "  [ 1.03213900e+04  4.47814578e-02  3.20796117e-02 -6.17751945e-02\n",
            "   -1.60186497e-01]\n",
            "  [ 1.03207700e+04 -6.00694286e-03  4.74026452e-02 -6.60367036e-02\n",
            "   -1.52468962e-01]\n",
            "  [ 1.03211600e+04  3.77878782e-03  8.83432489e-02 -6.09056447e-02\n",
            "   -1.65887848e-01]\n",
            "  [ 1.03225000e+04  1.29830368e-02  7.32917496e-02 -4.67691068e-02\n",
            "   -1.45102781e-01]\n",
            "  [ 1.03194700e+04 -2.93533543e-02  2.61709818e-02 -2.98375886e-02\n",
            "   -1.18373549e-01]\n",
            "  [ 1.03190000e+04 -4.55449747e-03 -2.31557959e-02 -2.39306998e-02\n",
            "   -1.11320846e-01]\n",
            "  [ 1.03193400e+04  3.29489292e-03 -1.38555554e-02 -1.22085925e-02\n",
            "   -8.38497289e-02]\n",
            "  [ 1.03195000e+04  1.55048676e-03 -1.60834635e-02 -2.61633738e-03\n",
            "   -8.00753696e-02]\n",
            "  [ 1.03160000e+04 -3.39163719e-02 -6.29692419e-02 -1.94805006e-02\n",
            "   -1.12223665e-01]]]\n",
            "[[[ 1.0317344e+04  3.8166346e-03 -4.0789783e-02 -1.5817697e-01\n",
            "   -8.8418864e-02]\n",
            "  [ 1.0317245e+04  1.4877906e-03 -3.2916777e-02 -1.6228698e-01\n",
            "   -1.0891481e-01]\n",
            "  [ 1.0317411e+04  8.1795064e-05 -2.3989605e-02 -1.6108701e-01\n",
            "   -1.2460480e-01]\n",
            "  [ 1.0317578e+04 -4.7407433e-04 -1.6766122e-02 -1.5493298e-01\n",
            "   -1.3686045e-01]\n",
            "  [ 1.0317693e+04 -4.4626123e-04 -1.1797592e-02 -1.4445801e-01\n",
            "   -1.4610504e-01]\n",
            "  [ 1.0317751e+04 -7.6096665e-05 -8.7518264e-03 -1.3064545e-01\n",
            "   -1.5247163e-01]\n",
            "  [ 1.0317760e+04  4.4176684e-04 -7.0287082e-03 -1.1462682e-01\n",
            "   -1.5599073e-01]\n",
            "  [ 1.0317733e+04  9.6402958e-04 -6.0478826e-03 -9.7533293e-02\n",
            "   -1.5670484e-01]\n",
            "  [ 1.0317686e+04  1.3952878e-03 -5.3614778e-03 -8.0397531e-02\n",
            "   -1.5472940e-01]\n",
            "  [ 1.0317631e+04  1.6806580e-03 -4.6772817e-03 -6.4095326e-02\n",
            "   -1.5027441e-01]\n",
            "  [ 1.0317580e+04  1.7970009e-03 -3.8413052e-03 -4.9317926e-02\n",
            "   -1.4364071e-01]\n",
            "  [ 1.0317540e+04  1.7443068e-03 -2.8047808e-03 -3.6565609e-02\n",
            "   -1.3520172e-01]\n",
            "  [ 1.0317520e+04  1.5381889e-03 -1.5901601e-03 -2.6156213e-02\n",
            "   -1.2537861e-01]\n",
            "  [ 1.0317519e+04  1.2036323e-03 -2.6158377e-04 -1.8243298e-02\n",
            "   -1.1461392e-01]\n",
            "  [ 1.0317540e+04  7.7021762e-04  1.0983656e-03 -1.2839078e-02\n",
            "   -1.0334790e-01]]]\n"
          ]
        }
      ]
    },
    {
      "cell_type": "code",
      "metadata": {
        "id": "dSGAVqqQdS_l",
        "colab": {
          "base_uri": "https://localhost:8080/"
        },
        "outputId": "df738f25-5d2a-4b6a-b02d-768ffb89f761"
      },
      "source": [
        "from sklearn.metrics import mean_absolute_error\n",
        "for index,i in enumerate(dataset_train.columns):\n",
        "  print(i)\n",
        "  for j in range(1,n_future+1):\n",
        "    print(\"Day \",j,\":\")\n",
        "    print(y_test[:, j-1, index])\n",
        "    print(\"MAE-E1D1 : \",mean_absolute_error(y_test[:,j-1,index],pred1_e1d1[:,j-1,index]),end=\", \")\n",
        "    print(\"MAE-E2D2 : \",mean_absolute_error(y_test[:,j-1,index],pred1_e2d2[:,j-1,index]))\n",
        "  print()\n",
        "  print()"
      ],
      "execution_count": 23,
      "outputs": [
        {
          "output_type": "stream",
          "name": "stdout",
          "text": [
            "close\n",
            "Day  1 :\n",
            "[10316.22]\n",
            "MAE-E1D1 :  1.1237500000006548, MAE-E2D2 :  1.1955859374993452\n",
            "Day  2 :\n",
            "[10318.08]\n",
            "MAE-E1D1 :  0.8348828124999272, MAE-E2D2 :  0.7538281249999272\n",
            "Day  3 :\n",
            "[10315.88]\n",
            "MAE-E1D1 :  1.5311328125008004, MAE-E2D2 :  2.9442187500008004\n",
            "Day  4 :\n",
            "[10312.05]\n",
            "MAE-E1D1 :  5.528125000000728, MAE-E2D2 :  7.771289062500728\n",
            "Day  5 :\n",
            "[10314.94]\n",
            "MAE-E1D1 :  2.7533593749994907, MAE-E2D2 :  5.528749999999491\n",
            "Day  6 :\n",
            "[10316.77]\n",
            "MAE-E1D1 :  0.9809765624995634, MAE-E2D2 :  4.104999999999563\n",
            "Day  7 :\n",
            "[10321.39]\n",
            "MAE-E1D1 :  3.630234374999418, MAE-E2D2 :  0.2737890624994179\n",
            "Day  8 :\n",
            "[10320.77]\n",
            "MAE-E1D1 :  3.0366015625004366, MAE-E2D2 :  0.47707031249956344\n",
            "Day  9 :\n",
            "[10321.16]\n",
            "MAE-E1D1 :  3.4744531249998545, MAE-E2D2 :  0.15250000000014552\n",
            "Day  10 :\n",
            "[10322.5]\n",
            "MAE-E1D1 :  4.869140625, MAE-E2D2 :  1.15234375\n",
            "Day  11 :\n",
            "[10319.47]\n",
            "MAE-E1D1 :  1.8899218749993452, MAE-E2D2 :  1.9147656250006548\n",
            "Day  12 :\n",
            "[10319.]\n",
            "MAE-E1D1 :  1.4599609375, MAE-E2D2 :  2.447265625\n",
            "Day  13 :\n",
            "[10319.34]\n",
            "MAE-E1D1 :  1.8204687500001455, MAE-E2D2 :  2.2078515624998545\n",
            "Day  14 :\n",
            "[10319.5]\n",
            "MAE-E1D1 :  1.9814453125, MAE-E2D2 :  2.1923828125\n",
            "Day  15 :\n",
            "[10316.]\n",
            "MAE-E1D1 :  1.5400390625, MAE-E2D2 :  5.875\n",
            "\n",
            "\n",
            "diff_pct_1\n",
            "Day  1 :\n",
            "[-0.01734831]\n",
            "MAE-E1D1 :  0.021164941154253825, MAE-E2D2 :  0.02585760156607364\n",
            "Day  2 :\n",
            "[0.01802986]\n",
            "MAE-E1D1 :  0.01654206916730061, MAE-E2D2 :  0.010665918719425349\n",
            "Day  3 :\n",
            "[-0.0213218]\n",
            "MAE-E1D1 :  0.021403591367231915, MAE-E2D2 :  0.026827286885634297\n",
            "Day  4 :\n",
            "[-0.03712723]\n",
            "MAE-E1D1 :  0.03665315087849308, MAE-E2D2 :  0.04100286217138205\n",
            "Day  5 :\n",
            "[0.02802547]\n",
            "MAE-E1D1 :  0.028471726580548307, MAE-E2D2 :  0.025248055381027257\n",
            "Day  6 :\n",
            "[0.01774126]\n",
            "MAE-E1D1 :  0.017817353521564883, MAE-E2D2 :  0.015474891520312894\n",
            "Day  7 :\n",
            "[0.04478146]\n",
            "MAE-E1D1 :  0.04433969092367818, MAE-E2D2 :  0.04251332896690485\n",
            "Day  8 :\n",
            "[-0.00600694]\n",
            "MAE-E1D1 :  0.006970972439006573, MAE-E2D2 :  0.008658795186050838\n",
            "Day  9 :\n",
            "[0.00377879]\n",
            "MAE-E1D1 :  0.002383500015909588, MAE-E2D2 :  0.000507497721898174\n",
            "Day  10 :\n",
            "[0.01298304]\n",
            "MAE-E1D1 :  0.011302378824382231, MAE-E2D2 :  0.008997190375282571\n",
            "Day  11 :\n",
            "[-0.02935335]\n",
            "MAE-E1D1 :  0.031150355200651347, MAE-E2D2 :  0.034024954504701554\n",
            "Day  12 :\n",
            "[-0.0045545]\n",
            "MAE-E1D1 :  0.006298804232045543, MAE-E2D2 :  0.00978252843034966\n",
            "Day  13 :\n",
            "[0.00329489]\n",
            "MAE-E1D1 :  0.0017567040207637757, MAE-E2D2 :  0.0022880096645252496\n",
            "Day  14 :\n",
            "[0.00155049]\n",
            "MAE-E1D1 :  0.0003468544244924483, MAE-E2D2 :  0.004145166857711047\n",
            "Day  15 :\n",
            "[-0.03391637]\n",
            "MAE-E1D1 :  0.03468658953987358, MAE-E2D2 :  0.0394751970152214\n",
            "\n",
            "\n",
            "diff_pct_5\n",
            "Day  1 :\n",
            "[-0.06132206]\n",
            "MAE-E1D1 :  0.020532274048903787, MAE-E2D2 :  0.010201976996043527\n",
            "Day  2 :\n",
            "[-0.03284416]\n",
            "MAE-E1D1 :  7.261800971036791e-05, MAE-E2D2 :  0.013949667108988706\n",
            "Day  3 :\n",
            "[-0.04573378]\n",
            "MAE-E1D1 :  0.021744170382078203, MAE-E2D2 :  0.049585127893294605\n",
            "Day  4 :\n",
            "[-0.07480787]\n",
            "MAE-E1D1 :  0.05804174716904244, MAE-E2D2 :  0.09161736022069535\n",
            "Day  5 :\n",
            "[-0.0297538]\n",
            "MAE-E1D1 :  0.017956207380620967, MAE-E2D2 :  0.051389965102998744\n",
            "Day  6 :\n",
            "[0.00533141]\n",
            "MAE-E1D1 :  0.014083236509108601, MAE-E2D2 :  0.01563617954299444\n",
            "Day  7 :\n",
            "[0.03207961]\n",
            "MAE-E1D1 :  0.03910831994512877, MAE-E2D2 :  0.014579168326648087\n",
            "Day  8 :\n",
            "[0.04740265]\n",
            "MAE-E1D1 :  0.05345052784744552, MAE-E2D2 :  0.033915990744418416\n",
            "Day  9 :\n",
            "[0.08834325]\n",
            "MAE-E1D1 :  0.09370472676195618, MAE-E2D2 :  0.0778481291893911\n",
            "Day  10 :\n",
            "[0.07329175]\n",
            "MAE-E1D1 :  0.07796903135189837, MAE-E2D2 :  0.06394027912924116\n",
            "Day  11 :\n",
            "[0.02617098]\n",
            "MAE-E1D1 :  0.030012286960797507, MAE-E2D2 :  0.015965487569289404\n",
            "Day  12 :\n",
            "[-0.0231558]\n",
            "MAE-E1D1 :  0.020351015031735652, MAE-E2D2 :  0.03584559215272522\n",
            "Day  13 :\n",
            "[-0.01385556]\n",
            "MAE-E1D1 :  0.012265395280081744, MAE-E2D2 :  0.02998388677380603\n",
            "Day  14 :\n",
            "[-0.01608346]\n",
            "MAE-E1D1 :  0.015821879713712395, MAE-E2D2 :  0.035834675114983824\n",
            "Day  15 :\n",
            "[-0.06296924]\n",
            "MAE-E1D1 :  0.06406760758653718, MAE-E2D2 :  0.08584383009400653\n",
            "\n",
            "\n",
            "diff_pct_15\n",
            "Day  1 :\n",
            "[-0.1964876]\n",
            "MAE-E1D1 :  0.038310629244037386, MAE-E2D2 :  0.055659678693004366\n",
            "Day  2 :\n",
            "[-0.19567995]\n",
            "MAE-E1D1 :  0.03339296961854646, MAE-E2D2 :  0.06952311481069276\n",
            "Day  3 :\n",
            "[-0.20914148]\n",
            "MAE-E1D1 :  0.048054468881119305, MAE-E2D2 :  0.08994502301119667\n",
            "Day  4 :\n",
            "[-0.19019135]\n",
            "MAE-E1D1 :  0.035258377057715534, MAE-E2D2 :  0.07606707708279717\n",
            "Day  5 :\n",
            "[-0.15062194]\n",
            "MAE-E1D1 :  0.006163933934033111, MAE-E2D2 :  0.04330412453538199\n",
            "Day  6 :\n",
            "[-0.10873354]\n",
            "MAE-E1D1 :  0.021911914038355476, MAE-E2D2 :  0.011783053589169853\n",
            "Day  7 :\n",
            "[-0.06177519]\n",
            "MAE-E1D1 :  0.052851622953753, MAE-E2D2 :  0.020900992706160075\n",
            "Day  8 :\n",
            "[-0.0660367]\n",
            "MAE-E1D1 :  0.03149658944249724, MAE-E2D2 :  0.0008695671355667262\n",
            "Day  9 :\n",
            "[-0.06090564]\n",
            "MAE-E1D1 :  0.01949188672475089, MAE-E2D2 :  0.015246747056920633\n",
            "Day  10 :\n",
            "[-0.04676911]\n",
            "MAE-E1D1 :  0.01732621894174713, MAE-E2D2 :  0.02118454507595402\n",
            "Day  11 :\n",
            "[-0.02983759]\n",
            "MAE-E1D1 :  0.01948033758810653, MAE-E2D2 :  0.023520306019122465\n",
            "Day  12 :\n",
            "[-0.0239307]\n",
            "MAE-E1D1 :  0.012634909482571292, MAE-E2D2 :  0.034922816088524655\n",
            "Day  13 :\n",
            "[-0.01220859]\n",
            "MAE-E1D1 :  0.013947620610835558, MAE-E2D2 :  0.03771503307378053\n",
            "Day  14 :\n",
            "[-0.00261634]\n",
            "MAE-E1D1 :  0.015626960554925514, MAE-E2D2 :  0.03935869677940219\n",
            "Day  15 :\n",
            "[-0.0194805]\n",
            "MAE-E1D1 :  0.006641422628533174, MAE-E2D2 :  0.06405172892577582\n",
            "\n",
            "\n",
            "diff_pct_22\n",
            "Day  1 :\n",
            "[-0.11637994]\n",
            "MAE-E1D1 :  0.027961080981583564, MAE-E2D2 :  0.03027386040815827\n",
            "Day  2 :\n",
            "[-0.09827434]\n",
            "MAE-E1D1 :  0.010640466143200883, MAE-E2D2 :  0.019685266982008925\n",
            "Day  3 :\n",
            "[-0.1198653]\n",
            "MAE-E1D1 :  0.004739497244017329, MAE-E2D2 :  0.04020165985856751\n",
            "Day  4 :\n",
            "[-0.15762471]\n",
            "MAE-E1D1 :  0.02076426282165758, MAE-E2D2 :  0.0727366222405266\n",
            "Day  5 :\n",
            "[-0.08591789]\n",
            "MAE-E1D1 :  0.060187143423533485, MAE-E2D2 :  0.005509128012633369\n",
            "Day  6 :\n",
            "[-0.18073717]\n",
            "MAE-E1D1 :  0.028265539814000817, MAE-E2D2 :  0.08301294993258068\n",
            "Day  7 :\n",
            "[-0.1601865]\n",
            "MAE-E1D1 :  0.004195762626594046, MAE-E2D2 :  0.05736146663851116\n",
            "Day  8 :\n",
            "[-0.15246896]\n",
            "MAE-E1D1 :  0.004235881023177512, MAE-E2D2 :  0.046453339405289285\n",
            "Day  9 :\n",
            "[-0.16588785]\n",
            "MAE-E1D1 :  0.011158452102478122, MAE-E2D2 :  0.05918850816183863\n",
            "Day  10 :\n",
            "[-0.14510278]\n",
            "MAE-E1D1 :  0.005171629707206193, MAE-E2D2 :  0.04069075443328529\n",
            "Day  11 :\n",
            "[-0.11837355]\n",
            "MAE-E1D1 :  0.02526716253608184, MAE-E2D2 :  0.019483431066575477\n",
            "Day  12 :\n",
            "[-0.11132085]\n",
            "MAE-E1D1 :  0.023880876345060642, MAE-E2D2 :  0.02119080002842111\n",
            "Day  13 :\n",
            "[-0.08384973]\n",
            "MAE-E1D1 :  0.04152887981128117, MAE-E2D2 :  0.00543781448412517\n",
            "Day  14 :\n",
            "[-0.08007537]\n",
            "MAE-E1D1 :  0.034538550839926074, MAE-E2D2 :  0.0157937197227227\n",
            "Day  15 :\n",
            "[-0.11222366]\n",
            "MAE-E1D1 :  0.008875767429984208, MAE-E2D2 :  0.06372664376131355\n",
            "\n",
            "\n"
          ]
        }
      ]
    },
    {
      "cell_type": "code",
      "metadata": {
        "colab": {
          "base_uri": "https://localhost:8080/",
          "height": 1000
        },
        "id": "996QqNrKj6tY",
        "outputId": "54284a19-c6ca-4b50-8c75-b5b0f7340f66"
      },
      "source": [
        "import keras\n",
        "\n",
        "history_actual = []\n",
        "history_predicted = []\n",
        "\n",
        "for epoch in range(5, 150, 5):\n",
        "  print(f\"Model e1d1 trainato per {epoch} epoche: \")\n",
        "  model = keras.models.load_model(f'/content/e1d1_checkpoints/model{epoch:d}')\n",
        "  pred = model.predict(X_test)\n",
        "  for index,i in enumerate(dataset_train.columns):\n",
        "    scaler = scalers['scaler_'+ str(i)]\n",
        "    pred[:,:,index]=scaler.inverse_transform(pred[:,:,index])\n",
        "\n",
        "  #print(y_test[:, 0, 0], y_test[:, 14, 0], pred[:, 0, 0], pred[:, 14, 0])\n",
        "  print(f\"Differenza tra primo e ultimo giorno::::: actual={y_test[:, 0, 0][0] - y_test[:, 14, 0][0]} <-> pred={pred[:, 0, 0][0] - pred[:, 14, 0][0]}\")\n",
        "\n",
        "  history_actual.append(y_test[:, 0, 0][0] - y_test[:, 14, 0][0])\n",
        "  history_predicted.append(pred[:, 0, 0][0] - pred[:, 14, 0][0])\n",
        "\n",
        "plt.xticks(np.arange(30), np.arange(5, 150, 5))\n",
        "plt.plot(history_actual)\n",
        "plt.plot(history_predicted)\n",
        "plt.title(\"Andamento nelle epoche tra la differenza del primo tick e dell'ultimo nel test e nella predizione.\")\n",
        "plt.xlabel('Epochs')\n",
        "plt.ylabel('Tick[0] - Tick[14]')\n",
        "plt.legend(['Actual', 'Predicted'])\n",
        "#plt.figure(figsize=(8, 6), dpi=80)\n",
        "plt.rcParams['figure.figsize'] = [120, 80]\n",
        "plt.rcParams['figure.dpi'] = 100 # 200 e.g. is really fine, but slower\n",
        "plt.show()\n",
        "\n",
        "  # Adesso bisogna fare il confronto con i valori veri -y_test!\n",
        "  #for j in range(1,n_future+1):\n",
        "  #  diff = y_test[:, j-1, 0] - pred[:, j-1, 0] \n",
        "  #  print(f\"Tick {j} -> actual={y_test[:, j-1, 0]} predicted={pred[:, j-1, 0]} ==> diff={diff}\")\n",
        "\n",
        "print()"
      ],
      "execution_count": 26,
      "outputs": [
        {
          "output_type": "stream",
          "name": "stdout",
          "text": [
            "Model e1d1 trainato per 5 epoche: \n",
            "Differenza tra primo e ultimo giorno::::: actual=0.21999999999934516 <-> pred=1.1484375\n",
            "Model e1d1 trainato per 10 epoche: \n",
            "Differenza tra primo e ultimo giorno::::: actual=0.21999999999934516 <-> pred=1.49609375\n",
            "Model e1d1 trainato per 15 epoche: \n",
            "Differenza tra primo e ultimo giorno::::: actual=0.21999999999934516 <-> pred=-2.20703125\n",
            "Model e1d1 trainato per 20 epoche: \n",
            "WARNING:tensorflow:5 out of the last 185 calls to <function Model.make_predict_function.<locals>.predict_function at 0x7fd63cb280e0> triggered tf.function retracing. Tracing is expensive and the excessive number of tracings could be due to (1) creating @tf.function repeatedly in a loop, (2) passing tensors with different shapes, (3) passing Python objects instead of tensors. For (1), please define your @tf.function outside of the loop. For (2), @tf.function has experimental_relax_shapes=True option that relaxes argument shapes that can avoid unnecessary retracing. For (3), please refer to https://www.tensorflow.org/guide/function#controlling_retracing and https://www.tensorflow.org/api_docs/python/tf/function for  more details.\n"
          ]
        },
        {
          "output_type": "stream",
          "name": "stderr",
          "text": [
            "WARNING:tensorflow:5 out of the last 185 calls to <function Model.make_predict_function.<locals>.predict_function at 0x7fd63cb280e0> triggered tf.function retracing. Tracing is expensive and the excessive number of tracings could be due to (1) creating @tf.function repeatedly in a loop, (2) passing tensors with different shapes, (3) passing Python objects instead of tensors. For (1), please define your @tf.function outside of the loop. For (2), @tf.function has experimental_relax_shapes=True option that relaxes argument shapes that can avoid unnecessary retracing. For (3), please refer to https://www.tensorflow.org/guide/function#controlling_retracing and https://www.tensorflow.org/api_docs/python/tf/function for  more details.\n"
          ]
        },
        {
          "output_type": "stream",
          "name": "stdout",
          "text": [
            "Differenza tra primo e ultimo giorno::::: actual=0.21999999999934516 <-> pred=-0.5888671875\n",
            "Model e1d1 trainato per 25 epoche: \n",
            "WARNING:tensorflow:6 out of the last 186 calls to <function Model.make_predict_function.<locals>.predict_function at 0x7fd63e9e0c20> triggered tf.function retracing. Tracing is expensive and the excessive number of tracings could be due to (1) creating @tf.function repeatedly in a loop, (2) passing tensors with different shapes, (3) passing Python objects instead of tensors. For (1), please define your @tf.function outside of the loop. For (2), @tf.function has experimental_relax_shapes=True option that relaxes argument shapes that can avoid unnecessary retracing. For (3), please refer to https://www.tensorflow.org/guide/function#controlling_retracing and https://www.tensorflow.org/api_docs/python/tf/function for  more details.\n"
          ]
        },
        {
          "output_type": "stream",
          "name": "stderr",
          "text": [
            "WARNING:tensorflow:6 out of the last 186 calls to <function Model.make_predict_function.<locals>.predict_function at 0x7fd63e9e0c20> triggered tf.function retracing. Tracing is expensive and the excessive number of tracings could be due to (1) creating @tf.function repeatedly in a loop, (2) passing tensors with different shapes, (3) passing Python objects instead of tensors. For (1), please define your @tf.function outside of the loop. For (2), @tf.function has experimental_relax_shapes=True option that relaxes argument shapes that can avoid unnecessary retracing. For (3), please refer to https://www.tensorflow.org/guide/function#controlling_retracing and https://www.tensorflow.org/api_docs/python/tf/function for  more details.\n"
          ]
        },
        {
          "output_type": "stream",
          "name": "stdout",
          "text": [
            "Differenza tra primo e ultimo giorno::::: actual=0.21999999999934516 <-> pred=-0.1220703125\n",
            "Model e1d1 trainato per 30 epoche: \n",
            "Differenza tra primo e ultimo giorno::::: actual=0.21999999999934516 <-> pred=0.8330078125\n",
            "Model e1d1 trainato per 35 epoche: \n",
            "Differenza tra primo e ultimo giorno::::: actual=0.21999999999934516 <-> pred=0.38671875\n",
            "Model e1d1 trainato per 40 epoche: \n",
            "Differenza tra primo e ultimo giorno::::: actual=0.21999999999934516 <-> pred=0.0634765625\n",
            "Model e1d1 trainato per 45 epoche: \n",
            "Differenza tra primo e ultimo giorno::::: actual=0.21999999999934516 <-> pred=0.07421875\n",
            "Model e1d1 trainato per 50 epoche: \n",
            "Differenza tra primo e ultimo giorno::::: actual=0.21999999999934516 <-> pred=-0.1181640625\n",
            "Model e1d1 trainato per 55 epoche: \n",
            "Differenza tra primo e ultimo giorno::::: actual=0.21999999999934516 <-> pred=-0.1162109375\n",
            "Model e1d1 trainato per 60 epoche: \n",
            "Differenza tra primo e ultimo giorno::::: actual=0.21999999999934516 <-> pred=-0.15625\n",
            "Model e1d1 trainato per 65 epoche: \n",
            "Differenza tra primo e ultimo giorno::::: actual=0.21999999999934516 <-> pred=-0.171875\n",
            "Model e1d1 trainato per 70 epoche: \n",
            "Differenza tra primo e ultimo giorno::::: actual=0.21999999999934516 <-> pred=-0.1787109375\n",
            "Model e1d1 trainato per 75 epoche: \n",
            "Differenza tra primo e ultimo giorno::::: actual=0.21999999999934516 <-> pred=-0.1875\n",
            "Model e1d1 trainato per 80 epoche: \n",
            "Differenza tra primo e ultimo giorno::::: actual=0.21999999999934516 <-> pred=-0.189453125\n",
            "Model e1d1 trainato per 85 epoche: \n",
            "Differenza tra primo e ultimo giorno::::: actual=0.21999999999934516 <-> pred=-0.1943359375\n",
            "Model e1d1 trainato per 90 epoche: \n",
            "Differenza tra primo e ultimo giorno::::: actual=0.21999999999934516 <-> pred=-0.193359375\n",
            "Model e1d1 trainato per 95 epoche: \n",
            "Differenza tra primo e ultimo giorno::::: actual=0.21999999999934516 <-> pred=-0.1953125\n",
            "Model e1d1 trainato per 100 epoche: \n",
            "Differenza tra primo e ultimo giorno::::: actual=0.21999999999934516 <-> pred=-0.1953125\n",
            "Model e1d1 trainato per 105 epoche: \n",
            "Differenza tra primo e ultimo giorno::::: actual=0.21999999999934516 <-> pred=-0.1953125\n",
            "Model e1d1 trainato per 110 epoche: \n",
            "Differenza tra primo e ultimo giorno::::: actual=0.21999999999934516 <-> pred=-0.1962890625\n",
            "Model e1d1 trainato per 115 epoche: \n",
            "Differenza tra primo e ultimo giorno::::: actual=0.21999999999934516 <-> pred=-0.1962890625\n",
            "Model e1d1 trainato per 120 epoche: \n",
            "Differenza tra primo e ultimo giorno::::: actual=0.21999999999934516 <-> pred=-0.1962890625\n",
            "Model e1d1 trainato per 125 epoche: \n",
            "Differenza tra primo e ultimo giorno::::: actual=0.21999999999934516 <-> pred=-0.1962890625\n",
            "Model e1d1 trainato per 130 epoche: \n",
            "Differenza tra primo e ultimo giorno::::: actual=0.21999999999934516 <-> pred=5.0166015625\n",
            "Model e1d1 trainato per 135 epoche: \n",
            "Differenza tra primo e ultimo giorno::::: actual=0.21999999999934516 <-> pred=5.0166015625\n",
            "Model e1d1 trainato per 140 epoche: \n",
            "Differenza tra primo e ultimo giorno::::: actual=0.21999999999934516 <-> pred=5.0166015625\n",
            "Model e1d1 trainato per 145 epoche: \n",
            "Differenza tra primo e ultimo giorno::::: actual=0.21999999999934516 <-> pred=5.0166015625\n"
          ]
        },
        {
          "output_type": "display_data",
          "data": {
            "image/png": "[encoded data removed]",
            "text/plain": [
              "<Figure size 432x288 with 1 Axes>"
            ]
          },
          "metadata": {
            "needs_background": "light"
          }
        },
        {
          "output_type": "stream",
          "name": "stdout",
          "text": [
            "\n"
          ]
        }
      ]
    },
    {
      "cell_type": "code",
      "metadata": {
        "colab": {
          "base_uri": "https://localhost:8080/",
          "height": 1000
        },
        "id": "AXU3buziuuGG",
        "outputId": "55b5bd23-0ea0-4868-dc0e-315bb4312fec"
      },
      "source": [
        "history_actual = []\n",
        "history_predicted = []\n",
        "\n",
        "for epoch in range(5, 150, 5):\n",
        "  print(f\"Model e2d2 trainato per {epoch} epoche: \")\n",
        "  model = keras.models.load_model(f'/content/e1d1_checkpoints/model{epoch:d}')\n",
        "  pred = model.predict(X_test)\n",
        "  for index,i in enumerate(dataset_train.columns):\n",
        "    scaler = scalers['scaler_'+ str(i)]\n",
        "    pred[:,:,index]=scaler.inverse_transform(pred[:,:,index])\n",
        "\n",
        "  #print(y_test[:, 0, 0], y_test[:, 14, 0], pred[:, 0, 0], pred[:, 14, 0])\n",
        "  print(f\"Differenza tra primo e ultimo giorno::::: actual={y_test[:, 0, 0][0] - y_test[:, 14, 0][0]} <-> pred={pred[:, 0, 0][0] - pred[:, 14, 0][0]}\")\n",
        "\n",
        "  history_actual.append(y_test[:, 0, 0][0] - y_test[:, 14, 0][0])\n",
        "  history_predicted.append(pred[:, 0, 0][0] - pred[:, 14, 0][0])\n",
        "\n",
        "plt.xticks(np.arange(30), np.arange(5, 150, 5))\n",
        "plt.plot(history_actual)\n",
        "plt.plot(history_predicted)\n",
        "plt.title(\"Andamento nelle epoche tra la differenza del primo tick e dell'ultimo nel test e nella predizione.\")\n",
        "plt.xlabel('Epochs')\n",
        "plt.ylabel('Tick[0] - Tick[14]')\n",
        "plt.legend(['Actual', 'Predicted'])\n",
        "#plt.figure(figsize=(8, 6), dpi=80)\n",
        "plt.rcParams['figure.figsize'] = [60, 40]\n",
        "plt.rcParams['figure.dpi'] = 100 # 200 e.g. is really fine, but slower\n",
        "plt.show()\n",
        "plt.close()\n",
        "\n",
        "  # Adesso bisogna fare il confronto con i valori veri -y_test!\n",
        "  #for j in range(1,n_future+1):\n",
        "  #  diff = y_test[:, j-1, 0] - pred[:, j-1, 0] \n",
        "  #  print(f\"Tick {j} -> actual={y_test[:, j-1, 0]} predicted={pred[:, j-1, 0]} ==> diff={diff}\")\n",
        "\n",
        "print()"
      ],
      "execution_count": 28,
      "outputs": [
        {
          "output_type": "stream",
          "name": "stdout",
          "text": [
            "Model e2d2 trainato per 5 epoche: \n",
            "Differenza tra primo e ultimo giorno::::: actual=0.21999999999934516 <-> pred=1.1484375\n",
            "Model e2d2 trainato per 10 epoche: \n",
            "Differenza tra primo e ultimo giorno::::: actual=0.21999999999934516 <-> pred=1.49609375\n",
            "Model e2d2 trainato per 15 epoche: \n",
            "Differenza tra primo e ultimo giorno::::: actual=0.21999999999934516 <-> pred=-2.20703125\n",
            "Model e2d2 trainato per 20 epoche: \n",
            "Differenza tra primo e ultimo giorno::::: actual=0.21999999999934516 <-> pred=-0.5888671875\n",
            "Model e2d2 trainato per 25 epoche: \n",
            "Differenza tra primo e ultimo giorno::::: actual=0.21999999999934516 <-> pred=-0.1220703125\n",
            "Model e2d2 trainato per 30 epoche: \n",
            "Differenza tra primo e ultimo giorno::::: actual=0.21999999999934516 <-> pred=0.8330078125\n",
            "Model e2d2 trainato per 35 epoche: \n",
            "Differenza tra primo e ultimo giorno::::: actual=0.21999999999934516 <-> pred=0.38671875\n",
            "Model e2d2 trainato per 40 epoche: \n",
            "Differenza tra primo e ultimo giorno::::: actual=0.21999999999934516 <-> pred=0.0634765625\n",
            "Model e2d2 trainato per 45 epoche: \n",
            "Differenza tra primo e ultimo giorno::::: actual=0.21999999999934516 <-> pred=0.07421875\n",
            "Model e2d2 trainato per 50 epoche: \n",
            "Differenza tra primo e ultimo giorno::::: actual=0.21999999999934516 <-> pred=-0.1181640625\n",
            "Model e2d2 trainato per 55 epoche: \n",
            "Differenza tra primo e ultimo giorno::::: actual=0.21999999999934516 <-> pred=-0.1162109375\n",
            "Model e2d2 trainato per 60 epoche: \n",
            "Differenza tra primo e ultimo giorno::::: actual=0.21999999999934516 <-> pred=-0.15625\n",
            "Model e2d2 trainato per 65 epoche: \n",
            "Differenza tra primo e ultimo giorno::::: actual=0.21999999999934516 <-> pred=-0.171875\n",
            "Model e2d2 trainato per 70 epoche: \n",
            "Differenza tra primo e ultimo giorno::::: actual=0.21999999999934516 <-> pred=-0.1787109375\n",
            "Model e2d2 trainato per 75 epoche: \n",
            "Differenza tra primo e ultimo giorno::::: actual=0.21999999999934516 <-> pred=-0.1875\n",
            "Model e2d2 trainato per 80 epoche: \n",
            "Differenza tra primo e ultimo giorno::::: actual=0.21999999999934516 <-> pred=-0.189453125\n",
            "Model e2d2 trainato per 85 epoche: \n",
            "Differenza tra primo e ultimo giorno::::: actual=0.21999999999934516 <-> pred=-0.1943359375\n",
            "Model e2d2 trainato per 90 epoche: \n",
            "Differenza tra primo e ultimo giorno::::: actual=0.21999999999934516 <-> pred=-0.193359375\n",
            "Model e2d2 trainato per 95 epoche: \n",
            "Differenza tra primo e ultimo giorno::::: actual=0.21999999999934516 <-> pred=-0.1953125\n",
            "Model e2d2 trainato per 100 epoche: \n",
            "Differenza tra primo e ultimo giorno::::: actual=0.21999999999934516 <-> pred=-0.1953125\n",
            "Model e2d2 trainato per 105 epoche: \n",
            "Differenza tra primo e ultimo giorno::::: actual=0.21999999999934516 <-> pred=-0.1953125\n",
            "Model e2d2 trainato per 110 epoche: \n",
            "Differenza tra primo e ultimo giorno::::: actual=0.21999999999934516 <-> pred=-0.1962890625\n",
            "Model e2d2 trainato per 115 epoche: \n",
            "Differenza tra primo e ultimo giorno::::: actual=0.21999999999934516 <-> pred=-0.1962890625\n",
            "Model e2d2 trainato per 120 epoche: \n",
            "Differenza tra primo e ultimo giorno::::: actual=0.21999999999934516 <-> pred=-0.1962890625\n",
            "Model e2d2 trainato per 125 epoche: \n",
            "Differenza tra primo e ultimo giorno::::: actual=0.21999999999934516 <-> pred=-0.1962890625\n",
            "Model e2d2 trainato per 130 epoche: \n",
            "Differenza tra primo e ultimo giorno::::: actual=0.21999999999934516 <-> pred=5.0166015625\n",
            "Model e2d2 trainato per 135 epoche: \n",
            "Differenza tra primo e ultimo giorno::::: actual=0.21999999999934516 <-> pred=5.0166015625\n",
            "Model e2d2 trainato per 140 epoche: \n",
            "Differenza tra primo e ultimo giorno::::: actual=0.21999999999934516 <-> pred=5.0166015625\n",
            "Model e2d2 trainato per 145 epoche: \n",
            "Differenza tra primo e ultimo giorno::::: actual=0.21999999999934516 <-> pred=5.0166015625\n"
          ]
        },
        {
          "output_type": "display_data",
          "data": {
            "image/png": "[encoded data removed]",
            "text/plain": [
              "<Figure size 6000x4000 with 1 Axes>"
            ]
          },
          "metadata": {
            "needs_background": "light"
          }
        },
        {
          "output_type": "stream",
          "name": "stdout",
          "text": [
            "\n"
          ]
        }
      ]
    }
  ]
}