{
  "nbformat": 4,
  "nbformat_minor": 0,
  "metadata": {
    "colab": {
      "name": "classical_strategies_results.ipynb",
      "provenance": []
    },
    "kernelspec": {
      "name": "python3",
      "display_name": "Python 3"
    },
    "language_info": {
      "name": "python"
    }
  },
  "cells": [
    {
      "cell_type": "code",
      "metadata": {
        "id": "1oT-MlOLyQ9x",
        "cellView": "form"
      },
      "source": [
        "#@title Env\n",
        "from gym.utils import seeding\n",
        "import gym\n",
        "from gym import spaces\n",
        "import numpy as np\n",
        "from enum import Enum\n",
        "import matplotlib.pyplot as plt\n",
        "import pandas as pd\n",
        "import math\n",
        "pd.options.mode.chained_assignment = None\n",
        "\n",
        "\n",
        "class Actions(Enum):\n",
        "    # Mappo sono le azioni legittime nella forma:\n",
        "    # StatoAzione\n",
        "    DoNothing = 0\n",
        "    OpenLongPos = 1\n",
        "    OpenShortPos = 2\n",
        "\n",
        "    # Potrei anche mappare solo le quattro azioni e poi dare il reward negativo sull'azione in base alla posizione corrente (che comunque devo tenermi salvata)\n",
        "\n",
        "\n",
        "class Positions(Enum):\n",
        "    # La posizione è lo stato attuale in cui si trova l'algoritmo.\n",
        "    # In Free è permesso solo di fare DoNothing e OpenPosition\n",
        "    # in Long è permesso di fare solo HoldPosition e ClosePosition\n",
        "    Free = 0\n",
        "    Long = 1\n",
        "    Short = 2\n",
        "\n",
        "    def switch_position(self, action):\n",
        "\n",
        "        # Switch per la parte long\n",
        "        if self == Positions.Free and action == Actions.OpenLongPos.value:\n",
        "            return Positions.Long\n",
        "        if self == Positions.Long and action == Actions.OpenShortPos.value:\n",
        "            return Positions.Free\n",
        "\n",
        "        # Switch per la parte short\n",
        "        if self == Positions.Free and action == Actions.OpenShortPos.value:\n",
        "            return Positions.Short\n",
        "        if self == Positions.Short and action == Actions.OpenLongPos.value:\n",
        "            return Positions.Free\n",
        "\n",
        "\n",
        "class CryptoTradingEnv(gym.Env):\n",
        "    metadata = {'render.modes': ['human']}\n",
        "\n",
        "    def __init__(self, df, frame_bound, window_size: int = 22,\n",
        "                 indicators=['diff_pct_1', 'diff_pct_5', 'diff_pct_15', 'diff_pct_22'],\n",
        "                 position_in_observation: bool = True):\n",
        "        assert df.ndim == 2\n",
        "        assert len(frame_bound) == 2\n",
        "        self.indicators_to_use = indicators\n",
        "        self.seed()\n",
        "        # TODO cambia nome\n",
        "        self.df = df\n",
        "        self.frame_bound = frame_bound\n",
        "        self.window_size = window_size\n",
        "        self.prices, self.signal_features = self._process_data()\n",
        "\n",
        "        self.position_in_observation = position_in_observation\n",
        "\n",
        "        if self.position_in_observation:\n",
        "            self.shape = (window_size, self.signal_features.shape[1] + 1)\n",
        "        else:\n",
        "            self.shape = (window_size, self.signal_features.shape[1])\n",
        "\n",
        "        self.invalid_action_replay = True\n",
        "        self._invalid_action = False\n",
        "        self._count_invalid_action = 0\n",
        "        # spaces\n",
        "        self.action_space = spaces.Discrete(len(Actions))\n",
        "        self.observation_space = spaces.Box(low=-np.inf, high=np.inf, shape=self.shape, dtype=np.float32)\n",
        "\n",
        "        # episode\n",
        "        self._balance = 10000.\n",
        "        self._start_tick = self.window_size\n",
        "        self._end_tick = len(self.prices) - 1\n",
        "        self._done = None\n",
        "        self._current_tick = None\n",
        "        self._open_position_tick = None\n",
        "        self._holding_price_difference = np.zeros(0)\n",
        "        self._last_trade_tick = None\n",
        "        self._position = Positions.Free\n",
        "        self._position_history = None\n",
        "        self._total_reward = 0.\n",
        "        self._total_profit = 0.\n",
        "        self._first_rendering = None\n",
        "        self.history = None\n",
        "        # TODO prevedi un flag per attivare questa funzione\n",
        "        # self._max_profit_possible = self.max_possible_profit()\n",
        "        self._max_profit_possible = 0\n",
        "        self._profit_in_step = np.zeros(0)\n",
        "\n",
        "    def seed(self, seed=None):\n",
        "        self.np_random, seed = seeding.np_random(seed)\n",
        "        return [seed]\n",
        "\n",
        "    def reset(self):\n",
        "        self._invalid_action = False\n",
        "        self._balance = 10000.\n",
        "        self._done = False\n",
        "        self._current_tick = self._start_tick\n",
        "        self._open_position_tick = 0\n",
        "        self._last_trade_tick = self._current_tick - 1\n",
        "        self._position = Positions.Free\n",
        "        self._position_history = ([Positions.Free.value] * (self.window_size - 1)) + [self._position.value]\n",
        "        self._total_reward = 0.\n",
        "        self._total_profit = 0.  # unit\n",
        "        self._first_rendering = True\n",
        "        self.history = {}\n",
        "        self._holding_price_difference = np.zeros(0)\n",
        "        self._count_invalid_action = 0\n",
        "        self._profit_in_step = [0] * self.window_size\n",
        "        self.balance_array = [10000]\n",
        "\n",
        "        self.returns_balance = dict()\n",
        "        self.returns_balance[self._current_tick] = 10000\n",
        "\n",
        "        return self._get_observation()\n",
        "\n",
        "    # change in sharpe_ratio_reward\n",
        "    def sharpe_calculator(self, current_balance, rf=0):\n",
        "        key_list = list(self.returns_balance.keys())\n",
        "        returns_list = list(self.returns_balance.values())[key_list.index(self._open_position_tick):]\n",
        "        roi = (returns_list[-1] - returns_list[0]) / returns_list[0] * 100\n",
        "        std = np.array(returns_list).std()\n",
        "        sharpe_ratio = (roi - rf) / std\n",
        "        if math.isnan(sharpe_ratio):\n",
        "            sharpe_ratio = 0\n",
        "        return sharpe_ratio\n",
        "\n",
        "    def sharpe_calculator_total(self, rf=0):\n",
        "\n",
        "        returns_list = list(self.returns_balance.values())\n",
        "        roi = (returns_list[-1] - returns_list[0]) / returns_list[0] * 100\n",
        "        std = np.array(returns_list).std()\n",
        "        sharpe_ratio = (roi - rf) / std\n",
        "        return sharpe_ratio\n",
        "\n",
        "    def sharpe_calculator_total_quantstats(self):\n",
        "        returns_list = list(self.returns_balance.values())\n",
        "        pd_returns_list = pd.DataFrame(returns_list)\n",
        "        sharpe = qs.stats.sharpe(pd_returns_list, rf=0., periods=252, annualize=False, trading_year_days=252)\n",
        "        return sharpe\n",
        "\n",
        "    def sharpe_calculator_quantstats(self):\n",
        "        key_list = list(self.returns_balance.keys())\n",
        "        returns_list = list(self.returns_balance.values())[key_list.index(self._open_position_tick):]\n",
        "        pd_returns_list = pd.DataFrame(returns_list)\n",
        "        sharpe = qs.stats.sharpe(pd_returns_list, rf=0., periods=252, annualize=False, trading_year_days=252)\n",
        "        return sharpe\n",
        "\n",
        "    def sortino_calculator_quantstats(self):\n",
        "        key_list = list(self.returns_balance.keys())\n",
        "        returns_list = list(self.returns_balance.values())[key_list.index(self._open_position_tick):]\n",
        "        pd_returns_list = pd.DataFrame(returns_list)\n",
        "        sortino = qs.stats.sortino(pd_returns_list, rf=0., periods=252, annualize=False, trading_year_days=252)\n",
        "        return sortino\n",
        "\n",
        "    def sortino_calculator_total_quantstats(self):\n",
        "        returns_list = list(self.returns_balance.values())\n",
        "        pd_returns_list = pd.DataFrame(returns_list)\n",
        "        sortino = qs.stats.sortino(pd_returns_list, rf=0., periods=252, annualize=False, trading_year_days=252)\n",
        "        return sortino\n",
        "\n",
        "    def step(self, action):\n",
        "        '''\n",
        "        Responsabilità di step():\n",
        "            1. calcolare il profit attraverso la funzione di update_profit\n",
        "            2. calcolare step_reward, position, open_position_tick tramite la funzione calculate_reward()\n",
        "            4. aggiornare la history delle posizioni\n",
        "        '''\n",
        "        self._invalid_action = False\n",
        "        self._done = False\n",
        "\n",
        "        self._update_profit(action)\n",
        "        # Attenzione! self._position viene cambiata in step_reward quindi update_profit() deve essere chiamato prima\n",
        "        step_reward = self._calculate_reward(action)\n",
        "\n",
        "        info = dict(\n",
        "            total_reward=self._total_reward,\n",
        "            total_profit=self._total_profit,\n",
        "            balance=self._balance,\n",
        "            position=self._position.value\n",
        "        )\n",
        "\n",
        "        if not self._invalid_action:\n",
        "            self._current_tick += 1\n",
        "            self._position_history.append(self._position.value)\n",
        "            self._profit_in_step = np.append(self._profit_in_step, self._total_profit)\n",
        "\n",
        "        if self._current_tick == self._end_tick:\n",
        "            self._done = True\n",
        "\n",
        "        observation = self._get_observation()\n",
        "\n",
        "        return observation, step_reward, self._done, info\n",
        "\n",
        "    def _calculate_reward(self, action):\n",
        "        '''\n",
        "        Responsabilità di calculate_reward:\n",
        "            1. Calcolare il reward\n",
        "            2. Aggiornare self._total_reward\n",
        "            3. Aggiornare self._position\n",
        "            4. Aggiornare self._open_position_tick\n",
        "\n",
        "        Logica di reward per azioni LEGITTIME:\n",
        "                    - ClosePosition (da Long a Free) = profit di quella posizione\n",
        "                    - OpenPosition (da Free a Long) = reward di incentivo per aprire posizione\n",
        "                    - HoldPosition (da Long a Long) = profit che verrebbe fatta da quando si è aperta la posizione se si vendesse in quel momento\n",
        "                    - DoNothing (da Free a Free) = 0 di reward, non punisco e lo incentivo in nessun modo su questa posizione\n",
        "\n",
        "        Logica di reward per azioni ILLEGITTIME (tutte le coppie non listate sopra):\n",
        "                    - Do un piccolo reward negativo di disincentivo per tutte le azioni illeggitime\n",
        "                        ma non faccio cambiare il sistema\n",
        "\n",
        "        Funzione di transizione: (Stato, Azione) -> Stato\n",
        "\n",
        "        :param action:\n",
        "        :return:\n",
        "        '''\n",
        "\n",
        "        # è negativo quando fa un'azione invalida?\n",
        "        step_reward = 0\n",
        "        new_position = self._position\n",
        "\n",
        "        # (Free, DoNothing) -> Free\n",
        "        if action == Actions.DoNothing.value and self._position == Positions.Free:\n",
        "            step_reward = 0\n",
        "            # reinserisce l'ultima posizione\n",
        "            # self.returns_balance = {self._current_tick : 10000}\n",
        "            last_key = list(self.returns_balance.keys())[-1]\n",
        "            self.returns_balance[self._current_tick] = self.returns_balance[last_key]\n",
        "            # self.balance_array.append(self.balance_array[-1])\n",
        "\n",
        "\n",
        "        # (Free, OpenPosition) -> Long\n",
        "        elif action == Actions.OpenLongPos.value and self._position == Positions.Free:\n",
        "            new_position = self._position.switch_position(action)\n",
        "            self._open_position_tick = self._current_tick\n",
        "            # 1 è troppo alto? Ma se metto a 0.95 fa un trade ogni ora\n",
        "            # così ne fa uno ogni due tre minuti\n",
        "\n",
        "            step_reward = 0\n",
        "            last_key = list(self.returns_balance.keys())[-1]\n",
        "            self.returns_balance[self._current_tick] = self.returns_balance[last_key]\n",
        "\n",
        "        # 0 aperta posizione a 10\n",
        "        # holding_rewards = []\n",
        "        # 1 prezzo a 12 -> hold 12-10 / 10 = 0.2 = 0.2\n",
        "        # 2 prezzo a 15 -> hold 15-10 / 10 => (0.5 +0.2) / 2 = 0.35\n",
        "        # 3 prezzo a 13 -> hold 0.3 + 0.5 + 0.2 / 3 = 0.33\n",
        "\n",
        "        # scendi invece di salire\n",
        "        # holding_rewards = []\n",
        "        # 4 prezzo a 8 -> hold 8-10 / 10 = -0.2\n",
        "        # 5 prezzo a 5 -> hold 5-10/10 = -0.5 -0.2 + 0.3 + 0.5 + 0.2 / 5 = 0.06\n",
        "        # 6 prezzoa a 15 -> hold\n",
        "\n",
        "        # (Long, HoldPosition) -> Long\n",
        "        elif (\n",
        "                action == Actions.OpenLongPos.value or action == Actions.DoNothing.value) and self._position == Positions.Long:\n",
        "            current_price = self.prices[self._current_tick]\n",
        "            open_position_price = self.prices[self._open_position_tick]\n",
        "            price_diff = (current_price - open_position_price) / open_position_price\n",
        "            # reward = media dei reward ottenuti dall'hodlding?\n",
        "\n",
        "            if self._holding_price_difference.size > 1:\n",
        "                if np.sign(price_diff) != np.sign(self._holding_price_difference[0]):\n",
        "                    self._holding_price_difference = np.zeros(0)\n",
        "\n",
        "            self._holding_price_difference = np.append(self._holding_price_difference, price_diff)\n",
        "            # TODO esplora Nan values\n",
        "            step_reward = np.mean(self._holding_price_difference)\n",
        "            # inserisce il balance provvisorio ottenuto come\n",
        "            # balance all'acquisto / prezzo di acquisto * prezzo corrente\n",
        "\n",
        "            holding_in_long = self.returns_balance[self._open_position_tick] / open_position_price * current_price\n",
        "            self.returns_balance[self._current_tick] = holding_in_long\n",
        "            step_reward = self.sharpe_calculator(holding_in_long)\n",
        "\n",
        "            # (Long, ClosePosition) -> Free\n",
        "        elif action == Actions.OpenShortPos.value and self._position == Positions.Long:\n",
        "            new_position = self._position.switch_position(action)\n",
        "            current_price = self.prices[self._current_tick]\n",
        "            open_position_price = self.prices[self._open_position_tick]\n",
        "            profit = current_price - open_position_price\n",
        "\n",
        "            if profit >= 0:\n",
        "                step_reward = 1\n",
        "            else:\n",
        "                step_reward = -1\n",
        "\n",
        "            self._holding_price_difference = np.zeros(0)\n",
        "            close_in_long = self.returns_balance[self._open_position_tick] / open_position_price * current_price\n",
        "            self.returns_balance[self._current_tick] = close_in_long\n",
        "\n",
        "            step_reward = self.sharpe_calculator(close_in_long)\n",
        "\n",
        "        elif action == Actions.OpenShortPos.value and self._position == Positions.Free:\n",
        "            new_position = self._position.switch_position(action)\n",
        "            self._open_position_tick = self._current_tick\n",
        "            step_reward = 0\n",
        "            # reinserisce l'ultima posizione\n",
        "            last_key = list(self.returns_balance.keys())[-1]\n",
        "            self.returns_balance[self._current_tick] = self.returns_balance[last_key]\n",
        "\n",
        "\n",
        "        elif (\n",
        "                action == Actions.OpenShortPos.value or action == Actions.DoNothing.value) and self._position == Positions.Short:\n",
        "            current_price = self.prices[self._current_tick]\n",
        "            open_position_price = self.prices[self._open_position_tick]\n",
        "            price_diff = -1 * (current_price - open_position_price) / open_position_price\n",
        "            # 1: 10 , 2: 11 , 3: 8\n",
        "            # -0.1\n",
        "            # +0.2\n",
        "\n",
        "            if self._holding_price_difference.size > 1:\n",
        "                if np.sign(price_diff) != np.sign(self._holding_price_difference[0]):\n",
        "                    self._holding_price_difference = np.zeros(0)\n",
        "\n",
        "            self._holding_price_difference = np.append(self._holding_price_difference, price_diff)\n",
        "            # TODO esplora Nan values\n",
        "            step_reward = np.mean(self._holding_price_difference)\n",
        "            #\n",
        "            short_pay = self.returns_balance[self._open_position_tick] / open_position_price * current_price\n",
        "            holding_in_short = self.returns_balance[self._open_position_tick] * 2 - short_pay\n",
        "\n",
        "            self.returns_balance[self._current_tick] = holding_in_short\n",
        "            step_reward = self.sharpe_calculator(holding_in_short)\n",
        "\n",
        "\n",
        "\n",
        "        elif action == Actions.OpenLongPos.value and self._position == Positions.Short:\n",
        "            new_position = self._position.switch_position(action)\n",
        "            current_price = self.prices[self._current_tick]\n",
        "            open_position_price = self.prices[self._open_position_tick]\n",
        "\n",
        "            profit = open_position_price - current_price\n",
        "\n",
        "            if profit >= 0:\n",
        "                step_reward = 1\n",
        "            else:\n",
        "                step_reward = -1\n",
        "            self._holding_price_difference = np.zeros(0)\n",
        "\n",
        "            short_pay = self.returns_balance[self._open_position_tick] / open_position_price * current_price\n",
        "            close_short = self.returns_balance[self._open_position_tick] * 2 - short_pay\n",
        "            # self.balance_array.append(short_holding)\n",
        "            self.returns_balance[self._current_tick] = close_short\n",
        "            step_reward = self.sharpe_calculator(close_short)\n",
        "\n",
        "\n",
        "        else:\n",
        "            if self.invalid_action_replay:\n",
        "                self._invalid_action = True\n",
        "                self._count_invalid_action += 1\n",
        "\n",
        "        self._total_reward += step_reward\n",
        "        self._position = new_position\n",
        "        return step_reward\n",
        "\n",
        "    def _update_profit(self, action):\n",
        "        '''\n",
        "                Responsabilità di update_profit():\n",
        "                    1. Aggiornare self._total_profit con il profit reale\n",
        "                    2. Aggiornare self._balance con il balance dopo la chiusura della transazione\n",
        "                :param action:\n",
        "                :return:\n",
        "        '''\n",
        "        temp_balance = self._balance\n",
        "        if action == Actions.OpenShortPos.value and self._position == Positions.Long:\n",
        "            current_price = self.prices[self._current_tick]\n",
        "            open_position_price = self.prices[self._open_position_tick]\n",
        "            self._balance = (self._balance / open_position_price) * current_price\n",
        "            # se total profit inizializzato a 0\n",
        "            self._total_profit += self._balance - temp_balance\n",
        "\n",
        "        # 10525 quando compriamo\n",
        "        # 10200\n",
        "        # vendo 1 BTC * 10525\n",
        "        # Sul conto ho 10000\n",
        "        # se il prezzo va giù la posizione rimane aperta all'infinito\n",
        "        # viene liquidata se il prezzo SALE\n",
        "        # 20k 1 BTC a 10525 -> 20k - 10525 = liquidazione\n",
        "        # 19475 = questo è il prezzo di liquidazione\n",
        "        # 0.5 BTC\n",
        "        # compro 1 BTC * 10200\n",
        "\n",
        "        # Quantità di BTC \"venduta\" quando è aperta la posizione short\n",
        "        # balance = USDT + quantità moneta comprata * il prezzo\n",
        "        # 1 Apro la posizione short: mi entra = 0.5 * prezzo_btc --> 100 * 0.5 = 50\n",
        "        # 2 Chiudo la posizione short: mi esce = base_asset_quantity * prezzo_btc -->  50.. 0.5 * 200 = 100\n",
        "\n",
        "        if action == Actions.OpenLongPos.value and self._position == Positions.Short:\n",
        "            current_price = self.prices[self._current_tick]\n",
        "            open_position_price = self.prices[self._open_position_tick]\n",
        "\n",
        "            # sono i soldi guadagnati o persi ricomprando le monete che hai venduto\n",
        "            transaction_short = (self._balance / open_position_price) * current_price\n",
        "            profit = self._balance - transaction_short\n",
        "            self._balance += profit\n",
        "            self._total_profit += profit\n",
        "\n",
        "    def _get_observation(self):\n",
        "        signal_obs = self.signal_features[(self._current_tick - self.window_size): self._current_tick]\n",
        "        # obs = []\n",
        "\n",
        "        if self.position_in_observation:\n",
        "            # 1. Prendere le ultime window_size righe di history_position\n",
        "            last_window_size_positions_history = np.array(self._position_history[-self.window_size:])\n",
        "\n",
        "            # 2. Trasformarle in una colonna\n",
        "            last_window_size_positions_history = last_window_size_positions_history[:, np.newaxis]\n",
        "\n",
        "            # 3. Aggiungerle a obs\n",
        "            obs = np.c_[signal_obs, last_window_size_positions_history]\n",
        "\n",
        "        else:\n",
        "            obs = signal_obs\n",
        "\n",
        "        return obs\n",
        "\n",
        "    def render_all(self, mode='human'):\n",
        "\n",
        "        fig, axs = plt.subplots(2, figsize=(15, 6))\n",
        "        window_ticks = np.arange(len(self._position_history))\n",
        "        axs[0].plot(self.prices)\n",
        "\n",
        "        returns = list(self.returns_balance.values())\n",
        "        returns = [ret - 10000 for ret in returns]\n",
        "        returns = [0] * self.window_size + returns\n",
        "        axs[1].plot(returns)\n",
        "        axs[1].plot(self._profit_in_step)\n",
        "\n",
        "        free_ticks = []\n",
        "        long_ticks = []\n",
        "        short_ticks = []\n",
        "\n",
        "        for i, tick in enumerate(window_ticks):\n",
        "            if self._position_history[i] == Positions.Free.value:\n",
        "                free_ticks.append(tick)\n",
        "            elif self._position_history[i] == Positions.Long.value:\n",
        "                long_ticks.append(tick)\n",
        "            elif self._position_history[i] == Positions.Short.value:\n",
        "                short_ticks.append(tick)\n",
        "\n",
        "        axs[0].plot(free_ticks, self.prices[free_ticks], 'yo')\n",
        "        axs[0].plot(long_ticks, self.prices[long_ticks], 'go')\n",
        "        axs[0].plot(short_ticks, self.prices[short_ticks], 'ro')\n",
        "        sharpe_ratio = self.sharpe_calculator_total()\n",
        "\n",
        "        plt.suptitle(\n",
        "            \"Total Reward: %.6f\" % self._total_reward + ' ~ ' +\n",
        "            \"Total Profit: %.6f\" % self._total_profit + ' ~ ' +\n",
        "            \"Balance: %.6f\" % self._balance + ' ~ ' +\n",
        "            \"Invalid Action: %.6f\" % self._count_invalid_action + ' ~ ' +\n",
        "            \"Sharpe Ratio: %.6f\" % sharpe_ratio\n",
        "            # \"Max profit: %.6f\" % self._max_profit_possible\n",
        "        )\n",
        "\n",
        "    def close(self):\n",
        "        plt.close()\n",
        "        # print\n",
        "\n",
        "    def save_rendering(self, filepath):\n",
        "        plt.savefig(filepath)\n",
        "\n",
        "    def pause_rendering(self):\n",
        "        plt.show()\n",
        "\n",
        "    def _process_data(self):\n",
        "\n",
        "        prices = self.df['close'].to_numpy()\n",
        "\n",
        "        # prices[self.frame_bound[0] - self.window_size]  # validate index (TODO: Improve validation)\n",
        "        prices = prices[self.frame_bound[0] - self.window_size: self.frame_bound[1]]\n",
        "\n",
        "        # diff = np.insert(np.diff(prices), 0, 0)\n",
        "        # signal_features = np.column_stack((prices, diff))\n",
        "\n",
        "        signal_features = Indicators.sma_indicator(self.df)\n",
        "        signal_features = Indicators.macd_indicator(signal_features)\n",
        "        signal_features = Indicators.atr_indicator(signal_features)\n",
        "        signal_features = Indicators.ema_indicator(signal_features)\n",
        "        signal_features = Indicators.kc_indicator(signal_features)\n",
        "\n",
        "        signal_features = Indicators.rsi_indicator(signal_features)\n",
        "        signal_features = Indicators.mom_indicator(signal_features)\n",
        "        signal_features = Indicators.vhf_indicator(signal_features)\n",
        "        signal_features = Indicators.trix_indicator(signal_features)\n",
        "        signal_features = Indicators.rocv_indicator(signal_features)\n",
        "\n",
        "        # diff_close_pct_5 = differenza percentuale tra il close alla candela attuale e quello della candela di 5 timestamps fa?\n",
        "        # df['diff_close_pct_5'] = ((df['close'] / np.roll(df['close'], shift=(int(5)))) * 100) - 100\n",
        "        # df['diff_close_pct_10'] = ((df['close'] / np.roll(df['close'], shift=(int(10)))) * 100) - 100\n",
        "        # df['diff_close_pct_15'] = ((df['close'] / np.roll(df['close'], shift=(int(15)))) * 100) - 100\n",
        "        signal_features['diff_pct_1'] = ((self.df['close'] / np.roll(self.df['close'], shift=(int(1)))) * 100) - 100\n",
        "        signal_features['diff_pct_5'] = ((self.df['close'] / np.roll(self.df['close'], shift=(int(5)))) * 100) - 100\n",
        "        signal_features['diff_pct_15'] = ((self.df['close'] / np.roll(self.df['close'], shift=(int(15)))) * 100) - 100\n",
        "        signal_features['diff_pct_22'] = ((self.df['close'] / np.roll(self.df['close'], shift=(int(22)))) * 100) - 100\n",
        "\n",
        "        # signal_features = signal_features.drop(columns=['open', 'high', 'low', 'close', 'volume', 'tradecount'])\n",
        "        # signal_features = signal_features.dropna()\n",
        "\n",
        "        signal_features.reset_index(drop=True, inplace=True)\n",
        "\n",
        "        signal_features = self.filter_indicators(signal_features)\n",
        "        signal_features = signal_features.round(decimals=3)\n",
        "\n",
        "        return prices, signal_features.to_numpy()\n",
        "\n",
        "        #############################################################################################################\n",
        "\n",
        "        # ipoteticamente questa funzione può esser sostituita da una serie di if in _process_data\n",
        "        # solo che mi pareva una pecionata\n",
        "\n",
        "    def filter_indicators(self, signal_features):\n",
        "        '''\n",
        "                        Responsabilità di filter_indicators():\n",
        "                            1. Filtrare le colonne che si vogliono utilizzare come osservazioni\n",
        "                                attraverso la differenza tra l'insieme  degli indicatori calcolati\n",
        "                                in _process_data e quelli indicati nel init nella variabile self.indicators_to_use\n",
        "                        :param signal_features: Dataframe con tutti gli indicatori\n",
        "                        :return filtered_signal_feature: Dataframe contenente gli indicatori selezionati in init\n",
        "        '''\n",
        "        # self.indicators_to_use = ['SMA', 'MACD', 'MACD_signal_line', 'EMA', 'kc_middle', 'kc_upper', 'kc_lower', 'RSI', 'close_prev', 'MOM', 'VHF', 'TRIX', 'ROCV']\n",
        "        # self.indicators_to_use = ['MACD', 'MACD_signal_line', 'MOM', 'VHF', 'TRIX']\n",
        "        indicators_column_to_filter = np.setdiff1d(signal_features.columns, self.indicators_to_use, assume_unique=True)\n",
        "        filtered_signal_feature = signal_features.drop(columns=indicators_column_to_filter)\n",
        "\n",
        "        return filtered_signal_feature\n",
        "\n",
        "    def max_possible_profit(self):\n",
        "\n",
        "        price = self.prices[self.window_size:]\n",
        "        k = int(len(price) / 2)\n",
        "        n = len(price)\n",
        "\n",
        "        # Bottom-up DP approach\n",
        "        profit = [[0 for i in range(k + 1)] for j in range(n)]\n",
        "\n",
        "        # Profit is zero for the first\n",
        "        # day and for zero transactions\n",
        "        # TODO non dovrebbe esser moltiplicato per balance?\n",
        "        for i in range(1, n):\n",
        "\n",
        "            for j in range(1, k + 1):\n",
        "                max_so_far = 0\n",
        "\n",
        "                for l in range(i):\n",
        "                    max_so_far = max(max_so_far, price[i] -\n",
        "                                     price[l] + profit[l][j - 1])\n",
        "\n",
        "                profit[i][j] = max(profit[i - 1][j], max_so_far)\n",
        "\n",
        "        return profit[n - 1][k]"
      ],
      "execution_count": 1,
      "outputs": []
    },
    {
      "cell_type": "code",
      "metadata": {
        "colab": {
          "base_uri": "https://localhost:8080/",
          "height": 250
        },
        "id": "QWeBl7TIIB1d",
        "outputId": "27013830-a113-4b20-ad3b-ae4bdd41a7d3"
      },
      "source": [
        "import pandas as pd\n",
        "\n",
        "df = pd.read_csv('https://github.com/ene610/DRL_finance/blob/main/data/Binance_BTCUSDT_minute.csv?raw=true', skiprows=1)\n",
        "df = df.rename(columns={'Volume USDT': 'volume'})\n",
        "df = df.iloc[::-1]\n",
        "df = df.drop(columns=['symbol', 'Volume BTC'])\n",
        "df['date'] = pd.to_datetime(df['unix'],unit='ms')\n",
        "df = df.set_index(\"date\")\n",
        "df = df.drop(columns=['unix'])\n",
        "print(df.shape)\n",
        "df.head(5)"
      ],
      "execution_count": 2,
      "outputs": [
        {
          "output_type": "stream",
          "text": [
            "(330483, 6)\n"
          ],
          "name": "stdout"
        },
        {
          "output_type": "execute_result",
          "data": {
            "text/html": [
              "<div>\n",
              "<style scoped>\n",
              "    .dataframe tbody tr th:only-of-type {\n",
              "        vertical-align: middle;\n",
              "    }\n",
              "\n",
              "    .dataframe tbody tr th {\n",
              "        vertical-align: top;\n",
              "    }\n",
              "\n",
              "    .dataframe thead th {\n",
              "        text-align: right;\n",
              "    }\n",
              "</style>\n",
              "<table border=\"1\" class=\"dataframe\">\n",
              "  <thead>\n",
              "    <tr style=\"text-align: right;\">\n",
              "      <th></th>\n",
              "      <th>open</th>\n",
              "      <th>high</th>\n",
              "      <th>low</th>\n",
              "      <th>close</th>\n",
              "      <th>volume</th>\n",
              "      <th>tradecount</th>\n",
              "    </tr>\n",
              "    <tr>\n",
              "      <th>date</th>\n",
              "      <th></th>\n",
              "      <th></th>\n",
              "      <th></th>\n",
              "      <th></th>\n",
              "      <th></th>\n",
              "      <th></th>\n",
              "    </tr>\n",
              "  </thead>\n",
              "  <tbody>\n",
              "    <tr>\n",
              "      <th>2020-09-11 20:40:00</th>\n",
              "      <td>10317.00</td>\n",
              "      <td>10317.01</td>\n",
              "      <td>10314.36</td>\n",
              "      <td>10316.00</td>\n",
              "      <td>340398.477553</td>\n",
              "      <td>342</td>\n",
              "    </tr>\n",
              "    <tr>\n",
              "      <th>2020-09-11 20:41:00</th>\n",
              "      <td>10316.00</td>\n",
              "      <td>10321.09</td>\n",
              "      <td>10316.00</td>\n",
              "      <td>10319.50</td>\n",
              "      <td>168497.705251</td>\n",
              "      <td>256</td>\n",
              "    </tr>\n",
              "    <tr>\n",
              "      <th>2020-09-11 20:42:00</th>\n",
              "      <td>10319.50</td>\n",
              "      <td>10320.31</td>\n",
              "      <td>10318.49</td>\n",
              "      <td>10319.34</td>\n",
              "      <td>125108.931436</td>\n",
              "      <td>193</td>\n",
              "    </tr>\n",
              "    <tr>\n",
              "      <th>2020-09-11 20:43:00</th>\n",
              "      <td>10319.34</td>\n",
              "      <td>10320.14</td>\n",
              "      <td>10318.89</td>\n",
              "      <td>10319.00</td>\n",
              "      <td>139806.963489</td>\n",
              "      <td>187</td>\n",
              "    </tr>\n",
              "    <tr>\n",
              "      <th>2020-09-11 20:44:00</th>\n",
              "      <td>10318.99</td>\n",
              "      <td>10319.72</td>\n",
              "      <td>10316.58</td>\n",
              "      <td>10319.47</td>\n",
              "      <td>149266.708094</td>\n",
              "      <td>284</td>\n",
              "    </tr>\n",
              "  </tbody>\n",
              "</table>\n",
              "</div>"
            ],
            "text/plain": [
              "                         open      high  ...         volume  tradecount\n",
              "date                                     ...                           \n",
              "2020-09-11 20:40:00  10317.00  10317.01  ...  340398.477553         342\n",
              "2020-09-11 20:41:00  10316.00  10321.09  ...  168497.705251         256\n",
              "2020-09-11 20:42:00  10319.50  10320.31  ...  125108.931436         193\n",
              "2020-09-11 20:43:00  10319.34  10320.14  ...  139806.963489         187\n",
              "2020-09-11 20:44:00  10318.99  10319.72  ...  149266.708094         284\n",
              "\n",
              "[5 rows x 6 columns]"
            ]
          },
          "metadata": {},
          "execution_count": 2
        }
      ]
    },
    {
      "cell_type": "code",
      "metadata": {
        "id": "wJhoiwhrIBpX",
        "cellView": "form"
      },
      "source": [
        "#@title Indicators\n",
        "import pandas as pd\n",
        "import numpy as np\n",
        "\n",
        "class Indicators:\n",
        "\n",
        "    @staticmethod\n",
        "    def sma_indicator(df: pd.DataFrame, time_period: int = 21):\n",
        "        \"\"\"\n",
        "        Get The expected indicator in a pandas dataframe.\n",
        "        Args:\n",
        "            df(pandas.DataFrame): pandas Dataframe with close values\\n\n",
        "            time_period(int): look back time period to calculate moving average \\n\n",
        "        Returns:\n",
        "            pandas.DataFrame: new pandas dataframe adding SMA as new column, preserving the columns which already exists\\n\n",
        "        \"\"\"\n",
        "\n",
        "        df[\"SMA\"] = df[\"close\"].rolling(window=time_period).mean()\n",
        "        return df\n",
        "\n",
        "    @staticmethod\n",
        "    def macd_indicator(df: pd.DataFrame, short_time_period: int = 12, long_time_period: int = 26, need_signal: bool = True, signal_time_period: int = 9):\n",
        "        \"\"\"\n",
        "        Get The expected indicator in a pandas dataframe.\n",
        "        Args:\n",
        "            df(pandas.DataFrame): pandas Dataframe with close values\\n\n",
        "            short_time_period(int): short term look back time period.\\n\n",
        "            long_time_period(int): long term look back time period.\\n\n",
        "            need_signal(bool): if True MACD signal line is added as a new column to the returning pandas dataframe.\\n\n",
        "            signal_time_period(int): look back period to calculate signal line\\n\n",
        "        Returns:\n",
        "            pandas.DataFrame: new pandas dataframe adding MACD and MACD_signal_line(if required) as new column/s, preserving the columns which already exists\\n\n",
        "        \"\"\"\n",
        "\n",
        "        df[\"LONG_EMA\"] = df[\"close\"].ewm(span=long_time_period).mean()\n",
        "        df[\"SHORT_EMA\"] = df[\"close\"].ewm(span=short_time_period).mean()\n",
        "\n",
        "        df[\"MACD\"] = df[\"SHORT_EMA\"] - df[\"LONG_EMA\"]\n",
        "        if need_signal:\n",
        "            df[\"MACD_signal_line\"] = df[\"MACD\"].ewm(span=signal_time_period).mean()\n",
        "\n",
        "        df = df.drop([\"LONG_EMA\", \"SHORT_EMA\"], axis=1)\n",
        "        return df\n",
        "\n",
        "    @staticmethod\n",
        "    def atr_indicator(df: pd.DataFrame, time_period: int = 14):\n",
        "        \"\"\"\n",
        "        Get The expected indicator in a pandas dataframe.\n",
        "        Args:\n",
        "            df(pandas.DataFrame): pandas Dataframe with high, low and close values\\n\n",
        "            time_period(int): look back period to calculate ATR\n",
        "        Returns:\n",
        "            pandas.DataFrame: new pandas dataframe adding ATR as a new column, preserving the columns which already exists\n",
        "        \"\"\"\n",
        "\n",
        "        df[\"close_prev\"] = df[\"close\"].shift(1)\n",
        "        df[\"TR\"] = df[[\"high\", \"close_prev\"]].max(\n",
        "            axis=1) - df[[\"low\", \"close_prev\"]].min(axis=1)\n",
        "        df[\"ATR\"] = df[\"TR\"].rolling(window=time_period).mean()\n",
        "\n",
        "        df = df.drop([\"close_prev\", \"TR\"], axis=1)\n",
        "        return df\n",
        "\n",
        "    @staticmethod\n",
        "    def ema_indicator(df: pd.DataFrame, time_period: int = 21):\n",
        "        \"\"\"\n",
        "        Get The expected indicator in a pandas dataframe.\n",
        "        Args:\n",
        "            df(pandas.DataFrame): pandas Dataframe with close values\\n\n",
        "            time_period(int): look back time period\\n\n",
        "        Returns:\n",
        "            pandas.DataFrame: new pandas dataframe adding EMA as a new column, preserving the columns which already exists\\n\n",
        "        \"\"\"\n",
        "        df[\"EMA\"] = df[\"close\"].ewm(span=time_period).mean()\n",
        "        return df\n",
        "\n",
        "\n",
        "    @staticmethod\n",
        "    def kc_indicator(df: pd.DataFrame, time_period: int = 20, atr_time_period: int = 14, atr_multiplier: int = 2):\n",
        "        \"\"\"\n",
        "        Get The expected indicator in a pandas dataframe.\n",
        "        Args:\n",
        "            df(pandas.DataFrame): pandas Dataframe with close values\\n\n",
        "            time_period(int): look back time period to calculate moving average\n",
        "            atr_time_period(int): time period to calculate average true range\n",
        "            atr_multiplier(int): constant value which will be multiplied by average true range\n",
        "        Returns:\n",
        "            pandas.DataFrame: new pandas dataframe adding kc_upper, kc_middle and kc_lower as three columns, preserving the columns which already exists\\n\n",
        "        \"\"\"\n",
        "\n",
        "        df[\"kc_middle\"] = df[\"close\"].ewm(span=time_period).mean()\n",
        "        df = Indicators.atr_indicator(df, atr_time_period)\n",
        "\n",
        "        df[\"kc_upper\"] = df[\"kc_middle\"] + atr_multiplier * df[\"ATR\"]\n",
        "        df[\"kc_lower\"] = df[\"kc_middle\"] - atr_multiplier * df[\"ATR\"]\n",
        "\n",
        "        df = df.drop([\"ATR\"], axis=1)\n",
        "\n",
        "        return df\n",
        "\n",
        "\n",
        "    @staticmethod\n",
        "    def rsi_indicator(df, time_period=14):\n",
        "        \"\"\"\n",
        "        Get The expected indicator in a pandas dataframe.\n",
        "        Args:\n",
        "            df(pandas.DataFrame): pandas Dataframe with close values\\n\n",
        "            time_period(int): look back time period to calculate moving average \\n\n",
        "        Returns:\n",
        "            pandas.DataFrame: new pandas dataframe adding RSI as new column, preserving the columns which already exists\\n\n",
        "        \"\"\"\n",
        "\n",
        "        df[\"close_prev\"] = df[\"close\"].shift(1)\n",
        "\n",
        "        df[\"GAIN\"] = 0.0\n",
        "        df[\"LOSS\"] = 0.0\n",
        "\n",
        "        df.loc[df[\"close\"] > df[\"close_prev\"],\n",
        "               \"GAIN\"] = df[\"close\"] - df[\"close_prev\"]\n",
        "        df.loc[df[\"close_prev\"] > df[\"close\"],\n",
        "               \"LOSS\"] = df[\"close_prev\"] - df[\"close\"]\n",
        "        df[\"AVG_GAIN\"] = df[\"GAIN\"].ewm(span=time_period).mean()\n",
        "        df[\"AVG_LOSS\"] = df[\"LOSS\"].ewm(span=time_period).mean()\n",
        "        df[\"AVG_GAIN\"].iloc[:time_period] = np.nan\n",
        "        df[\"AVG_LOSS\"].iloc[:time_period] = np.nan\n",
        "        df[\"RS\"] = df[\"AVG_GAIN\"] / \\\n",
        "                   (df[\"AVG_LOSS\"] + 0.00000001)  # to avoid divide by zero\n",
        "\n",
        "        df[\"RSI\"] = 100 - ((100 / (1 + df[\"RS\"])))\n",
        "\n",
        "        df = df.drop([\"close_prev\", \"GAIN\", \"LOSS\",\n",
        "                      \"AVG_GAIN\", \"AVG_LOSS\", \"RS\"], axis=1)\n",
        "        return df\n",
        "\n",
        "\n",
        "    @staticmethod\n",
        "    def mom_indicator(df: pd.DataFrame, time_period=1):\n",
        "        \"\"\"\n",
        "        MOM -> Momentum\n",
        "        Momentum helps to determine the price changes from one period to another. \\n\n",
        "        \\n Links:\n",
        "            http://www.ta-guru.com/Book/TechnicalAnalysis/TechnicalIndicators/Momentum.php5\\n\n",
        "        \"\"\"\n",
        "        \"\"\"\n",
        "                Get The expected indicator in a pandas dataframe.\n",
        "                Args:\n",
        "                    df(pandas.DataFrame): pandas Dataframe with close values\\n\n",
        "                    time_period(int): look back time period.\\n\n",
        "                Returns:\n",
        "                    pandas.DataFrame: new pandas dataframe adding MOM as a new column, \n",
        "                    preserving the columns which already exists\\n\n",
        "                \"\"\"\n",
        "        df[\"close_prev\"] = df[\"close\"].shift(time_period)\n",
        "        df[\"MOM\"] = df[\"close\"] - df[\"close_prev\"]\n",
        "        df.drop(columns=\"close_prev\")\n",
        "        return df\n",
        "\n",
        "    @staticmethod\n",
        "    def vhf_indicator(df: pd.DataFrame, time_period: int = 28):\n",
        "        \"\"\"\n",
        "                Get The expected indicator in a pandas dataframe.\n",
        "                Args:\n",
        "                    df(pandas.DataFrame): pandas Dataframe with close values\\n\n",
        "                    time_period(int): look back time period\\n\n",
        "                Returns:\n",
        "                    pandas.DataFrame: new pandas dataframe adding VHF as new column, preserving the columns which already exists\\n\n",
        "                \"\"\"\n",
        "        df[\"PC\"] = df[\"close\"].shift(1)\n",
        "        df[\"DIF\"] = abs(df[\"close\"] - df[\"PC\"])\n",
        "\n",
        "        df[\"HC\"] = df[\"close\"].rolling(window=time_period).max()\n",
        "        df[\"LC\"] = df[\"close\"].rolling(window=time_period).min()\n",
        "\n",
        "        df[\"HC-LC\"] = abs(df[\"HC\"] - df[\"LC\"])\n",
        "\n",
        "        df[\"DIF\"] = df[\"DIF\"].rolling(window=time_period).sum()\n",
        "\n",
        "        df[\"VHF\"] = df[\"HC-LC\"] / df[\"DIF\"]\n",
        "\n",
        "        df = df.drop([\"PC\", \"DIF\", \"HC\", \"LC\", \"HC-LC\"], axis=1)\n",
        "\n",
        "        return df\n",
        "\n",
        "\n",
        "    @staticmethod\n",
        "    def trix_indicator(df: pd.DataFrame, time_period: int = 14):\n",
        "            \"\"\"\n",
        "            Get The expected indicator in a pandas dataframe.\n",
        "            Args:\n",
        "                df(pandas.DataFrame): pandas Dataframe with close values\\n\n",
        "                time_period(int): look back time period \\n\n",
        "            Returns:\n",
        "                pandas.DataFrame: new pandas dataframe adding Trix as new column, preserving the columns which already exists\\n\n",
        "            \"\"\"\n",
        "\n",
        "            df[\"EMA1\"] = df[\"close\"].ewm(span=time_period).mean()\n",
        "            df[\"EMA2\"] = df[\"EMA1\"].ewm(span=time_period).mean()\n",
        "            df[\"EMA3\"] = df[\"EMA2\"].ewm(span=time_period).mean()\n",
        "            df[\"EMA_prev\"] = df[\"EMA3\"].shift(1)\n",
        "\n",
        "            df[\"TRIX\"] = (df[\"EMA3\"] - df[\"EMA_prev\"]) / \\\n",
        "                         df[\"EMA_prev\"] * 100\n",
        "            df = df.drop([\"EMA1\", \"EMA2\", \"EMA3\", \"EMA_prev\"], axis=1)\n",
        "            return df\n",
        "\n",
        "    @staticmethod\n",
        "    def rocv_indicator(df: pd.DataFrame, time_period: int = 12):\n",
        "        \"\"\"\n",
        "           ROCV -> Rate of Change Volume\n",
        "           ROCV indicator is used to identify whether the price movement is confirmed by trading volume.\n",
        "            Links:\n",
        "               http://www.ta-guru.com/Book/TechnicalAnalysis/TechnicalIndicators/VolumeRateOfChange.php5\n",
        "               https://www.investopedia.com/articles/technical/02/091002.asp\n",
        "           \"\"\"\n",
        "\n",
        "        \"\"\"\n",
        "        Get The expected indicator in a pandas dataframe.\n",
        "        Args:\n",
        "            df(pandas.DataFrame): pandas Dataframe with volume values\\n\n",
        "            time_period(int): look back time period\\n\n",
        "        Returns:\n",
        "            pandas.DataFrame: new pandas dataframe adding ROCV as new column, preserving the columns which already exists\\n\n",
        "        \"\"\"\n",
        "        df[\"prev_volume\"] = df[\"volume\"].shift(time_period)\n",
        "        df[\"ROCV\"] = (df[\"volume\"] - df[\"prev_volume\"]\n",
        "                      ) / df[\"prev_volume\"] * 100\n",
        "        df = df.drop([\"prev_volume\"], axis=1)\n",
        "\n",
        "\n",
        "        return df"
      ],
      "execution_count": 3,
      "outputs": []
    },
    {
      "cell_type": "code",
      "metadata": {
        "id": "ZdYiEe1TJME9"
      },
      "source": [
        "id_str = 'cryptostocks-v1'\n",
        "\n",
        "if 'cryptostocks-v1' in list(gym.envs.registry.env_specs.keys()):\n",
        "  del gym.envs.registry.env_specs['cryptostocks-v1']\n",
        "\n",
        "from gym.envs.registration import register\n",
        "register(\n",
        "    id=id_str,\n",
        "    entry_point=CryptoTradingEnv,\n",
        ")"
      ],
      "execution_count": 4,
      "outputs": []
    },
    {
      "cell_type": "code",
      "metadata": {
        "id": "b2XLTm7WxMeH"
      },
      "source": [
        "import os\n",
        "import shutil"
      ],
      "execution_count": 5,
      "outputs": []
    },
    {
      "cell_type": "code",
      "metadata": {
        "id": "COMQ80L_zJj_"
      },
      "source": [
        "# pump (2500, 5000)\n",
        "# dump (1700, 2000)\n",
        "env = gym.make(id_str, df=df, frame_bound=(7500, 10000), window_size=22, indicators=['close'], position_in_observation=False)"
      ],
      "execution_count": 6,
      "outputs": []
    },
    {
      "cell_type": "code",
      "metadata": {
        "colab": {
          "base_uri": "https://localhost:8080/",
          "height": 434
        },
        "id": "kxs1OT7dvdQR",
        "outputId": "d2457de9-cab5-494f-db84-772937c7ff3a"
      },
      "source": [
        "class BuynHoldAgent():\n",
        "\n",
        "    def __init__(self):\n",
        "        return\n",
        "\n",
        "    # return action\n",
        "    def act(self, obs):\n",
        "        # 1 = OpenLongPos\n",
        "        return 1\n",
        "\n",
        "print(\"BUY and HOLD agent\")\n",
        "buynhold = BuynHoldAgent()\n",
        "obs = env.reset()\n",
        "for i in range(2499):\n",
        "  action = buynhold.act(obs)\n",
        "  obs, step_reward, done, info = env.step(action)\n",
        "\n",
        "env.step(2)\n",
        "env.render_all(1)"
      ],
      "execution_count": 7,
      "outputs": [
        {
          "output_type": "stream",
          "text": [
            "BUY and HOLD agent\n"
          ],
          "name": "stdout"
        },
        {
          "output_type": "display_data",
          "data": {
            "image/png": "[encoded data removed]",
            "text/plain": [
              "<Figure size 1080x432 with 2 Axes>"
            ]
          },
          "metadata": {
            "needs_background": "light"
          }
        }
      ]
    },
    {
      "cell_type": "code",
      "metadata": {
        "colab": {
          "base_uri": "https://localhost:8080/",
          "height": 434
        },
        "id": "-zqypuQ2xjmw",
        "outputId": "015e2a41-27ae-4f1b-831f-56a420d0cd4b"
      },
      "source": [
        "class SellnHoldAgent():\n",
        "\n",
        "    def __init__(self):\n",
        "        return\n",
        "\n",
        "    # return action\n",
        "    def act(self, obs):\n",
        "        # 2 = OpenShortPos\n",
        "        return 2\n",
        "\n",
        "print(\"SELL and HOLD agent\")\n",
        "sellnhold = SellnHoldAgent()\n",
        "obs = env.reset()\n",
        "for i in range(2499):\n",
        "  action = sellnhold.act(obs)\n",
        "  obs, step_reward, done, info = env.step(action)\n",
        "\n",
        "env.step(1)\n",
        "env.render_all(1)"
      ],
      "execution_count": 8,
      "outputs": [
        {
          "output_type": "stream",
          "text": [
            "SELL and HOLD agent\n"
          ],
          "name": "stdout"
        },
        {
          "output_type": "display_data",
          "data": {
            "image/png": "[encoded data removed]",
            "text/plain": [
              "<Figure size 1080x432 with 2 Axes>"
            ]
          },
          "metadata": {
            "needs_background": "light"
          }
        }
      ]
    },
    {
      "cell_type": "code",
      "metadata": {
        "colab": {
          "base_uri": "https://localhost:8080/",
          "height": 434
        },
        "id": "ZkaCilHRxm9q",
        "outputId": "98fa4c99-4e75-4c0c-da76-b865da1d31de"
      },
      "source": [
        "class MomentumAgent():\n",
        "\n",
        "    def __init__(self):\n",
        "        return\n",
        "\n",
        "    def act(self, obs):\n",
        "        #TODO cambiare nomi colonne\n",
        "        #obs deve contenere solo le chiusure\n",
        "\n",
        "        obs = pd.DataFrame(obs,columns=[\"close\"])\n",
        "        obs['9-day'] = obs['close'].rolling(9).mean()\n",
        "        obs['20-day'] = obs['close'].rolling(21).mean()\n",
        "\n",
        "        obs['signal'] = np.where(obs['9-day'] > obs['20-day'], 1, 0)\n",
        "        obs['signal'] = np.where(obs['9-day'] < obs['20-day'], 2, obs['signal'])\n",
        "\n",
        "        action = int(obs[\"signal\"].iloc[-1])\n",
        "        return action\n",
        "\n",
        "print(\"MOMENTUM agent\")\n",
        "momentum = MomentumAgent()\n",
        "obs = env.reset()\n",
        "for i in range(2499):\n",
        "  action = momentum.act(obs)\n",
        "  obs, step_reward, done, info = env.step(action)\n",
        "\n",
        "if action == 1:\n",
        "  action = 2\n",
        "else:\n",
        "  action = 1\n",
        "env.step(action)\n",
        "env.render_all(1)"
      ],
      "execution_count": 9,
      "outputs": [
        {
          "output_type": "stream",
          "text": [
            "MOMENTUM agent\n"
          ],
          "name": "stdout"
        },
        {
          "output_type": "display_data",
          "data": {
            "image/png": "[encoded data removed]",
            "text/plain": [
              "<Figure size 1080x432 with 2 Axes>"
            ]
          },
          "metadata": {
            "needs_background": "light"
          }
        }
      ]
    },
    {
      "cell_type": "code",
      "metadata": {
        "colab": {
          "base_uri": "https://localhost:8080/",
          "height": 450
        },
        "id": "97-8LWYQ5CTu",
        "outputId": "bddf019e-4cfe-4bd5-9f38-a743402ac049"
      },
      "source": [
        "class MovingAverageCrossoverAgent():\n",
        "\n",
        "    # The second thing of importance is coming to understand the\n",
        "    # trigger for trading with moving average crossovers.\n",
        "    # A buy or sell signal is triggered once the smaller moving average crosses above or\n",
        "    # below the larger moving average, respectively.\n",
        "\n",
        "    def __init__(self):\n",
        "        return\n",
        "\n",
        "    # obs deve contentere ['closes', 'sma']\n",
        "    # obs dovrebbe essere un numpy\n",
        "    # TODO controllare che il valore di default di sma in Indicators\n",
        "    def act(self, obs, sma_down=26, sma_up=27):\n",
        "        obs = pd.DataFrame(obs, columns=[\"close\", \"sma\"])\n",
        "        obs[\"sma5\"] = obs[\"close\"].rolling(window=sma_down).mean()\n",
        "        obs[\"sma20\"] = obs[\"close\"].rolling(window=sma_up).mean()\n",
        "\n",
        "        pre_sma5, sma5 = obs.sma5.values[-2], obs.sma5.values[-1]\n",
        "        pre_sma20, sma20 = obs.sma20.values[-2], obs.sma20.values[-1]\n",
        "\n",
        "        # BUY SIGNAL = se sma5 incrocia (cioè supera da sotto verso sopra) sma10 compro\n",
        "        if pre_sma5 < pre_sma20 and sma5 > sma20:\n",
        "            return 1\n",
        "\n",
        "        if pre_sma5 > pre_sma20 and sma5 < sma20:\n",
        "            return 2\n",
        "\n",
        "        if sma5 < sma20:\n",
        "            return 2\n",
        "        if sma5 > sma20:\n",
        "            return 1\n",
        "\n",
        "        return 0\n",
        "\n",
        "print(\"MOVING AVERAGE CROSSOVER agent\")\n",
        "moving_average_crossover = MovingAverageCrossoverAgent()\n",
        "env = gym.make(id_str, df=df, frame_bound=(2500, 5000), window_size=50, indicators=['close', 'SMA'], position_in_observation=False)\n",
        "obs = env.reset()\n",
        "for i in range(2499):\n",
        "  action = moving_average_crossover.act(obs)\n",
        "  obs, step_reward, done, info = env.step(action)\n",
        "\n",
        "if action == 1:\n",
        "  action = 2\n",
        "else:\n",
        "  action = 1\n",
        "env.step(action)\n",
        "env.render_all(1)"
      ],
      "execution_count": 10,
      "outputs": [
        {
          "output_type": "stream",
          "text": [
            "MOVING AVERAGE CROSSOVER agent\n"
          ],
          "name": "stdout"
        },
        {
          "output_type": "stream",
          "text": [
            "/usr/local/lib/python3.7/dist-packages/ipykernel_launcher.py:129: RuntimeWarning: invalid value encountered in double_scalars\n"
          ],
          "name": "stderr"
        },
        {
          "output_type": "display_data",
          "data": {
            "image/png": "[encoded data removed]",
            "text/plain": [
              "<Figure size 1080x432 with 2 Axes>"
            ]
          },
          "metadata": {
            "needs_background": "light"
          }
        }
      ]
    },
    {
      "cell_type": "code",
      "metadata": {
        "colab": {
          "base_uri": "https://localhost:8080/"
        },
        "id": "kztpP6aRNkSy",
        "outputId": "1a648cbc-4a6c-465d-a44e-902c98ffd3a2"
      },
      "source": [
        "class MovingAverageCrossoverAgent():\n",
        "\n",
        "    # The second thing of importance is coming to understand the\n",
        "    # trigger for trading with moving average crossovers.\n",
        "    # A buy or sell signal is triggered once the smaller moving average crosses above or\n",
        "    # below the larger moving average, respectively.\n",
        "\n",
        "    def __init__(self):\n",
        "        return\n",
        "\n",
        "    # obs deve contentere ['closes', 'sma']\n",
        "    # obs dovrebbe essere un numpy\n",
        "    # TODO controllare che il valore di default di sma in Indicators\n",
        "    def act(self, obs, sma_down=26, sma_up=27):\n",
        "        obs = pd.DataFrame(obs, columns=[\"close\", \"sma\"])\n",
        "        obs[\"sma5\"] = obs[\"close\"].rolling(window=sma_down).mean()\n",
        "        obs[\"sma20\"] = obs[\"close\"].rolling(window=sma_up).mean()\n",
        "\n",
        "        pre_sma5, sma5 = obs.sma5.values[-2], obs.sma5.values[-1]\n",
        "        pre_sma20, sma20 = obs.sma20.values[-2], obs.sma20.values[-1]\n",
        "\n",
        "        # BUY SIGNAL = se sma5 incrocia (cioè supera da sotto verso sopra) sma10 compro\n",
        "        if pre_sma5 < pre_sma20 and sma5 > sma20:\n",
        "            return 1\n",
        "\n",
        "        if pre_sma5 > pre_sma20 and sma5 < sma20:\n",
        "            return 2\n",
        "\n",
        "        if sma5 < sma20:\n",
        "            return 2\n",
        "        if sma5 > sma20:\n",
        "            return 1\n",
        "\n",
        "        return 0\n",
        "\n",
        "print(\"MOVING AVERAGE CROSSOVER agent\")\n",
        "moving_average_crossover = MovingAverageCrossoverAgent()\n",
        "max_profit = 0.0f\n",
        "best_l = 1\n",
        "best_h = 1\n",
        "for l in range(0, 48):\n",
        "  print(\"l =\", l)\n",
        "  print(\"Max profit = \", max_profit, \" --- (l, h) = \", best_l, best_h)\n",
        "  for h in range(0, 49):\n",
        "    env = gym.make(id_str, df=df, frame_bound=(2500, 5000), window_size=50, indicators=['close', 'SMA'], position_in_observation=False)\n",
        "    obs = env.reset()\n",
        "\n",
        "    for i in range(2499):\n",
        "      action = moving_average_crossover.act(obs, l, h)\n",
        "      obs, step_reward, done, info = env.step(action)\n",
        "\n",
        "    if action == 1:\n",
        "      action = 2\n",
        "    else:\n",
        "      action = 1\n",
        "    obs, step_reward, done, info = env.step(action)\n",
        "    if info.get(\"total_profit\") > max_profit:\n",
        "      max_profit = info.get(\"total_profit\")\n",
        "      best_l = l\n",
        "      best_h = h\n",
        "      print(\"Update max profit =\", max_profit, \" --- (l, h) =\", best_l, best_h)\n",
        "print(\"Max profit = \", max_profit, \" --- (l, h) = \", best_l, best_h)"
      ],
      "execution_count": 13,
      "outputs": [
        {
          "output_type": "stream",
          "text": [
            "MOVING AVERAGE CROSSOVER agent\n",
            "l = 0\n",
            "Max profit =  0.0  --- (l, h) =  1 1\n",
            "l = 1\n",
            "Max profit =  0.0  --- (l, h) =  1 1\n"
          ],
          "name": "stdout"
        },
        {
          "output_type": "stream",
          "text": [
            "/usr/local/lib/python3.7/dist-packages/ipykernel_launcher.py:129: RuntimeWarning: invalid value encountered in double_scalars\n",
            "/usr/local/lib/python3.7/dist-packages/ipykernel_launcher.py:129: RuntimeWarning: invalid value encountered in double_scalars\n",
            "/usr/local/lib/python3.7/dist-packages/ipykernel_launcher.py:129: RuntimeWarning: invalid value encountered in double_scalars\n",
            "/usr/local/lib/python3.7/dist-packages/ipykernel_launcher.py:129: RuntimeWarning: invalid value encountered in double_scalars\n",
            "/usr/local/lib/python3.7/dist-packages/ipykernel_launcher.py:129: RuntimeWarning: invalid value encountered in double_scalars\n",
            "/usr/local/lib/python3.7/dist-packages/ipykernel_launcher.py:129: RuntimeWarning: invalid value encountered in double_scalars\n",
            "/usr/local/lib/python3.7/dist-packages/ipykernel_launcher.py:129: RuntimeWarning: invalid value encountered in double_scalars\n",
            "/usr/local/lib/python3.7/dist-packages/ipykernel_launcher.py:129: RuntimeWarning: invalid value encountered in double_scalars\n",
            "/usr/local/lib/python3.7/dist-packages/ipykernel_launcher.py:129: RuntimeWarning: invalid value encountered in double_scalars\n",
            "/usr/local/lib/python3.7/dist-packages/ipykernel_launcher.py:129: RuntimeWarning: invalid value encountered in double_scalars\n",
            "/usr/local/lib/python3.7/dist-packages/ipykernel_launcher.py:129: RuntimeWarning: invalid value encountered in double_scalars\n",
            "/usr/local/lib/python3.7/dist-packages/ipykernel_launcher.py:129: RuntimeWarning: invalid value encountered in double_scalars\n",
            "/usr/local/lib/python3.7/dist-packages/ipykernel_launcher.py:129: RuntimeWarning: invalid value encountered in double_scalars\n",
            "/usr/local/lib/python3.7/dist-packages/ipykernel_launcher.py:129: RuntimeWarning: invalid value encountered in double_scalars\n",
            "/usr/local/lib/python3.7/dist-packages/ipykernel_launcher.py:129: RuntimeWarning: invalid value encountered in double_scalars\n",
            "/usr/local/lib/python3.7/dist-packages/ipykernel_launcher.py:129: RuntimeWarning: invalid value encountered in double_scalars\n",
            "/usr/local/lib/python3.7/dist-packages/ipykernel_launcher.py:129: RuntimeWarning: invalid value encountered in double_scalars\n",
            "/usr/local/lib/python3.7/dist-packages/ipykernel_launcher.py:129: RuntimeWarning: invalid value encountered in double_scalars\n",
            "/usr/local/lib/python3.7/dist-packages/ipykernel_launcher.py:129: RuntimeWarning: invalid value encountered in double_scalars\n",
            "/usr/local/lib/python3.7/dist-packages/ipykernel_launcher.py:129: RuntimeWarning: invalid value encountered in double_scalars\n",
            "/usr/local/lib/python3.7/dist-packages/ipykernel_launcher.py:129: RuntimeWarning: invalid value encountered in double_scalars\n",
            "/usr/local/lib/python3.7/dist-packages/ipykernel_launcher.py:129: RuntimeWarning: invalid value encountered in double_scalars\n",
            "/usr/local/lib/python3.7/dist-packages/ipykernel_launcher.py:129: RuntimeWarning: invalid value encountered in double_scalars\n",
            "/usr/local/lib/python3.7/dist-packages/ipykernel_launcher.py:129: RuntimeWarning: invalid value encountered in double_scalars\n",
            "/usr/local/lib/python3.7/dist-packages/ipykernel_launcher.py:129: RuntimeWarning: invalid value encountered in double_scalars\n"
          ],
          "name": "stderr"
        },
        {
          "output_type": "stream",
          "text": [
            "l = 2\n",
            "Max profit =  364.9367961908647  --- (l, h) =  1 24\n"
          ],
          "name": "stdout"
        },
        {
          "output_type": "stream",
          "text": [
            "/usr/local/lib/python3.7/dist-packages/ipykernel_launcher.py:129: RuntimeWarning: invalid value encountered in double_scalars\n",
            "/usr/local/lib/python3.7/dist-packages/ipykernel_launcher.py:129: RuntimeWarning: invalid value encountered in double_scalars\n",
            "/usr/local/lib/python3.7/dist-packages/ipykernel_launcher.py:129: RuntimeWarning: invalid value encountered in double_scalars\n",
            "/usr/local/lib/python3.7/dist-packages/ipykernel_launcher.py:129: RuntimeWarning: invalid value encountered in double_scalars\n",
            "/usr/local/lib/python3.7/dist-packages/ipykernel_launcher.py:129: RuntimeWarning: invalid value encountered in double_scalars\n",
            "/usr/local/lib/python3.7/dist-packages/ipykernel_launcher.py:129: RuntimeWarning: invalid value encountered in double_scalars\n",
            "/usr/local/lib/python3.7/dist-packages/ipykernel_launcher.py:129: RuntimeWarning: invalid value encountered in double_scalars\n",
            "/usr/local/lib/python3.7/dist-packages/ipykernel_launcher.py:129: RuntimeWarning: invalid value encountered in double_scalars\n",
            "/usr/local/lib/python3.7/dist-packages/ipykernel_launcher.py:129: RuntimeWarning: invalid value encountered in double_scalars\n",
            "/usr/local/lib/python3.7/dist-packages/ipykernel_launcher.py:129: RuntimeWarning: invalid value encountered in double_scalars\n",
            "/usr/local/lib/python3.7/dist-packages/ipykernel_launcher.py:129: RuntimeWarning: invalid value encountered in double_scalars\n",
            "/usr/local/lib/python3.7/dist-packages/ipykernel_launcher.py:129: RuntimeWarning: invalid value encountered in double_scalars\n",
            "/usr/local/lib/python3.7/dist-packages/ipykernel_launcher.py:129: RuntimeWarning: invalid value encountered in double_scalars\n",
            "/usr/local/lib/python3.7/dist-packages/ipykernel_launcher.py:129: RuntimeWarning: invalid value encountered in double_scalars\n",
            "/usr/local/lib/python3.7/dist-packages/ipykernel_launcher.py:129: RuntimeWarning: invalid value encountered in double_scalars\n",
            "/usr/local/lib/python3.7/dist-packages/ipykernel_launcher.py:129: RuntimeWarning: invalid value encountered in double_scalars\n",
            "/usr/local/lib/python3.7/dist-packages/ipykernel_launcher.py:129: RuntimeWarning: invalid value encountered in double_scalars\n",
            "/usr/local/lib/python3.7/dist-packages/ipykernel_launcher.py:129: RuntimeWarning: invalid value encountered in double_scalars\n",
            "/usr/local/lib/python3.7/dist-packages/ipykernel_launcher.py:129: RuntimeWarning: invalid value encountered in double_scalars\n",
            "/usr/local/lib/python3.7/dist-packages/ipykernel_launcher.py:129: RuntimeWarning: invalid value encountered in double_scalars\n",
            "/usr/local/lib/python3.7/dist-packages/ipykernel_launcher.py:129: RuntimeWarning: invalid value encountered in double_scalars\n",
            "/usr/local/lib/python3.7/dist-packages/ipykernel_launcher.py:129: RuntimeWarning: invalid value encountered in double_scalars\n",
            "/usr/local/lib/python3.7/dist-packages/ipykernel_launcher.py:129: RuntimeWarning: invalid value encountered in double_scalars\n",
            "/usr/local/lib/python3.7/dist-packages/ipykernel_launcher.py:129: RuntimeWarning: invalid value encountered in double_scalars\n",
            "/usr/local/lib/python3.7/dist-packages/ipykernel_launcher.py:129: RuntimeWarning: invalid value encountered in double_scalars\n",
            "/usr/local/lib/python3.7/dist-packages/ipykernel_launcher.py:129: RuntimeWarning: invalid value encountered in double_scalars\n",
            "/usr/local/lib/python3.7/dist-packages/ipykernel_launcher.py:129: RuntimeWarning: invalid value encountered in double_scalars\n",
            "/usr/local/lib/python3.7/dist-packages/ipykernel_launcher.py:129: RuntimeWarning: invalid value encountered in double_scalars\n",
            "/usr/local/lib/python3.7/dist-packages/ipykernel_launcher.py:129: RuntimeWarning: invalid value encountered in double_scalars\n",
            "/usr/local/lib/python3.7/dist-packages/ipykernel_launcher.py:129: RuntimeWarning: invalid value encountered in double_scalars\n",
            "/usr/local/lib/python3.7/dist-packages/ipykernel_launcher.py:129: RuntimeWarning: invalid value encountered in double_scalars\n"
          ],
          "name": "stderr"
        },
        {
          "output_type": "stream",
          "text": [
            "l = 3\n",
            "Max profit =  371.7385602758768  --- (l, h) =  2 25\n"
          ],
          "name": "stdout"
        },
        {
          "output_type": "stream",
          "text": [
            "/usr/local/lib/python3.7/dist-packages/ipykernel_launcher.py:129: RuntimeWarning: invalid value encountered in double_scalars\n",
            "/usr/local/lib/python3.7/dist-packages/ipykernel_launcher.py:129: RuntimeWarning: invalid value encountered in double_scalars\n",
            "/usr/local/lib/python3.7/dist-packages/ipykernel_launcher.py:129: RuntimeWarning: invalid value encountered in double_scalars\n",
            "/usr/local/lib/python3.7/dist-packages/ipykernel_launcher.py:129: RuntimeWarning: invalid value encountered in double_scalars\n",
            "/usr/local/lib/python3.7/dist-packages/ipykernel_launcher.py:129: RuntimeWarning: invalid value encountered in double_scalars\n",
            "/usr/local/lib/python3.7/dist-packages/ipykernel_launcher.py:129: RuntimeWarning: invalid value encountered in double_scalars\n",
            "/usr/local/lib/python3.7/dist-packages/ipykernel_launcher.py:129: RuntimeWarning: invalid value encountered in double_scalars\n",
            "/usr/local/lib/python3.7/dist-packages/ipykernel_launcher.py:129: RuntimeWarning: invalid value encountered in double_scalars\n",
            "/usr/local/lib/python3.7/dist-packages/ipykernel_launcher.py:129: RuntimeWarning: invalid value encountered in double_scalars\n",
            "/usr/local/lib/python3.7/dist-packages/ipykernel_launcher.py:129: RuntimeWarning: invalid value encountered in double_scalars\n",
            "/usr/local/lib/python3.7/dist-packages/ipykernel_launcher.py:129: RuntimeWarning: invalid value encountered in double_scalars\n",
            "/usr/local/lib/python3.7/dist-packages/ipykernel_launcher.py:129: RuntimeWarning: invalid value encountered in double_scalars\n",
            "/usr/local/lib/python3.7/dist-packages/ipykernel_launcher.py:129: RuntimeWarning: invalid value encountered in double_scalars\n",
            "/usr/local/lib/python3.7/dist-packages/ipykernel_launcher.py:129: RuntimeWarning: invalid value encountered in double_scalars\n",
            "/usr/local/lib/python3.7/dist-packages/ipykernel_launcher.py:129: RuntimeWarning: invalid value encountered in double_scalars\n",
            "/usr/local/lib/python3.7/dist-packages/ipykernel_launcher.py:129: RuntimeWarning: invalid value encountered in double_scalars\n",
            "/usr/local/lib/python3.7/dist-packages/ipykernel_launcher.py:129: RuntimeWarning: invalid value encountered in double_scalars\n",
            "/usr/local/lib/python3.7/dist-packages/ipykernel_launcher.py:129: RuntimeWarning: invalid value encountered in double_scalars\n",
            "/usr/local/lib/python3.7/dist-packages/ipykernel_launcher.py:129: RuntimeWarning: invalid value encountered in double_scalars\n",
            "/usr/local/lib/python3.7/dist-packages/ipykernel_launcher.py:129: RuntimeWarning: invalid value encountered in double_scalars\n",
            "/usr/local/lib/python3.7/dist-packages/ipykernel_launcher.py:129: RuntimeWarning: invalid value encountered in double_scalars\n",
            "/usr/local/lib/python3.7/dist-packages/ipykernel_launcher.py:129: RuntimeWarning: invalid value encountered in double_scalars\n",
            "/usr/local/lib/python3.7/dist-packages/ipykernel_launcher.py:129: RuntimeWarning: invalid value encountered in double_scalars\n",
            "/usr/local/lib/python3.7/dist-packages/ipykernel_launcher.py:129: RuntimeWarning: invalid value encountered in double_scalars\n",
            "/usr/local/lib/python3.7/dist-packages/ipykernel_launcher.py:129: RuntimeWarning: invalid value encountered in double_scalars\n",
            "/usr/local/lib/python3.7/dist-packages/ipykernel_launcher.py:129: RuntimeWarning: invalid value encountered in double_scalars\n",
            "/usr/local/lib/python3.7/dist-packages/ipykernel_launcher.py:129: RuntimeWarning: invalid value encountered in double_scalars\n",
            "/usr/local/lib/python3.7/dist-packages/ipykernel_launcher.py:129: RuntimeWarning: invalid value encountered in double_scalars\n",
            "/usr/local/lib/python3.7/dist-packages/ipykernel_launcher.py:129: RuntimeWarning: invalid value encountered in double_scalars\n",
            "/usr/local/lib/python3.7/dist-packages/ipykernel_launcher.py:129: RuntimeWarning: invalid value encountered in double_scalars\n",
            "/usr/local/lib/python3.7/dist-packages/ipykernel_launcher.py:129: RuntimeWarning: invalid value encountered in double_scalars\n",
            "/usr/local/lib/python3.7/dist-packages/ipykernel_launcher.py:129: RuntimeWarning: invalid value encountered in double_scalars\n",
            "/usr/local/lib/python3.7/dist-packages/ipykernel_launcher.py:129: RuntimeWarning: invalid value encountered in double_scalars\n",
            "/usr/local/lib/python3.7/dist-packages/ipykernel_launcher.py:129: RuntimeWarning: invalid value encountered in double_scalars\n",
            "/usr/local/lib/python3.7/dist-packages/ipykernel_launcher.py:129: RuntimeWarning: invalid value encountered in double_scalars\n",
            "/usr/local/lib/python3.7/dist-packages/ipykernel_launcher.py:129: RuntimeWarning: invalid value encountered in double_scalars\n"
          ],
          "name": "stderr"
        },
        {
          "output_type": "stream",
          "text": [
            "l = 4\n",
            "Max profit =  422.0243535205027  --- (l, h) =  3 21\n"
          ],
          "name": "stdout"
        },
        {
          "output_type": "stream",
          "text": [
            "/usr/local/lib/python3.7/dist-packages/ipykernel_launcher.py:129: RuntimeWarning: invalid value encountered in double_scalars\n",
            "/usr/local/lib/python3.7/dist-packages/ipykernel_launcher.py:129: RuntimeWarning: invalid value encountered in double_scalars\n",
            "/usr/local/lib/python3.7/dist-packages/ipykernel_launcher.py:129: RuntimeWarning: invalid value encountered in double_scalars\n",
            "/usr/local/lib/python3.7/dist-packages/ipykernel_launcher.py:129: RuntimeWarning: invalid value encountered in double_scalars\n",
            "/usr/local/lib/python3.7/dist-packages/ipykernel_launcher.py:129: RuntimeWarning: invalid value encountered in double_scalars\n",
            "/usr/local/lib/python3.7/dist-packages/ipykernel_launcher.py:129: RuntimeWarning: invalid value encountered in double_scalars\n",
            "/usr/local/lib/python3.7/dist-packages/ipykernel_launcher.py:129: RuntimeWarning: invalid value encountered in double_scalars\n",
            "/usr/local/lib/python3.7/dist-packages/ipykernel_launcher.py:129: RuntimeWarning: invalid value encountered in double_scalars\n",
            "/usr/local/lib/python3.7/dist-packages/ipykernel_launcher.py:129: RuntimeWarning: invalid value encountered in double_scalars\n",
            "/usr/local/lib/python3.7/dist-packages/ipykernel_launcher.py:129: RuntimeWarning: invalid value encountered in double_scalars\n",
            "/usr/local/lib/python3.7/dist-packages/ipykernel_launcher.py:129: RuntimeWarning: invalid value encountered in double_scalars\n",
            "/usr/local/lib/python3.7/dist-packages/ipykernel_launcher.py:129: RuntimeWarning: invalid value encountered in double_scalars\n",
            "/usr/local/lib/python3.7/dist-packages/ipykernel_launcher.py:129: RuntimeWarning: invalid value encountered in double_scalars\n",
            "/usr/local/lib/python3.7/dist-packages/ipykernel_launcher.py:129: RuntimeWarning: invalid value encountered in double_scalars\n",
            "/usr/local/lib/python3.7/dist-packages/ipykernel_launcher.py:129: RuntimeWarning: invalid value encountered in double_scalars\n",
            "/usr/local/lib/python3.7/dist-packages/ipykernel_launcher.py:129: RuntimeWarning: invalid value encountered in double_scalars\n",
            "/usr/local/lib/python3.7/dist-packages/ipykernel_launcher.py:129: RuntimeWarning: invalid value encountered in double_scalars\n",
            "/usr/local/lib/python3.7/dist-packages/ipykernel_launcher.py:129: RuntimeWarning: invalid value encountered in double_scalars\n",
            "/usr/local/lib/python3.7/dist-packages/ipykernel_launcher.py:129: RuntimeWarning: invalid value encountered in double_scalars\n",
            "/usr/local/lib/python3.7/dist-packages/ipykernel_launcher.py:129: RuntimeWarning: invalid value encountered in double_scalars\n",
            "/usr/local/lib/python3.7/dist-packages/ipykernel_launcher.py:129: RuntimeWarning: invalid value encountered in double_scalars\n",
            "/usr/local/lib/python3.7/dist-packages/ipykernel_launcher.py:129: RuntimeWarning: invalid value encountered in double_scalars\n",
            "/usr/local/lib/python3.7/dist-packages/ipykernel_launcher.py:129: RuntimeWarning: invalid value encountered in double_scalars\n",
            "/usr/local/lib/python3.7/dist-packages/ipykernel_launcher.py:129: RuntimeWarning: invalid value encountered in double_scalars\n",
            "/usr/local/lib/python3.7/dist-packages/ipykernel_launcher.py:129: RuntimeWarning: invalid value encountered in double_scalars\n"
          ],
          "name": "stderr"
        },
        {
          "output_type": "stream",
          "text": [
            "l = 5\n",
            "Max profit =  433.9570460337127  --- (l, h) =  4 20\n"
          ],
          "name": "stdout"
        },
        {
          "output_type": "stream",
          "text": [
            "/usr/local/lib/python3.7/dist-packages/ipykernel_launcher.py:129: RuntimeWarning: invalid value encountered in double_scalars\n",
            "/usr/local/lib/python3.7/dist-packages/ipykernel_launcher.py:129: RuntimeWarning: invalid value encountered in double_scalars\n",
            "/usr/local/lib/python3.7/dist-packages/ipykernel_launcher.py:129: RuntimeWarning: invalid value encountered in double_scalars\n",
            "/usr/local/lib/python3.7/dist-packages/ipykernel_launcher.py:129: RuntimeWarning: invalid value encountered in double_scalars\n",
            "/usr/local/lib/python3.7/dist-packages/ipykernel_launcher.py:129: RuntimeWarning: invalid value encountered in double_scalars\n",
            "/usr/local/lib/python3.7/dist-packages/ipykernel_launcher.py:129: RuntimeWarning: invalid value encountered in double_scalars\n",
            "/usr/local/lib/python3.7/dist-packages/ipykernel_launcher.py:129: RuntimeWarning: invalid value encountered in double_scalars\n",
            "/usr/local/lib/python3.7/dist-packages/ipykernel_launcher.py:129: RuntimeWarning: invalid value encountered in double_scalars\n",
            "/usr/local/lib/python3.7/dist-packages/ipykernel_launcher.py:129: RuntimeWarning: invalid value encountered in double_scalars\n",
            "/usr/local/lib/python3.7/dist-packages/ipykernel_launcher.py:129: RuntimeWarning: invalid value encountered in double_scalars\n",
            "/usr/local/lib/python3.7/dist-packages/ipykernel_launcher.py:129: RuntimeWarning: invalid value encountered in double_scalars\n",
            "/usr/local/lib/python3.7/dist-packages/ipykernel_launcher.py:129: RuntimeWarning: invalid value encountered in double_scalars\n",
            "/usr/local/lib/python3.7/dist-packages/ipykernel_launcher.py:129: RuntimeWarning: invalid value encountered in double_scalars\n",
            "/usr/local/lib/python3.7/dist-packages/ipykernel_launcher.py:129: RuntimeWarning: invalid value encountered in double_scalars\n",
            "/usr/local/lib/python3.7/dist-packages/ipykernel_launcher.py:129: RuntimeWarning: invalid value encountered in double_scalars\n",
            "/usr/local/lib/python3.7/dist-packages/ipykernel_launcher.py:129: RuntimeWarning: invalid value encountered in double_scalars\n"
          ],
          "name": "stderr"
        },
        {
          "output_type": "stream",
          "text": [
            "l = 6\n",
            "Max profit =  465.8636306051685  --- (l, h) =  5 19\n"
          ],
          "name": "stdout"
        },
        {
          "output_type": "stream",
          "text": [
            "/usr/local/lib/python3.7/dist-packages/ipykernel_launcher.py:129: RuntimeWarning: invalid value encountered in double_scalars\n",
            "/usr/local/lib/python3.7/dist-packages/ipykernel_launcher.py:129: RuntimeWarning: invalid value encountered in double_scalars\n",
            "/usr/local/lib/python3.7/dist-packages/ipykernel_launcher.py:129: RuntimeWarning: invalid value encountered in double_scalars\n",
            "/usr/local/lib/python3.7/dist-packages/ipykernel_launcher.py:129: RuntimeWarning: invalid value encountered in double_scalars\n",
            "/usr/local/lib/python3.7/dist-packages/ipykernel_launcher.py:129: RuntimeWarning: invalid value encountered in double_scalars\n",
            "/usr/local/lib/python3.7/dist-packages/ipykernel_launcher.py:129: RuntimeWarning: invalid value encountered in double_scalars\n",
            "/usr/local/lib/python3.7/dist-packages/ipykernel_launcher.py:129: RuntimeWarning: invalid value encountered in double_scalars\n",
            "/usr/local/lib/python3.7/dist-packages/ipykernel_launcher.py:129: RuntimeWarning: invalid value encountered in double_scalars\n",
            "/usr/local/lib/python3.7/dist-packages/ipykernel_launcher.py:129: RuntimeWarning: invalid value encountered in double_scalars\n",
            "/usr/local/lib/python3.7/dist-packages/ipykernel_launcher.py:129: RuntimeWarning: invalid value encountered in double_scalars\n",
            "/usr/local/lib/python3.7/dist-packages/ipykernel_launcher.py:129: RuntimeWarning: invalid value encountered in double_scalars\n",
            "/usr/local/lib/python3.7/dist-packages/ipykernel_launcher.py:129: RuntimeWarning: invalid value encountered in double_scalars\n",
            "/usr/local/lib/python3.7/dist-packages/ipykernel_launcher.py:129: RuntimeWarning: invalid value encountered in double_scalars\n"
          ],
          "name": "stderr"
        },
        {
          "output_type": "stream",
          "text": [
            "l = 7\n",
            "Max profit =  465.8636306051685  --- (l, h) =  5 19\n"
          ],
          "name": "stdout"
        },
        {
          "output_type": "stream",
          "text": [
            "/usr/local/lib/python3.7/dist-packages/ipykernel_launcher.py:129: RuntimeWarning: invalid value encountered in double_scalars\n",
            "/usr/local/lib/python3.7/dist-packages/ipykernel_launcher.py:129: RuntimeWarning: invalid value encountered in double_scalars\n",
            "/usr/local/lib/python3.7/dist-packages/ipykernel_launcher.py:129: RuntimeWarning: invalid value encountered in double_scalars\n",
            "/usr/local/lib/python3.7/dist-packages/ipykernel_launcher.py:129: RuntimeWarning: invalid value encountered in double_scalars\n",
            "/usr/local/lib/python3.7/dist-packages/ipykernel_launcher.py:129: RuntimeWarning: invalid value encountered in double_scalars\n",
            "/usr/local/lib/python3.7/dist-packages/ipykernel_launcher.py:129: RuntimeWarning: invalid value encountered in double_scalars\n",
            "/usr/local/lib/python3.7/dist-packages/ipykernel_launcher.py:129: RuntimeWarning: invalid value encountered in double_scalars\n",
            "/usr/local/lib/python3.7/dist-packages/ipykernel_launcher.py:129: RuntimeWarning: invalid value encountered in double_scalars\n",
            "/usr/local/lib/python3.7/dist-packages/ipykernel_launcher.py:129: RuntimeWarning: invalid value encountered in double_scalars\n",
            "/usr/local/lib/python3.7/dist-packages/ipykernel_launcher.py:129: RuntimeWarning: invalid value encountered in double_scalars\n",
            "/usr/local/lib/python3.7/dist-packages/ipykernel_launcher.py:129: RuntimeWarning: invalid value encountered in double_scalars\n",
            "/usr/local/lib/python3.7/dist-packages/ipykernel_launcher.py:129: RuntimeWarning: invalid value encountered in double_scalars\n",
            "/usr/local/lib/python3.7/dist-packages/ipykernel_launcher.py:129: RuntimeWarning: invalid value encountered in double_scalars\n",
            "/usr/local/lib/python3.7/dist-packages/ipykernel_launcher.py:129: RuntimeWarning: invalid value encountered in double_scalars\n",
            "/usr/local/lib/python3.7/dist-packages/ipykernel_launcher.py:129: RuntimeWarning: invalid value encountered in double_scalars\n",
            "/usr/local/lib/python3.7/dist-packages/ipykernel_launcher.py:129: RuntimeWarning: invalid value encountered in double_scalars\n"
          ],
          "name": "stderr"
        },
        {
          "output_type": "stream",
          "text": [
            "l = 8\n",
            "Max profit =  465.8636306051685  --- (l, h) =  5 19\n"
          ],
          "name": "stdout"
        },
        {
          "output_type": "stream",
          "text": [
            "/usr/local/lib/python3.7/dist-packages/ipykernel_launcher.py:129: RuntimeWarning: invalid value encountered in double_scalars\n",
            "/usr/local/lib/python3.7/dist-packages/ipykernel_launcher.py:129: RuntimeWarning: invalid value encountered in double_scalars\n",
            "/usr/local/lib/python3.7/dist-packages/ipykernel_launcher.py:129: RuntimeWarning: invalid value encountered in double_scalars\n",
            "/usr/local/lib/python3.7/dist-packages/ipykernel_launcher.py:129: RuntimeWarning: invalid value encountered in double_scalars\n",
            "/usr/local/lib/python3.7/dist-packages/ipykernel_launcher.py:129: RuntimeWarning: invalid value encountered in double_scalars\n",
            "/usr/local/lib/python3.7/dist-packages/ipykernel_launcher.py:129: RuntimeWarning: invalid value encountered in double_scalars\n",
            "/usr/local/lib/python3.7/dist-packages/ipykernel_launcher.py:129: RuntimeWarning: invalid value encountered in double_scalars\n",
            "/usr/local/lib/python3.7/dist-packages/ipykernel_launcher.py:129: RuntimeWarning: invalid value encountered in double_scalars\n",
            "/usr/local/lib/python3.7/dist-packages/ipykernel_launcher.py:129: RuntimeWarning: invalid value encountered in double_scalars\n",
            "/usr/local/lib/python3.7/dist-packages/ipykernel_launcher.py:129: RuntimeWarning: invalid value encountered in double_scalars\n",
            "/usr/local/lib/python3.7/dist-packages/ipykernel_launcher.py:129: RuntimeWarning: invalid value encountered in double_scalars\n",
            "/usr/local/lib/python3.7/dist-packages/ipykernel_launcher.py:129: RuntimeWarning: invalid value encountered in double_scalars\n",
            "/usr/local/lib/python3.7/dist-packages/ipykernel_launcher.py:129: RuntimeWarning: invalid value encountered in double_scalars\n",
            "/usr/local/lib/python3.7/dist-packages/ipykernel_launcher.py:129: RuntimeWarning: invalid value encountered in double_scalars\n",
            "/usr/local/lib/python3.7/dist-packages/ipykernel_launcher.py:129: RuntimeWarning: invalid value encountered in double_scalars\n"
          ],
          "name": "stderr"
        },
        {
          "output_type": "stream",
          "text": [
            "l = 9\n",
            "Max profit =  474.5403379404888  --- (l, h) =  8 28\n"
          ],
          "name": "stdout"
        },
        {
          "output_type": "stream",
          "text": [
            "/usr/local/lib/python3.7/dist-packages/ipykernel_launcher.py:129: RuntimeWarning: invalid value encountered in double_scalars\n",
            "/usr/local/lib/python3.7/dist-packages/ipykernel_launcher.py:129: RuntimeWarning: invalid value encountered in double_scalars\n",
            "/usr/local/lib/python3.7/dist-packages/ipykernel_launcher.py:129: RuntimeWarning: invalid value encountered in double_scalars\n",
            "/usr/local/lib/python3.7/dist-packages/ipykernel_launcher.py:129: RuntimeWarning: invalid value encountered in double_scalars\n",
            "/usr/local/lib/python3.7/dist-packages/ipykernel_launcher.py:129: RuntimeWarning: invalid value encountered in double_scalars\n",
            "/usr/local/lib/python3.7/dist-packages/ipykernel_launcher.py:129: RuntimeWarning: invalid value encountered in double_scalars\n",
            "/usr/local/lib/python3.7/dist-packages/ipykernel_launcher.py:129: RuntimeWarning: invalid value encountered in double_scalars\n",
            "/usr/local/lib/python3.7/dist-packages/ipykernel_launcher.py:129: RuntimeWarning: invalid value encountered in double_scalars\n",
            "/usr/local/lib/python3.7/dist-packages/ipykernel_launcher.py:129: RuntimeWarning: invalid value encountered in double_scalars\n",
            "/usr/local/lib/python3.7/dist-packages/ipykernel_launcher.py:129: RuntimeWarning: invalid value encountered in double_scalars\n",
            "/usr/local/lib/python3.7/dist-packages/ipykernel_launcher.py:129: RuntimeWarning: invalid value encountered in double_scalars\n",
            "/usr/local/lib/python3.7/dist-packages/ipykernel_launcher.py:129: RuntimeWarning: invalid value encountered in double_scalars\n",
            "/usr/local/lib/python3.7/dist-packages/ipykernel_launcher.py:129: RuntimeWarning: invalid value encountered in double_scalars\n",
            "/usr/local/lib/python3.7/dist-packages/ipykernel_launcher.py:129: RuntimeWarning: invalid value encountered in double_scalars\n"
          ],
          "name": "stderr"
        },
        {
          "output_type": "stream",
          "text": [
            "l = 10\n",
            "Max profit =  474.5403379404888  --- (l, h) =  8 28\n"
          ],
          "name": "stdout"
        },
        {
          "output_type": "stream",
          "text": [
            "/usr/local/lib/python3.7/dist-packages/ipykernel_launcher.py:129: RuntimeWarning: invalid value encountered in double_scalars\n",
            "/usr/local/lib/python3.7/dist-packages/ipykernel_launcher.py:129: RuntimeWarning: invalid value encountered in double_scalars\n",
            "/usr/local/lib/python3.7/dist-packages/ipykernel_launcher.py:129: RuntimeWarning: invalid value encountered in double_scalars\n",
            "/usr/local/lib/python3.7/dist-packages/ipykernel_launcher.py:129: RuntimeWarning: invalid value encountered in double_scalars\n",
            "/usr/local/lib/python3.7/dist-packages/ipykernel_launcher.py:129: RuntimeWarning: invalid value encountered in double_scalars\n",
            "/usr/local/lib/python3.7/dist-packages/ipykernel_launcher.py:129: RuntimeWarning: invalid value encountered in double_scalars\n",
            "/usr/local/lib/python3.7/dist-packages/ipykernel_launcher.py:129: RuntimeWarning: invalid value encountered in double_scalars\n",
            "/usr/local/lib/python3.7/dist-packages/ipykernel_launcher.py:129: RuntimeWarning: invalid value encountered in double_scalars\n",
            "/usr/local/lib/python3.7/dist-packages/ipykernel_launcher.py:129: RuntimeWarning: invalid value encountered in double_scalars\n",
            "/usr/local/lib/python3.7/dist-packages/ipykernel_launcher.py:129: RuntimeWarning: invalid value encountered in double_scalars\n",
            "/usr/local/lib/python3.7/dist-packages/ipykernel_launcher.py:129: RuntimeWarning: invalid value encountered in double_scalars\n",
            "/usr/local/lib/python3.7/dist-packages/ipykernel_launcher.py:129: RuntimeWarning: invalid value encountered in double_scalars\n",
            "/usr/local/lib/python3.7/dist-packages/ipykernel_launcher.py:129: RuntimeWarning: invalid value encountered in double_scalars\n",
            "/usr/local/lib/python3.7/dist-packages/ipykernel_launcher.py:129: RuntimeWarning: invalid value encountered in double_scalars\n",
            "/usr/local/lib/python3.7/dist-packages/ipykernel_launcher.py:129: RuntimeWarning: invalid value encountered in double_scalars\n"
          ],
          "name": "stderr"
        },
        {
          "output_type": "stream",
          "text": [
            "l = 11\n",
            "Max profit =  474.5403379404888  --- (l, h) =  8 28\n"
          ],
          "name": "stdout"
        },
        {
          "output_type": "stream",
          "text": [
            "/usr/local/lib/python3.7/dist-packages/ipykernel_launcher.py:129: RuntimeWarning: invalid value encountered in double_scalars\n",
            "/usr/local/lib/python3.7/dist-packages/ipykernel_launcher.py:129: RuntimeWarning: invalid value encountered in double_scalars\n",
            "/usr/local/lib/python3.7/dist-packages/ipykernel_launcher.py:129: RuntimeWarning: invalid value encountered in double_scalars\n",
            "/usr/local/lib/python3.7/dist-packages/ipykernel_launcher.py:129: RuntimeWarning: invalid value encountered in double_scalars\n",
            "/usr/local/lib/python3.7/dist-packages/ipykernel_launcher.py:129: RuntimeWarning: invalid value encountered in double_scalars\n",
            "/usr/local/lib/python3.7/dist-packages/ipykernel_launcher.py:129: RuntimeWarning: invalid value encountered in double_scalars\n",
            "/usr/local/lib/python3.7/dist-packages/ipykernel_launcher.py:129: RuntimeWarning: invalid value encountered in double_scalars\n",
            "/usr/local/lib/python3.7/dist-packages/ipykernel_launcher.py:129: RuntimeWarning: invalid value encountered in double_scalars\n",
            "/usr/local/lib/python3.7/dist-packages/ipykernel_launcher.py:129: RuntimeWarning: invalid value encountered in double_scalars\n",
            "/usr/local/lib/python3.7/dist-packages/ipykernel_launcher.py:129: RuntimeWarning: invalid value encountered in double_scalars\n",
            "/usr/local/lib/python3.7/dist-packages/ipykernel_launcher.py:129: RuntimeWarning: invalid value encountered in double_scalars\n",
            "/usr/local/lib/python3.7/dist-packages/ipykernel_launcher.py:129: RuntimeWarning: invalid value encountered in double_scalars\n",
            "/usr/local/lib/python3.7/dist-packages/ipykernel_launcher.py:129: RuntimeWarning: invalid value encountered in double_scalars\n",
            "/usr/local/lib/python3.7/dist-packages/ipykernel_launcher.py:129: RuntimeWarning: invalid value encountered in double_scalars\n",
            "/usr/local/lib/python3.7/dist-packages/ipykernel_launcher.py:129: RuntimeWarning: invalid value encountered in double_scalars\n",
            "/usr/local/lib/python3.7/dist-packages/ipykernel_launcher.py:129: RuntimeWarning: invalid value encountered in double_scalars\n"
          ],
          "name": "stderr"
        },
        {
          "output_type": "stream",
          "text": [
            "l = 12\n",
            "Max profit =  474.5403379404888  --- (l, h) =  8 28\n"
          ],
          "name": "stdout"
        },
        {
          "output_type": "stream",
          "text": [
            "/usr/local/lib/python3.7/dist-packages/ipykernel_launcher.py:129: RuntimeWarning: invalid value encountered in double_scalars\n",
            "/usr/local/lib/python3.7/dist-packages/ipykernel_launcher.py:129: RuntimeWarning: invalid value encountered in double_scalars\n",
            "/usr/local/lib/python3.7/dist-packages/ipykernel_launcher.py:129: RuntimeWarning: invalid value encountered in double_scalars\n",
            "/usr/local/lib/python3.7/dist-packages/ipykernel_launcher.py:129: RuntimeWarning: invalid value encountered in double_scalars\n",
            "/usr/local/lib/python3.7/dist-packages/ipykernel_launcher.py:129: RuntimeWarning: invalid value encountered in double_scalars\n",
            "/usr/local/lib/python3.7/dist-packages/ipykernel_launcher.py:129: RuntimeWarning: invalid value encountered in double_scalars\n",
            "/usr/local/lib/python3.7/dist-packages/ipykernel_launcher.py:129: RuntimeWarning: invalid value encountered in double_scalars\n",
            "/usr/local/lib/python3.7/dist-packages/ipykernel_launcher.py:129: RuntimeWarning: invalid value encountered in double_scalars\n",
            "/usr/local/lib/python3.7/dist-packages/ipykernel_launcher.py:129: RuntimeWarning: invalid value encountered in double_scalars\n",
            "/usr/local/lib/python3.7/dist-packages/ipykernel_launcher.py:129: RuntimeWarning: invalid value encountered in double_scalars\n",
            "/usr/local/lib/python3.7/dist-packages/ipykernel_launcher.py:129: RuntimeWarning: invalid value encountered in double_scalars\n",
            "/usr/local/lib/python3.7/dist-packages/ipykernel_launcher.py:129: RuntimeWarning: invalid value encountered in double_scalars\n",
            "/usr/local/lib/python3.7/dist-packages/ipykernel_launcher.py:129: RuntimeWarning: invalid value encountered in double_scalars\n",
            "/usr/local/lib/python3.7/dist-packages/ipykernel_launcher.py:129: RuntimeWarning: invalid value encountered in double_scalars\n",
            "/usr/local/lib/python3.7/dist-packages/ipykernel_launcher.py:129: RuntimeWarning: invalid value encountered in double_scalars\n"
          ],
          "name": "stderr"
        },
        {
          "output_type": "stream",
          "text": [
            "l = 13\n",
            "Max profit =  500.71156964614784  --- (l, h) =  12 24\n"
          ],
          "name": "stdout"
        },
        {
          "output_type": "stream",
          "text": [
            "/usr/local/lib/python3.7/dist-packages/ipykernel_launcher.py:129: RuntimeWarning: invalid value encountered in double_scalars\n",
            "/usr/local/lib/python3.7/dist-packages/ipykernel_launcher.py:129: RuntimeWarning: invalid value encountered in double_scalars\n",
            "/usr/local/lib/python3.7/dist-packages/ipykernel_launcher.py:129: RuntimeWarning: invalid value encountered in double_scalars\n",
            "/usr/local/lib/python3.7/dist-packages/ipykernel_launcher.py:129: RuntimeWarning: invalid value encountered in double_scalars\n",
            "/usr/local/lib/python3.7/dist-packages/ipykernel_launcher.py:129: RuntimeWarning: invalid value encountered in double_scalars\n",
            "/usr/local/lib/python3.7/dist-packages/ipykernel_launcher.py:129: RuntimeWarning: invalid value encountered in double_scalars\n",
            "/usr/local/lib/python3.7/dist-packages/ipykernel_launcher.py:129: RuntimeWarning: invalid value encountered in double_scalars\n",
            "/usr/local/lib/python3.7/dist-packages/ipykernel_launcher.py:129: RuntimeWarning: invalid value encountered in double_scalars\n",
            "/usr/local/lib/python3.7/dist-packages/ipykernel_launcher.py:129: RuntimeWarning: invalid value encountered in double_scalars\n",
            "/usr/local/lib/python3.7/dist-packages/ipykernel_launcher.py:129: RuntimeWarning: invalid value encountered in double_scalars\n",
            "/usr/local/lib/python3.7/dist-packages/ipykernel_launcher.py:129: RuntimeWarning: invalid value encountered in double_scalars\n",
            "/usr/local/lib/python3.7/dist-packages/ipykernel_launcher.py:129: RuntimeWarning: invalid value encountered in double_scalars\n",
            "/usr/local/lib/python3.7/dist-packages/ipykernel_launcher.py:129: RuntimeWarning: invalid value encountered in double_scalars\n",
            "/usr/local/lib/python3.7/dist-packages/ipykernel_launcher.py:129: RuntimeWarning: invalid value encountered in double_scalars\n"
          ],
          "name": "stderr"
        },
        {
          "output_type": "stream",
          "text": [
            "l = 14\n",
            "Max profit =  500.71156964614784  --- (l, h) =  12 24\n"
          ],
          "name": "stdout"
        },
        {
          "output_type": "stream",
          "text": [
            "/usr/local/lib/python3.7/dist-packages/ipykernel_launcher.py:129: RuntimeWarning: invalid value encountered in double_scalars\n",
            "/usr/local/lib/python3.7/dist-packages/ipykernel_launcher.py:129: RuntimeWarning: invalid value encountered in double_scalars\n",
            "/usr/local/lib/python3.7/dist-packages/ipykernel_launcher.py:129: RuntimeWarning: invalid value encountered in double_scalars\n",
            "/usr/local/lib/python3.7/dist-packages/ipykernel_launcher.py:129: RuntimeWarning: invalid value encountered in double_scalars\n",
            "/usr/local/lib/python3.7/dist-packages/ipykernel_launcher.py:129: RuntimeWarning: invalid value encountered in double_scalars\n",
            "/usr/local/lib/python3.7/dist-packages/ipykernel_launcher.py:129: RuntimeWarning: invalid value encountered in double_scalars\n",
            "/usr/local/lib/python3.7/dist-packages/ipykernel_launcher.py:129: RuntimeWarning: invalid value encountered in double_scalars\n",
            "/usr/local/lib/python3.7/dist-packages/ipykernel_launcher.py:129: RuntimeWarning: invalid value encountered in double_scalars\n",
            "/usr/local/lib/python3.7/dist-packages/ipykernel_launcher.py:129: RuntimeWarning: invalid value encountered in double_scalars\n",
            "/usr/local/lib/python3.7/dist-packages/ipykernel_launcher.py:129: RuntimeWarning: invalid value encountered in double_scalars\n",
            "/usr/local/lib/python3.7/dist-packages/ipykernel_launcher.py:129: RuntimeWarning: invalid value encountered in double_scalars\n",
            "/usr/local/lib/python3.7/dist-packages/ipykernel_launcher.py:129: RuntimeWarning: invalid value encountered in double_scalars\n",
            "/usr/local/lib/python3.7/dist-packages/ipykernel_launcher.py:129: RuntimeWarning: invalid value encountered in double_scalars\n"
          ],
          "name": "stderr"
        },
        {
          "output_type": "stream",
          "text": [
            "l = 15\n",
            "Max profit =  500.71156964614784  --- (l, h) =  12 24\n"
          ],
          "name": "stdout"
        },
        {
          "output_type": "stream",
          "text": [
            "/usr/local/lib/python3.7/dist-packages/ipykernel_launcher.py:129: RuntimeWarning: invalid value encountered in double_scalars\n",
            "/usr/local/lib/python3.7/dist-packages/ipykernel_launcher.py:129: RuntimeWarning: invalid value encountered in double_scalars\n",
            "/usr/local/lib/python3.7/dist-packages/ipykernel_launcher.py:129: RuntimeWarning: invalid value encountered in double_scalars\n",
            "/usr/local/lib/python3.7/dist-packages/ipykernel_launcher.py:129: RuntimeWarning: invalid value encountered in double_scalars\n",
            "/usr/local/lib/python3.7/dist-packages/ipykernel_launcher.py:129: RuntimeWarning: invalid value encountered in double_scalars\n",
            "/usr/local/lib/python3.7/dist-packages/ipykernel_launcher.py:129: RuntimeWarning: invalid value encountered in double_scalars\n",
            "/usr/local/lib/python3.7/dist-packages/ipykernel_launcher.py:129: RuntimeWarning: invalid value encountered in double_scalars\n",
            "/usr/local/lib/python3.7/dist-packages/ipykernel_launcher.py:129: RuntimeWarning: invalid value encountered in double_scalars\n",
            "/usr/local/lib/python3.7/dist-packages/ipykernel_launcher.py:129: RuntimeWarning: invalid value encountered in double_scalars\n",
            "/usr/local/lib/python3.7/dist-packages/ipykernel_launcher.py:129: RuntimeWarning: invalid value encountered in double_scalars\n",
            "/usr/local/lib/python3.7/dist-packages/ipykernel_launcher.py:129: RuntimeWarning: invalid value encountered in double_scalars\n"
          ],
          "name": "stderr"
        },
        {
          "output_type": "stream",
          "text": [
            "l = 16\n",
            "Max profit =  602.9179444731708  --- (l, h) =  15 23\n"
          ],
          "name": "stdout"
        },
        {
          "output_type": "stream",
          "text": [
            "/usr/local/lib/python3.7/dist-packages/ipykernel_launcher.py:129: RuntimeWarning: invalid value encountered in double_scalars\n",
            "/usr/local/lib/python3.7/dist-packages/ipykernel_launcher.py:129: RuntimeWarning: invalid value encountered in double_scalars\n",
            "/usr/local/lib/python3.7/dist-packages/ipykernel_launcher.py:129: RuntimeWarning: invalid value encountered in double_scalars\n",
            "/usr/local/lib/python3.7/dist-packages/ipykernel_launcher.py:129: RuntimeWarning: invalid value encountered in double_scalars\n",
            "/usr/local/lib/python3.7/dist-packages/ipykernel_launcher.py:129: RuntimeWarning: invalid value encountered in double_scalars\n"
          ],
          "name": "stderr"
        },
        {
          "output_type": "stream",
          "text": [
            "l = 17\n",
            "Max profit =  661.2644481778498  --- (l, h) =  16 23\n"
          ],
          "name": "stdout"
        },
        {
          "output_type": "stream",
          "text": [
            "/usr/local/lib/python3.7/dist-packages/ipykernel_launcher.py:129: RuntimeWarning: invalid value encountered in double_scalars\n",
            "/usr/local/lib/python3.7/dist-packages/ipykernel_launcher.py:129: RuntimeWarning: invalid value encountered in double_scalars\n",
            "/usr/local/lib/python3.7/dist-packages/ipykernel_launcher.py:129: RuntimeWarning: invalid value encountered in double_scalars\n",
            "/usr/local/lib/python3.7/dist-packages/ipykernel_launcher.py:129: RuntimeWarning: invalid value encountered in double_scalars\n",
            "/usr/local/lib/python3.7/dist-packages/ipykernel_launcher.py:129: RuntimeWarning: invalid value encountered in double_scalars\n"
          ],
          "name": "stderr"
        },
        {
          "output_type": "stream",
          "text": [
            "l = 18\n",
            "Max profit =  661.2644481778498  --- (l, h) =  16 23\n"
          ],
          "name": "stdout"
        },
        {
          "output_type": "stream",
          "text": [
            "/usr/local/lib/python3.7/dist-packages/ipykernel_launcher.py:129: RuntimeWarning: invalid value encountered in double_scalars\n",
            "/usr/local/lib/python3.7/dist-packages/ipykernel_launcher.py:129: RuntimeWarning: invalid value encountered in double_scalars\n",
            "/usr/local/lib/python3.7/dist-packages/ipykernel_launcher.py:129: RuntimeWarning: invalid value encountered in double_scalars\n",
            "/usr/local/lib/python3.7/dist-packages/ipykernel_launcher.py:129: RuntimeWarning: invalid value encountered in double_scalars\n"
          ],
          "name": "stderr"
        },
        {
          "output_type": "stream",
          "text": [
            "l = 19\n",
            "Max profit =  661.2644481778498  --- (l, h) =  16 23\n"
          ],
          "name": "stdout"
        },
        {
          "output_type": "stream",
          "text": [
            "/usr/local/lib/python3.7/dist-packages/ipykernel_launcher.py:129: RuntimeWarning: invalid value encountered in double_scalars\n",
            "/usr/local/lib/python3.7/dist-packages/ipykernel_launcher.py:129: RuntimeWarning: invalid value encountered in double_scalars\n",
            "/usr/local/lib/python3.7/dist-packages/ipykernel_launcher.py:129: RuntimeWarning: invalid value encountered in double_scalars\n",
            "/usr/local/lib/python3.7/dist-packages/ipykernel_launcher.py:129: RuntimeWarning: invalid value encountered in double_scalars\n",
            "/usr/local/lib/python3.7/dist-packages/ipykernel_launcher.py:129: RuntimeWarning: invalid value encountered in double_scalars\n"
          ],
          "name": "stderr"
        },
        {
          "output_type": "stream",
          "text": [
            "l = 20\n",
            "Max profit =  661.2644481778498  --- (l, h) =  16 23\n"
          ],
          "name": "stdout"
        },
        {
          "output_type": "stream",
          "text": [
            "/usr/local/lib/python3.7/dist-packages/ipykernel_launcher.py:129: RuntimeWarning: invalid value encountered in double_scalars\n",
            "/usr/local/lib/python3.7/dist-packages/ipykernel_launcher.py:129: RuntimeWarning: invalid value encountered in double_scalars\n",
            "/usr/local/lib/python3.7/dist-packages/ipykernel_launcher.py:129: RuntimeWarning: invalid value encountered in double_scalars\n",
            "/usr/local/lib/python3.7/dist-packages/ipykernel_launcher.py:129: RuntimeWarning: invalid value encountered in double_scalars\n",
            "/usr/local/lib/python3.7/dist-packages/ipykernel_launcher.py:129: RuntimeWarning: invalid value encountered in double_scalars\n",
            "/usr/local/lib/python3.7/dist-packages/ipykernel_launcher.py:129: RuntimeWarning: invalid value encountered in double_scalars\n",
            "/usr/local/lib/python3.7/dist-packages/ipykernel_launcher.py:129: RuntimeWarning: invalid value encountered in double_scalars\n",
            "/usr/local/lib/python3.7/dist-packages/ipykernel_launcher.py:129: RuntimeWarning: invalid value encountered in double_scalars\n",
            "/usr/local/lib/python3.7/dist-packages/ipykernel_launcher.py:129: RuntimeWarning: invalid value encountered in double_scalars\n"
          ],
          "name": "stderr"
        },
        {
          "output_type": "stream",
          "text": [
            "l = 21\n",
            "Max profit =  661.2644481778498  --- (l, h) =  16 23\n"
          ],
          "name": "stdout"
        },
        {
          "output_type": "stream",
          "text": [
            "/usr/local/lib/python3.7/dist-packages/ipykernel_launcher.py:129: RuntimeWarning: invalid value encountered in double_scalars\n",
            "/usr/local/lib/python3.7/dist-packages/ipykernel_launcher.py:129: RuntimeWarning: invalid value encountered in double_scalars\n",
            "/usr/local/lib/python3.7/dist-packages/ipykernel_launcher.py:129: RuntimeWarning: invalid value encountered in double_scalars\n",
            "/usr/local/lib/python3.7/dist-packages/ipykernel_launcher.py:129: RuntimeWarning: invalid value encountered in double_scalars\n",
            "/usr/local/lib/python3.7/dist-packages/ipykernel_launcher.py:129: RuntimeWarning: invalid value encountered in double_scalars\n",
            "/usr/local/lib/python3.7/dist-packages/ipykernel_launcher.py:129: RuntimeWarning: invalid value encountered in double_scalars\n",
            "/usr/local/lib/python3.7/dist-packages/ipykernel_launcher.py:129: RuntimeWarning: invalid value encountered in double_scalars\n",
            "/usr/local/lib/python3.7/dist-packages/ipykernel_launcher.py:129: RuntimeWarning: invalid value encountered in double_scalars\n"
          ],
          "name": "stderr"
        },
        {
          "output_type": "stream",
          "text": [
            "l = 22\n",
            "Max profit =  661.2644481778498  --- (l, h) =  16 23\n"
          ],
          "name": "stdout"
        },
        {
          "output_type": "stream",
          "text": [
            "/usr/local/lib/python3.7/dist-packages/ipykernel_launcher.py:129: RuntimeWarning: invalid value encountered in double_scalars\n",
            "/usr/local/lib/python3.7/dist-packages/ipykernel_launcher.py:129: RuntimeWarning: invalid value encountered in double_scalars\n",
            "/usr/local/lib/python3.7/dist-packages/ipykernel_launcher.py:129: RuntimeWarning: invalid value encountered in double_scalars\n",
            "/usr/local/lib/python3.7/dist-packages/ipykernel_launcher.py:129: RuntimeWarning: invalid value encountered in double_scalars\n",
            "/usr/local/lib/python3.7/dist-packages/ipykernel_launcher.py:129: RuntimeWarning: invalid value encountered in double_scalars\n",
            "/usr/local/lib/python3.7/dist-packages/ipykernel_launcher.py:129: RuntimeWarning: invalid value encountered in double_scalars\n",
            "/usr/local/lib/python3.7/dist-packages/ipykernel_launcher.py:129: RuntimeWarning: invalid value encountered in double_scalars\n"
          ],
          "name": "stderr"
        },
        {
          "output_type": "stream",
          "text": [
            "l = 23\n",
            "Max profit =  661.2644481778498  --- (l, h) =  16 23\n"
          ],
          "name": "stdout"
        },
        {
          "output_type": "stream",
          "text": [
            "/usr/local/lib/python3.7/dist-packages/ipykernel_launcher.py:129: RuntimeWarning: invalid value encountered in double_scalars\n",
            "/usr/local/lib/python3.7/dist-packages/ipykernel_launcher.py:129: RuntimeWarning: invalid value encountered in double_scalars\n",
            "/usr/local/lib/python3.7/dist-packages/ipykernel_launcher.py:129: RuntimeWarning: invalid value encountered in double_scalars\n",
            "/usr/local/lib/python3.7/dist-packages/ipykernel_launcher.py:129: RuntimeWarning: invalid value encountered in double_scalars\n",
            "/usr/local/lib/python3.7/dist-packages/ipykernel_launcher.py:129: RuntimeWarning: invalid value encountered in double_scalars\n",
            "/usr/local/lib/python3.7/dist-packages/ipykernel_launcher.py:129: RuntimeWarning: invalid value encountered in double_scalars\n",
            "/usr/local/lib/python3.7/dist-packages/ipykernel_launcher.py:129: RuntimeWarning: invalid value encountered in double_scalars\n"
          ],
          "name": "stderr"
        },
        {
          "output_type": "stream",
          "text": [
            "l = 24\n",
            "Max profit =  661.2644481778498  --- (l, h) =  16 23\n"
          ],
          "name": "stdout"
        },
        {
          "output_type": "stream",
          "text": [
            "/usr/local/lib/python3.7/dist-packages/ipykernel_launcher.py:129: RuntimeWarning: invalid value encountered in double_scalars\n",
            "/usr/local/lib/python3.7/dist-packages/ipykernel_launcher.py:129: RuntimeWarning: invalid value encountered in double_scalars\n",
            "/usr/local/lib/python3.7/dist-packages/ipykernel_launcher.py:129: RuntimeWarning: invalid value encountered in double_scalars\n",
            "/usr/local/lib/python3.7/dist-packages/ipykernel_launcher.py:129: RuntimeWarning: invalid value encountered in double_scalars\n",
            "/usr/local/lib/python3.7/dist-packages/ipykernel_launcher.py:129: RuntimeWarning: invalid value encountered in double_scalars\n"
          ],
          "name": "stderr"
        },
        {
          "output_type": "stream",
          "text": [
            "l = 25\n",
            "Max profit =  661.2644481778498  --- (l, h) =  16 23\n"
          ],
          "name": "stdout"
        },
        {
          "output_type": "stream",
          "text": [
            "/usr/local/lib/python3.7/dist-packages/ipykernel_launcher.py:129: RuntimeWarning: invalid value encountered in double_scalars\n",
            "/usr/local/lib/python3.7/dist-packages/ipykernel_launcher.py:129: RuntimeWarning: invalid value encountered in double_scalars\n",
            "/usr/local/lib/python3.7/dist-packages/ipykernel_launcher.py:129: RuntimeWarning: invalid value encountered in double_scalars\n",
            "/usr/local/lib/python3.7/dist-packages/ipykernel_launcher.py:129: RuntimeWarning: invalid value encountered in double_scalars\n",
            "/usr/local/lib/python3.7/dist-packages/ipykernel_launcher.py:129: RuntimeWarning: invalid value encountered in double_scalars\n",
            "/usr/local/lib/python3.7/dist-packages/ipykernel_launcher.py:129: RuntimeWarning: invalid value encountered in double_scalars\n",
            "/usr/local/lib/python3.7/dist-packages/ipykernel_launcher.py:129: RuntimeWarning: invalid value encountered in double_scalars\n"
          ],
          "name": "stderr"
        },
        {
          "output_type": "stream",
          "text": [
            "l = 26\n",
            "Max profit =  661.2644481778498  --- (l, h) =  16 23\n"
          ],
          "name": "stdout"
        },
        {
          "output_type": "stream",
          "text": [
            "/usr/local/lib/python3.7/dist-packages/ipykernel_launcher.py:129: RuntimeWarning: invalid value encountered in double_scalars\n",
            "/usr/local/lib/python3.7/dist-packages/ipykernel_launcher.py:129: RuntimeWarning: invalid value encountered in double_scalars\n",
            "/usr/local/lib/python3.7/dist-packages/ipykernel_launcher.py:129: RuntimeWarning: invalid value encountered in double_scalars\n",
            "/usr/local/lib/python3.7/dist-packages/ipykernel_launcher.py:129: RuntimeWarning: invalid value encountered in double_scalars\n",
            "/usr/local/lib/python3.7/dist-packages/ipykernel_launcher.py:129: RuntimeWarning: invalid value encountered in double_scalars\n",
            "/usr/local/lib/python3.7/dist-packages/ipykernel_launcher.py:129: RuntimeWarning: invalid value encountered in double_scalars\n",
            "/usr/local/lib/python3.7/dist-packages/ipykernel_launcher.py:129: RuntimeWarning: invalid value encountered in double_scalars\n"
          ],
          "name": "stderr"
        },
        {
          "output_type": "stream",
          "text": [
            "l = 27\n",
            "Max profit =  661.2644481778498  --- (l, h) =  16 23\n"
          ],
          "name": "stdout"
        },
        {
          "output_type": "stream",
          "text": [
            "/usr/local/lib/python3.7/dist-packages/ipykernel_launcher.py:129: RuntimeWarning: invalid value encountered in double_scalars\n",
            "/usr/local/lib/python3.7/dist-packages/ipykernel_launcher.py:129: RuntimeWarning: invalid value encountered in double_scalars\n",
            "/usr/local/lib/python3.7/dist-packages/ipykernel_launcher.py:129: RuntimeWarning: invalid value encountered in double_scalars\n",
            "/usr/local/lib/python3.7/dist-packages/ipykernel_launcher.py:129: RuntimeWarning: invalid value encountered in double_scalars\n",
            "/usr/local/lib/python3.7/dist-packages/ipykernel_launcher.py:129: RuntimeWarning: invalid value encountered in double_scalars\n",
            "/usr/local/lib/python3.7/dist-packages/ipykernel_launcher.py:129: RuntimeWarning: invalid value encountered in double_scalars\n",
            "/usr/local/lib/python3.7/dist-packages/ipykernel_launcher.py:129: RuntimeWarning: invalid value encountered in double_scalars\n",
            "/usr/local/lib/python3.7/dist-packages/ipykernel_launcher.py:129: RuntimeWarning: invalid value encountered in double_scalars\n",
            "/usr/local/lib/python3.7/dist-packages/ipykernel_launcher.py:129: RuntimeWarning: invalid value encountered in double_scalars\n",
            "/usr/local/lib/python3.7/dist-packages/ipykernel_launcher.py:129: RuntimeWarning: invalid value encountered in double_scalars\n",
            "/usr/local/lib/python3.7/dist-packages/ipykernel_launcher.py:129: RuntimeWarning: invalid value encountered in double_scalars\n"
          ],
          "name": "stderr"
        },
        {
          "output_type": "stream",
          "text": [
            "l = 28\n",
            "Max profit =  661.2644481778498  --- (l, h) =  16 23\n"
          ],
          "name": "stdout"
        },
        {
          "output_type": "stream",
          "text": [
            "/usr/local/lib/python3.7/dist-packages/ipykernel_launcher.py:129: RuntimeWarning: invalid value encountered in double_scalars\n",
            "/usr/local/lib/python3.7/dist-packages/ipykernel_launcher.py:129: RuntimeWarning: invalid value encountered in double_scalars\n",
            "/usr/local/lib/python3.7/dist-packages/ipykernel_launcher.py:129: RuntimeWarning: invalid value encountered in double_scalars\n",
            "/usr/local/lib/python3.7/dist-packages/ipykernel_launcher.py:129: RuntimeWarning: invalid value encountered in double_scalars\n",
            "/usr/local/lib/python3.7/dist-packages/ipykernel_launcher.py:129: RuntimeWarning: invalid value encountered in double_scalars\n",
            "/usr/local/lib/python3.7/dist-packages/ipykernel_launcher.py:129: RuntimeWarning: invalid value encountered in double_scalars\n",
            "/usr/local/lib/python3.7/dist-packages/ipykernel_launcher.py:129: RuntimeWarning: invalid value encountered in double_scalars\n",
            "/usr/local/lib/python3.7/dist-packages/ipykernel_launcher.py:129: RuntimeWarning: invalid value encountered in double_scalars\n",
            "/usr/local/lib/python3.7/dist-packages/ipykernel_launcher.py:129: RuntimeWarning: invalid value encountered in double_scalars\n"
          ],
          "name": "stderr"
        },
        {
          "output_type": "stream",
          "text": [
            "l = 29\n",
            "Max profit =  661.2644481778498  --- (l, h) =  16 23\n"
          ],
          "name": "stdout"
        },
        {
          "output_type": "stream",
          "text": [
            "/usr/local/lib/python3.7/dist-packages/ipykernel_launcher.py:129: RuntimeWarning: invalid value encountered in double_scalars\n",
            "/usr/local/lib/python3.7/dist-packages/ipykernel_launcher.py:129: RuntimeWarning: invalid value encountered in double_scalars\n",
            "/usr/local/lib/python3.7/dist-packages/ipykernel_launcher.py:129: RuntimeWarning: invalid value encountered in double_scalars\n",
            "/usr/local/lib/python3.7/dist-packages/ipykernel_launcher.py:129: RuntimeWarning: invalid value encountered in double_scalars\n",
            "/usr/local/lib/python3.7/dist-packages/ipykernel_launcher.py:129: RuntimeWarning: invalid value encountered in double_scalars\n",
            "/usr/local/lib/python3.7/dist-packages/ipykernel_launcher.py:129: RuntimeWarning: invalid value encountered in double_scalars\n",
            "/usr/local/lib/python3.7/dist-packages/ipykernel_launcher.py:129: RuntimeWarning: invalid value encountered in double_scalars\n",
            "/usr/local/lib/python3.7/dist-packages/ipykernel_launcher.py:129: RuntimeWarning: invalid value encountered in double_scalars\n",
            "/usr/local/lib/python3.7/dist-packages/ipykernel_launcher.py:129: RuntimeWarning: invalid value encountered in double_scalars\n"
          ],
          "name": "stderr"
        },
        {
          "output_type": "stream",
          "text": [
            "l = 30\n",
            "Max profit =  661.2644481778498  --- (l, h) =  16 23\n"
          ],
          "name": "stdout"
        },
        {
          "output_type": "stream",
          "text": [
            "/usr/local/lib/python3.7/dist-packages/ipykernel_launcher.py:129: RuntimeWarning: invalid value encountered in double_scalars\n",
            "/usr/local/lib/python3.7/dist-packages/ipykernel_launcher.py:129: RuntimeWarning: invalid value encountered in double_scalars\n",
            "/usr/local/lib/python3.7/dist-packages/ipykernel_launcher.py:129: RuntimeWarning: invalid value encountered in double_scalars\n",
            "/usr/local/lib/python3.7/dist-packages/ipykernel_launcher.py:129: RuntimeWarning: invalid value encountered in double_scalars\n",
            "/usr/local/lib/python3.7/dist-packages/ipykernel_launcher.py:129: RuntimeWarning: invalid value encountered in double_scalars\n",
            "/usr/local/lib/python3.7/dist-packages/ipykernel_launcher.py:129: RuntimeWarning: invalid value encountered in double_scalars\n",
            "/usr/local/lib/python3.7/dist-packages/ipykernel_launcher.py:129: RuntimeWarning: invalid value encountered in double_scalars\n",
            "/usr/local/lib/python3.7/dist-packages/ipykernel_launcher.py:129: RuntimeWarning: invalid value encountered in double_scalars\n"
          ],
          "name": "stderr"
        },
        {
          "output_type": "stream",
          "text": [
            "l = 31\n",
            "Max profit =  661.2644481778498  --- (l, h) =  16 23\n"
          ],
          "name": "stdout"
        },
        {
          "output_type": "stream",
          "text": [
            "/usr/local/lib/python3.7/dist-packages/ipykernel_launcher.py:129: RuntimeWarning: invalid value encountered in double_scalars\n",
            "/usr/local/lib/python3.7/dist-packages/ipykernel_launcher.py:129: RuntimeWarning: invalid value encountered in double_scalars\n",
            "/usr/local/lib/python3.7/dist-packages/ipykernel_launcher.py:129: RuntimeWarning: invalid value encountered in double_scalars\n",
            "/usr/local/lib/python3.7/dist-packages/ipykernel_launcher.py:129: RuntimeWarning: invalid value encountered in double_scalars\n",
            "/usr/local/lib/python3.7/dist-packages/ipykernel_launcher.py:129: RuntimeWarning: invalid value encountered in double_scalars\n",
            "/usr/local/lib/python3.7/dist-packages/ipykernel_launcher.py:129: RuntimeWarning: invalid value encountered in double_scalars\n"
          ],
          "name": "stderr"
        },
        {
          "output_type": "stream",
          "text": [
            "l = 32\n",
            "Max profit =  661.2644481778498  --- (l, h) =  16 23\n"
          ],
          "name": "stdout"
        },
        {
          "output_type": "stream",
          "text": [
            "/usr/local/lib/python3.7/dist-packages/ipykernel_launcher.py:129: RuntimeWarning: invalid value encountered in double_scalars\n",
            "/usr/local/lib/python3.7/dist-packages/ipykernel_launcher.py:129: RuntimeWarning: invalid value encountered in double_scalars\n",
            "/usr/local/lib/python3.7/dist-packages/ipykernel_launcher.py:129: RuntimeWarning: invalid value encountered in double_scalars\n",
            "/usr/local/lib/python3.7/dist-packages/ipykernel_launcher.py:129: RuntimeWarning: invalid value encountered in double_scalars\n"
          ],
          "name": "stderr"
        },
        {
          "output_type": "stream",
          "text": [
            "l = 33\n",
            "Max profit =  661.2644481778498  --- (l, h) =  16 23\n"
          ],
          "name": "stdout"
        },
        {
          "output_type": "stream",
          "text": [
            "/usr/local/lib/python3.7/dist-packages/ipykernel_launcher.py:129: RuntimeWarning: invalid value encountered in double_scalars\n",
            "/usr/local/lib/python3.7/dist-packages/ipykernel_launcher.py:129: RuntimeWarning: invalid value encountered in double_scalars\n",
            "/usr/local/lib/python3.7/dist-packages/ipykernel_launcher.py:129: RuntimeWarning: invalid value encountered in double_scalars\n",
            "/usr/local/lib/python3.7/dist-packages/ipykernel_launcher.py:129: RuntimeWarning: invalid value encountered in double_scalars\n",
            "/usr/local/lib/python3.7/dist-packages/ipykernel_launcher.py:129: RuntimeWarning: invalid value encountered in double_scalars\n"
          ],
          "name": "stderr"
        },
        {
          "output_type": "stream",
          "text": [
            "l = 34\n",
            "Max profit =  661.2644481778498  --- (l, h) =  16 23\n"
          ],
          "name": "stdout"
        },
        {
          "output_type": "stream",
          "text": [
            "/usr/local/lib/python3.7/dist-packages/ipykernel_launcher.py:129: RuntimeWarning: invalid value encountered in double_scalars\n",
            "/usr/local/lib/python3.7/dist-packages/ipykernel_launcher.py:129: RuntimeWarning: invalid value encountered in double_scalars\n"
          ],
          "name": "stderr"
        },
        {
          "output_type": "stream",
          "text": [
            "l = 35\n",
            "Max profit =  661.2644481778498  --- (l, h) =  16 23\n"
          ],
          "name": "stdout"
        },
        {
          "output_type": "stream",
          "text": [
            "/usr/local/lib/python3.7/dist-packages/ipykernel_launcher.py:129: RuntimeWarning: invalid value encountered in double_scalars\n",
            "/usr/local/lib/python3.7/dist-packages/ipykernel_launcher.py:129: RuntimeWarning: invalid value encountered in double_scalars\n",
            "/usr/local/lib/python3.7/dist-packages/ipykernel_launcher.py:129: RuntimeWarning: invalid value encountered in double_scalars\n"
          ],
          "name": "stderr"
        },
        {
          "output_type": "stream",
          "text": [
            "l = 36\n",
            "Max profit =  661.2644481778498  --- (l, h) =  16 23\n"
          ],
          "name": "stdout"
        },
        {
          "output_type": "stream",
          "text": [
            "/usr/local/lib/python3.7/dist-packages/ipykernel_launcher.py:129: RuntimeWarning: invalid value encountered in double_scalars\n",
            "/usr/local/lib/python3.7/dist-packages/ipykernel_launcher.py:129: RuntimeWarning: invalid value encountered in double_scalars\n",
            "/usr/local/lib/python3.7/dist-packages/ipykernel_launcher.py:129: RuntimeWarning: invalid value encountered in double_scalars\n",
            "/usr/local/lib/python3.7/dist-packages/ipykernel_launcher.py:129: RuntimeWarning: invalid value encountered in double_scalars\n"
          ],
          "name": "stderr"
        },
        {
          "output_type": "stream",
          "text": [
            "l = 37\n",
            "Max profit =  661.2644481778498  --- (l, h) =  16 23\n"
          ],
          "name": "stdout"
        },
        {
          "output_type": "stream",
          "text": [
            "/usr/local/lib/python3.7/dist-packages/ipykernel_launcher.py:129: RuntimeWarning: invalid value encountered in double_scalars\n",
            "/usr/local/lib/python3.7/dist-packages/ipykernel_launcher.py:129: RuntimeWarning: invalid value encountered in double_scalars\n",
            "/usr/local/lib/python3.7/dist-packages/ipykernel_launcher.py:129: RuntimeWarning: invalid value encountered in double_scalars\n",
            "/usr/local/lib/python3.7/dist-packages/ipykernel_launcher.py:129: RuntimeWarning: invalid value encountered in double_scalars\n",
            "/usr/local/lib/python3.7/dist-packages/ipykernel_launcher.py:129: RuntimeWarning: invalid value encountered in double_scalars\n"
          ],
          "name": "stderr"
        },
        {
          "output_type": "stream",
          "text": [
            "l = 38\n",
            "Max profit =  661.2644481778498  --- (l, h) =  16 23\n"
          ],
          "name": "stdout"
        },
        {
          "output_type": "stream",
          "text": [
            "/usr/local/lib/python3.7/dist-packages/ipykernel_launcher.py:129: RuntimeWarning: invalid value encountered in double_scalars\n",
            "/usr/local/lib/python3.7/dist-packages/ipykernel_launcher.py:129: RuntimeWarning: invalid value encountered in double_scalars\n",
            "/usr/local/lib/python3.7/dist-packages/ipykernel_launcher.py:129: RuntimeWarning: invalid value encountered in double_scalars\n"
          ],
          "name": "stderr"
        },
        {
          "output_type": "stream",
          "text": [
            "l = 39\n",
            "Max profit =  661.2644481778498  --- (l, h) =  16 23\n"
          ],
          "name": "stdout"
        },
        {
          "output_type": "stream",
          "text": [
            "/usr/local/lib/python3.7/dist-packages/ipykernel_launcher.py:129: RuntimeWarning: invalid value encountered in double_scalars\n",
            "/usr/local/lib/python3.7/dist-packages/ipykernel_launcher.py:129: RuntimeWarning: invalid value encountered in double_scalars\n",
            "/usr/local/lib/python3.7/dist-packages/ipykernel_launcher.py:129: RuntimeWarning: invalid value encountered in double_scalars\n",
            "/usr/local/lib/python3.7/dist-packages/ipykernel_launcher.py:129: RuntimeWarning: invalid value encountered in double_scalars\n"
          ],
          "name": "stderr"
        },
        {
          "output_type": "stream",
          "text": [
            "l = 40\n",
            "Max profit =  661.2644481778498  --- (l, h) =  16 23\n"
          ],
          "name": "stdout"
        },
        {
          "output_type": "stream",
          "text": [
            "/usr/local/lib/python3.7/dist-packages/ipykernel_launcher.py:129: RuntimeWarning: invalid value encountered in double_scalars\n",
            "/usr/local/lib/python3.7/dist-packages/ipykernel_launcher.py:129: RuntimeWarning: invalid value encountered in double_scalars\n",
            "/usr/local/lib/python3.7/dist-packages/ipykernel_launcher.py:129: RuntimeWarning: invalid value encountered in double_scalars\n",
            "/usr/local/lib/python3.7/dist-packages/ipykernel_launcher.py:129: RuntimeWarning: invalid value encountered in double_scalars\n",
            "/usr/local/lib/python3.7/dist-packages/ipykernel_launcher.py:129: RuntimeWarning: invalid value encountered in double_scalars\n",
            "/usr/local/lib/python3.7/dist-packages/ipykernel_launcher.py:129: RuntimeWarning: invalid value encountered in double_scalars\n",
            "/usr/local/lib/python3.7/dist-packages/ipykernel_launcher.py:129: RuntimeWarning: invalid value encountered in double_scalars\n",
            "/usr/local/lib/python3.7/dist-packages/ipykernel_launcher.py:129: RuntimeWarning: invalid value encountered in double_scalars\n"
          ],
          "name": "stderr"
        },
        {
          "output_type": "stream",
          "text": [
            "l = 41\n",
            "Max profit =  661.2644481778498  --- (l, h) =  16 23\n"
          ],
          "name": "stdout"
        },
        {
          "output_type": "stream",
          "text": [
            "/usr/local/lib/python3.7/dist-packages/ipykernel_launcher.py:129: RuntimeWarning: invalid value encountered in double_scalars\n",
            "/usr/local/lib/python3.7/dist-packages/ipykernel_launcher.py:129: RuntimeWarning: invalid value encountered in double_scalars\n",
            "/usr/local/lib/python3.7/dist-packages/ipykernel_launcher.py:129: RuntimeWarning: invalid value encountered in double_scalars\n",
            "/usr/local/lib/python3.7/dist-packages/ipykernel_launcher.py:129: RuntimeWarning: invalid value encountered in double_scalars\n",
            "/usr/local/lib/python3.7/dist-packages/ipykernel_launcher.py:129: RuntimeWarning: invalid value encountered in double_scalars\n",
            "/usr/local/lib/python3.7/dist-packages/ipykernel_launcher.py:129: RuntimeWarning: invalid value encountered in double_scalars\n",
            "/usr/local/lib/python3.7/dist-packages/ipykernel_launcher.py:129: RuntimeWarning: invalid value encountered in double_scalars\n",
            "/usr/local/lib/python3.7/dist-packages/ipykernel_launcher.py:129: RuntimeWarning: invalid value encountered in double_scalars\n",
            "/usr/local/lib/python3.7/dist-packages/ipykernel_launcher.py:129: RuntimeWarning: invalid value encountered in double_scalars\n",
            "/usr/local/lib/python3.7/dist-packages/ipykernel_launcher.py:129: RuntimeWarning: invalid value encountered in double_scalars\n"
          ],
          "name": "stderr"
        },
        {
          "output_type": "stream",
          "text": [
            "l = 42\n",
            "Max profit =  661.2644481778498  --- (l, h) =  16 23\n"
          ],
          "name": "stdout"
        },
        {
          "output_type": "stream",
          "text": [
            "/usr/local/lib/python3.7/dist-packages/ipykernel_launcher.py:129: RuntimeWarning: invalid value encountered in double_scalars\n",
            "/usr/local/lib/python3.7/dist-packages/ipykernel_launcher.py:129: RuntimeWarning: invalid value encountered in double_scalars\n",
            "/usr/local/lib/python3.7/dist-packages/ipykernel_launcher.py:129: RuntimeWarning: invalid value encountered in double_scalars\n",
            "/usr/local/lib/python3.7/dist-packages/ipykernel_launcher.py:129: RuntimeWarning: invalid value encountered in double_scalars\n",
            "/usr/local/lib/python3.7/dist-packages/ipykernel_launcher.py:129: RuntimeWarning: invalid value encountered in double_scalars\n",
            "/usr/local/lib/python3.7/dist-packages/ipykernel_launcher.py:129: RuntimeWarning: invalid value encountered in double_scalars\n",
            "/usr/local/lib/python3.7/dist-packages/ipykernel_launcher.py:129: RuntimeWarning: invalid value encountered in double_scalars\n"
          ],
          "name": "stderr"
        },
        {
          "output_type": "stream",
          "text": [
            "l = 43\n",
            "Max profit =  661.2644481778498  --- (l, h) =  16 23\n"
          ],
          "name": "stdout"
        },
        {
          "output_type": "stream",
          "text": [
            "/usr/local/lib/python3.7/dist-packages/ipykernel_launcher.py:129: RuntimeWarning: invalid value encountered in double_scalars\n",
            "/usr/local/lib/python3.7/dist-packages/ipykernel_launcher.py:129: RuntimeWarning: invalid value encountered in double_scalars\n",
            "/usr/local/lib/python3.7/dist-packages/ipykernel_launcher.py:129: RuntimeWarning: invalid value encountered in double_scalars\n",
            "/usr/local/lib/python3.7/dist-packages/ipykernel_launcher.py:129: RuntimeWarning: invalid value encountered in double_scalars\n",
            "/usr/local/lib/python3.7/dist-packages/ipykernel_launcher.py:129: RuntimeWarning: invalid value encountered in double_scalars\n",
            "/usr/local/lib/python3.7/dist-packages/ipykernel_launcher.py:129: RuntimeWarning: invalid value encountered in double_scalars\n",
            "/usr/local/lib/python3.7/dist-packages/ipykernel_launcher.py:129: RuntimeWarning: invalid value encountered in double_scalars\n"
          ],
          "name": "stderr"
        },
        {
          "output_type": "stream",
          "text": [
            "l = 44\n",
            "Max profit =  661.2644481778498  --- (l, h) =  16 23\n"
          ],
          "name": "stdout"
        },
        {
          "output_type": "stream",
          "text": [
            "/usr/local/lib/python3.7/dist-packages/ipykernel_launcher.py:129: RuntimeWarning: invalid value encountered in double_scalars\n",
            "/usr/local/lib/python3.7/dist-packages/ipykernel_launcher.py:129: RuntimeWarning: invalid value encountered in double_scalars\n",
            "/usr/local/lib/python3.7/dist-packages/ipykernel_launcher.py:129: RuntimeWarning: invalid value encountered in double_scalars\n",
            "/usr/local/lib/python3.7/dist-packages/ipykernel_launcher.py:129: RuntimeWarning: invalid value encountered in double_scalars\n",
            "/usr/local/lib/python3.7/dist-packages/ipykernel_launcher.py:129: RuntimeWarning: invalid value encountered in double_scalars\n",
            "/usr/local/lib/python3.7/dist-packages/ipykernel_launcher.py:129: RuntimeWarning: invalid value encountered in double_scalars\n",
            "/usr/local/lib/python3.7/dist-packages/ipykernel_launcher.py:129: RuntimeWarning: invalid value encountered in double_scalars\n",
            "/usr/local/lib/python3.7/dist-packages/ipykernel_launcher.py:129: RuntimeWarning: invalid value encountered in double_scalars\n"
          ],
          "name": "stderr"
        },
        {
          "output_type": "stream",
          "text": [
            "l = 45\n",
            "Max profit =  661.2644481778498  --- (l, h) =  16 23\n"
          ],
          "name": "stdout"
        },
        {
          "output_type": "stream",
          "text": [
            "/usr/local/lib/python3.7/dist-packages/ipykernel_launcher.py:129: RuntimeWarning: invalid value encountered in double_scalars\n",
            "/usr/local/lib/python3.7/dist-packages/ipykernel_launcher.py:129: RuntimeWarning: invalid value encountered in double_scalars\n",
            "/usr/local/lib/python3.7/dist-packages/ipykernel_launcher.py:129: RuntimeWarning: invalid value encountered in double_scalars\n",
            "/usr/local/lib/python3.7/dist-packages/ipykernel_launcher.py:129: RuntimeWarning: invalid value encountered in double_scalars\n",
            "/usr/local/lib/python3.7/dist-packages/ipykernel_launcher.py:129: RuntimeWarning: invalid value encountered in double_scalars\n",
            "/usr/local/lib/python3.7/dist-packages/ipykernel_launcher.py:129: RuntimeWarning: invalid value encountered in double_scalars\n",
            "/usr/local/lib/python3.7/dist-packages/ipykernel_launcher.py:129: RuntimeWarning: invalid value encountered in double_scalars\n",
            "/usr/local/lib/python3.7/dist-packages/ipykernel_launcher.py:129: RuntimeWarning: invalid value encountered in double_scalars\n",
            "/usr/local/lib/python3.7/dist-packages/ipykernel_launcher.py:129: RuntimeWarning: invalid value encountered in double_scalars\n",
            "/usr/local/lib/python3.7/dist-packages/ipykernel_launcher.py:129: RuntimeWarning: invalid value encountered in double_scalars\n",
            "/usr/local/lib/python3.7/dist-packages/ipykernel_launcher.py:129: RuntimeWarning: invalid value encountered in double_scalars\n",
            "/usr/local/lib/python3.7/dist-packages/ipykernel_launcher.py:129: RuntimeWarning: invalid value encountered in double_scalars\n",
            "/usr/local/lib/python3.7/dist-packages/ipykernel_launcher.py:129: RuntimeWarning: invalid value encountered in double_scalars\n",
            "/usr/local/lib/python3.7/dist-packages/ipykernel_launcher.py:129: RuntimeWarning: invalid value encountered in double_scalars\n",
            "/usr/local/lib/python3.7/dist-packages/ipykernel_launcher.py:129: RuntimeWarning: invalid value encountered in double_scalars\n",
            "/usr/local/lib/python3.7/dist-packages/ipykernel_launcher.py:129: RuntimeWarning: invalid value encountered in double_scalars\n",
            "/usr/local/lib/python3.7/dist-packages/ipykernel_launcher.py:129: RuntimeWarning: invalid value encountered in double_scalars\n"
          ],
          "name": "stderr"
        },
        {
          "output_type": "stream",
          "text": [
            "l = 46\n",
            "Max profit =  661.2644481778498  --- (l, h) =  16 23\n"
          ],
          "name": "stdout"
        },
        {
          "output_type": "stream",
          "text": [
            "/usr/local/lib/python3.7/dist-packages/ipykernel_launcher.py:129: RuntimeWarning: invalid value encountered in double_scalars\n",
            "/usr/local/lib/python3.7/dist-packages/ipykernel_launcher.py:129: RuntimeWarning: invalid value encountered in double_scalars\n",
            "/usr/local/lib/python3.7/dist-packages/ipykernel_launcher.py:129: RuntimeWarning: invalid value encountered in double_scalars\n",
            "/usr/local/lib/python3.7/dist-packages/ipykernel_launcher.py:129: RuntimeWarning: invalid value encountered in double_scalars\n",
            "/usr/local/lib/python3.7/dist-packages/ipykernel_launcher.py:129: RuntimeWarning: invalid value encountered in double_scalars\n",
            "/usr/local/lib/python3.7/dist-packages/ipykernel_launcher.py:129: RuntimeWarning: invalid value encountered in double_scalars\n",
            "/usr/local/lib/python3.7/dist-packages/ipykernel_launcher.py:129: RuntimeWarning: invalid value encountered in double_scalars\n",
            "/usr/local/lib/python3.7/dist-packages/ipykernel_launcher.py:129: RuntimeWarning: invalid value encountered in double_scalars\n",
            "/usr/local/lib/python3.7/dist-packages/ipykernel_launcher.py:129: RuntimeWarning: invalid value encountered in double_scalars\n",
            "/usr/local/lib/python3.7/dist-packages/ipykernel_launcher.py:129: RuntimeWarning: invalid value encountered in double_scalars\n",
            "/usr/local/lib/python3.7/dist-packages/ipykernel_launcher.py:129: RuntimeWarning: invalid value encountered in double_scalars\n",
            "/usr/local/lib/python3.7/dist-packages/ipykernel_launcher.py:129: RuntimeWarning: invalid value encountered in double_scalars\n",
            "/usr/local/lib/python3.7/dist-packages/ipykernel_launcher.py:129: RuntimeWarning: invalid value encountered in double_scalars\n",
            "/usr/local/lib/python3.7/dist-packages/ipykernel_launcher.py:129: RuntimeWarning: invalid value encountered in double_scalars\n",
            "/usr/local/lib/python3.7/dist-packages/ipykernel_launcher.py:129: RuntimeWarning: invalid value encountered in double_scalars\n",
            "/usr/local/lib/python3.7/dist-packages/ipykernel_launcher.py:129: RuntimeWarning: invalid value encountered in double_scalars\n",
            "/usr/local/lib/python3.7/dist-packages/ipykernel_launcher.py:129: RuntimeWarning: invalid value encountered in double_scalars\n",
            "/usr/local/lib/python3.7/dist-packages/ipykernel_launcher.py:129: RuntimeWarning: invalid value encountered in double_scalars\n"
          ],
          "name": "stderr"
        },
        {
          "output_type": "stream",
          "text": [
            "l = 47\n",
            "Max profit =  661.2644481778498  --- (l, h) =  16 23\n"
          ],
          "name": "stdout"
        },
        {
          "output_type": "stream",
          "text": [
            "/usr/local/lib/python3.7/dist-packages/ipykernel_launcher.py:129: RuntimeWarning: invalid value encountered in double_scalars\n",
            "/usr/local/lib/python3.7/dist-packages/ipykernel_launcher.py:129: RuntimeWarning: invalid value encountered in double_scalars\n",
            "/usr/local/lib/python3.7/dist-packages/ipykernel_launcher.py:129: RuntimeWarning: invalid value encountered in double_scalars\n",
            "/usr/local/lib/python3.7/dist-packages/ipykernel_launcher.py:129: RuntimeWarning: invalid value encountered in double_scalars\n",
            "/usr/local/lib/python3.7/dist-packages/ipykernel_launcher.py:129: RuntimeWarning: invalid value encountered in double_scalars\n",
            "/usr/local/lib/python3.7/dist-packages/ipykernel_launcher.py:129: RuntimeWarning: invalid value encountered in double_scalars\n",
            "/usr/local/lib/python3.7/dist-packages/ipykernel_launcher.py:129: RuntimeWarning: invalid value encountered in double_scalars\n",
            "/usr/local/lib/python3.7/dist-packages/ipykernel_launcher.py:129: RuntimeWarning: invalid value encountered in double_scalars\n",
            "/usr/local/lib/python3.7/dist-packages/ipykernel_launcher.py:129: RuntimeWarning: invalid value encountered in double_scalars\n",
            "/usr/local/lib/python3.7/dist-packages/ipykernel_launcher.py:129: RuntimeWarning: invalid value encountered in double_scalars\n",
            "/usr/local/lib/python3.7/dist-packages/ipykernel_launcher.py:129: RuntimeWarning: invalid value encountered in double_scalars\n",
            "/usr/local/lib/python3.7/dist-packages/ipykernel_launcher.py:129: RuntimeWarning: invalid value encountered in double_scalars\n",
            "/usr/local/lib/python3.7/dist-packages/ipykernel_launcher.py:129: RuntimeWarning: invalid value encountered in double_scalars\n",
            "/usr/local/lib/python3.7/dist-packages/ipykernel_launcher.py:129: RuntimeWarning: invalid value encountered in double_scalars\n",
            "/usr/local/lib/python3.7/dist-packages/ipykernel_launcher.py:129: RuntimeWarning: invalid value encountered in double_scalars\n",
            "/usr/local/lib/python3.7/dist-packages/ipykernel_launcher.py:129: RuntimeWarning: invalid value encountered in double_scalars\n",
            "/usr/local/lib/python3.7/dist-packages/ipykernel_launcher.py:129: RuntimeWarning: invalid value encountered in double_scalars\n",
            "/usr/local/lib/python3.7/dist-packages/ipykernel_launcher.py:129: RuntimeWarning: invalid value encountered in double_scalars\n",
            "/usr/local/lib/python3.7/dist-packages/ipykernel_launcher.py:129: RuntimeWarning: invalid value encountered in double_scalars\n"
          ],
          "name": "stderr"
        },
        {
          "output_type": "stream",
          "text": [
            "Max profit =  661.2644481778498  --- (l, h) =  47 48\n"
          ],
          "name": "stdout"
        }
      ]
    }
  ]
}